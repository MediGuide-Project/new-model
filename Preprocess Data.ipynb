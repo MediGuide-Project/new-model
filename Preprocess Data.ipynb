{
  "cells": [
    {
      "cell_type": "markdown",
      "source": [
        "# Imports"
      ],
      "metadata": {
        "id": "iD0zMESsxFuv"
      },
      "id": "iD0zMESsxFuv"
    },
    {
      "cell_type": "code",
      "metadata": {
        "tags": [],
        "id": "L5nnalIu75Ny8tjQuu2p3fou"
      },
      "source": [
        "import os\n",
        "from google.colab import userdata\n",
        "\n",
        "# Note: `userdata.get` is a Colab API. If you're not using Colab, set the env\n",
        "# vars as appropriate for your system.\n",
        "os.environ[\"KAGGLE_USERNAME\"] = \"leonardomarcellino\"\n",
        "os.environ[\"KAGGLE_KEY\"] = \"97732c941f9704e4cb24c9c246cd7050\""
      ],
      "execution_count": null,
      "outputs": [],
      "id": "L5nnalIu75Ny8tjQuu2p3fou"
    },
    {
      "cell_type": "code",
      "source": [
        "!pip install -q -U keras-nlp\n",
        "!pip install -q -U keras>=3"
      ],
      "metadata": {
        "id": "QlTdzo-pg9_z",
        "colab": {
          "base_uri": "https://localhost:8080/"
        },
        "executionInfo": {
          "status": "ok",
          "timestamp": 1717588996156,
          "user_tz": -420,
          "elapsed": 129594,
          "user": {
            "displayName": "",
            "userId": ""
          }
        },
        "outputId": "77c16c7c-85fb-4f55-9f07-f369ae48c1c7"
      },
      "execution_count": null,
      "outputs": [
        {
          "output_type": "stream",
          "name": "stdout",
          "text": [
            "\u001b[2K     \u001b[90m━━━━━━━━━━━━━━━━━━━━━━━━━━━━━━━━━━━━━━━━\u001b[0m \u001b[32m570.5/570.5 kB\u001b[0m \u001b[31m6.7 MB/s\u001b[0m eta \u001b[36m0:00:00\u001b[0m\n",
            "\u001b[2K     \u001b[90m━━━━━━━━━━━━━━━━━━━━━━━━━━━━━━━━━━━━━━━━\u001b[0m \u001b[32m950.8/950.8 kB\u001b[0m \u001b[31m30.6 MB/s\u001b[0m eta \u001b[36m0:00:00\u001b[0m\n",
            "\u001b[2K     \u001b[90m━━━━━━━━━━━━━━━━━━━━━━━━━━━━━━━━━━━━━━━━\u001b[0m \u001b[32m5.2/5.2 MB\u001b[0m \u001b[31m65.2 MB/s\u001b[0m eta \u001b[36m0:00:00\u001b[0m\n",
            "\u001b[2K     \u001b[90m━━━━━━━━━━━━━━━━━━━━━━━━━━━━━━━━━━━━━━━━\u001b[0m \u001b[32m589.8/589.8 MB\u001b[0m \u001b[31m1.3 MB/s\u001b[0m eta \u001b[36m0:00:00\u001b[0m\n",
            "\u001b[2K     \u001b[90m━━━━━━━━━━━━━━━━━━━━━━━━━━━━━━━━━━━━━━━━\u001b[0m \u001b[32m5.3/5.3 MB\u001b[0m \u001b[31m58.8 MB/s\u001b[0m eta \u001b[36m0:00:00\u001b[0m\n",
            "\u001b[2K     \u001b[90m━━━━━━━━━━━━━━━━━━━━━━━━━━━━━━━━━━━━━━━━\u001b[0m \u001b[32m2.2/2.2 MB\u001b[0m \u001b[31m68.4 MB/s\u001b[0m eta \u001b[36m0:00:00\u001b[0m\n",
            "\u001b[2K     \u001b[90m━━━━━━━━━━━━━━━━━━━━━━━━━━━━━━━━━━━━━━━━\u001b[0m \u001b[32m5.5/5.5 MB\u001b[0m \u001b[31m76.0 MB/s\u001b[0m eta \u001b[36m0:00:00\u001b[0m\n",
            "\u001b[2K     \u001b[90m━━━━━━━━━━━━━━━━━━━━━━━━━━━━━━━━━━━━━━━━\u001b[0m \u001b[32m1.1/1.1 MB\u001b[0m \u001b[31m52.5 MB/s\u001b[0m eta \u001b[36m0:00:00\u001b[0m\n",
            "\u001b[2K     \u001b[90m━━━━━━━━━━━━━━━━━━━━━━━━━━━━━━━━━━━━━━━━\u001b[0m \u001b[32m311.2/311.2 kB\u001b[0m \u001b[31m29.5 MB/s\u001b[0m eta \u001b[36m0:00:00\u001b[0m\n",
            "\u001b[?25h\u001b[31mERROR: pip's dependency resolver does not currently take into account all the packages that are installed. This behaviour is the source of the following dependency conflicts.\n",
            "tf-keras 2.15.1 requires tensorflow<2.16,>=2.15, but you have tensorflow 2.16.1 which is incompatible.\u001b[0m\u001b[31m\n",
            "\u001b[0m"
          ]
        }
      ],
      "id": "QlTdzo-pg9_z"
    },
    {
      "cell_type": "code",
      "source": [
        "import os\n",
        "\n",
        "os.environ[\"KERAS_BACKEND\"] = \"tensorflow\"  # Or \"tensorflow\" or \"torch\".\n",
        "os.environ[\"XLA_PYTHON_CLIENT_MEM_FRACTION\"] = \"0.9\""
      ],
      "metadata": {
        "id": "LouQQMAhhFxQ"
      },
      "execution_count": null,
      "outputs": [],
      "id": "LouQQMAhhFxQ"
    },
    {
      "cell_type": "code",
      "source": [
        "import keras\n",
        "import keras_nlp"
      ],
      "metadata": {
        "id": "tb4snUnJhRWL"
      },
      "execution_count": null,
      "outputs": [],
      "id": "tb4snUnJhRWL"
    },
    {
      "cell_type": "markdown",
      "source": [
        "# Load dataset"
      ],
      "metadata": {
        "id": "iyOLva_oxPKw"
      },
      "id": "iyOLva_oxPKw"
    },
    {
      "cell_type": "code",
      "source": [
        "!pip install jsonlines"
      ],
      "metadata": {
        "colab": {
          "base_uri": "https://localhost:8080/"
        },
        "id": "vg35K3qSrhFX",
        "executionInfo": {
          "status": "ok",
          "timestamp": 1717506292518,
          "user_tz": -420,
          "elapsed": 8920,
          "user": {
            "displayName": "",
            "userId": ""
          }
        },
        "outputId": "8d136e96-c41f-475d-a2e7-463d03c9ec3d",
        "collapsed": true
      },
      "execution_count": null,
      "outputs": [
        {
          "output_type": "stream",
          "name": "stdout",
          "text": [
            "Requirement already satisfied: jsonlines in /usr/local/lib/python3.10/dist-packages (4.0.0)\n",
            "Requirement already satisfied: attrs>=19.2.0 in /usr/local/lib/python3.10/dist-packages (from jsonlines) (23.2.0)\n"
          ]
        }
      ],
      "id": "vg35K3qSrhFX"
    },
    {
      "cell_type": "code",
      "source": [
        "import jsonlines"
      ],
      "metadata": {
        "id": "qIO5F3GeCyFc",
        "colab": {
          "base_uri": "https://localhost:8080/",
          "height": 316
        },
        "executionInfo": {
          "status": "error",
          "timestamp": 1717593586444,
          "user_tz": -420,
          "elapsed": 24,
          "user": {
            "displayName": "",
            "userId": ""
          }
        },
        "outputId": "71d88e77-319a-463f-dc31-5a74ca02797e"
      },
      "execution_count": 1,
      "outputs": [
        {
          "output_type": "error",
          "ename": "ModuleNotFoundError",
          "evalue": "No module named 'jsonlines'",
          "traceback": [
            "\u001b[0;31m---------------------------------------------------------------------------\u001b[0m",
            "\u001b[0;31mModuleNotFoundError\u001b[0m                       Traceback (most recent call last)",
            "\u001b[0;32m<ipython-input-1-cac772e3f8c4>\u001b[0m in \u001b[0;36m<cell line: 1>\u001b[0;34m()\u001b[0m\n\u001b[0;32m----> 1\u001b[0;31m \u001b[0;32mimport\u001b[0m \u001b[0mjsonlines\u001b[0m\u001b[0;34m\u001b[0m\u001b[0;34m\u001b[0m\u001b[0m\n\u001b[0m",
            "\u001b[0;31mModuleNotFoundError\u001b[0m: No module named 'jsonlines'",
            "",
            "\u001b[0;31m---------------------------------------------------------------------------\u001b[0;32m\nNOTE: If your import is failing due to a missing package, you can\nmanually install dependencies using either !pip or !apt.\n\nTo view examples of installing some common dependencies, click the\n\"Open Examples\" button below.\n\u001b[0;31m---------------------------------------------------------------------------\u001b[0m\n"
          ],
          "errorDetails": {
            "actions": [
              {
                "action": "open_url",
                "actionText": "Open Examples",
                "url": "/notebooks/snippets/importing_libraries.ipynb"
              }
            ]
          }
        }
      ],
      "id": "qIO5F3GeCyFc"
    },
    {
      "cell_type": "code",
      "source": [
        "!pip install datasets"
      ],
      "metadata": {
        "collapsed": true,
        "id": "ffbpnzO8lyjo",
        "executionInfo": {
          "status": "aborted",
          "timestamp": 1717593586447,
          "user_tz": -420,
          "elapsed": 22,
          "user": {
            "displayName": "",
            "userId": ""
          }
        }
      },
      "execution_count": null,
      "outputs": [],
      "id": "ffbpnzO8lyjo"
    },
    {
      "cell_type": "code",
      "source": [
        "from datasets import load_dataset"
      ],
      "metadata": {
        "id": "xy8QYdHOCPdc",
        "executionInfo": {
          "status": "aborted",
          "timestamp": 1717593586449,
          "user_tz": -420,
          "elapsed": 22,
          "user": {
            "displayName": "",
            "userId": ""
          }
        }
      },
      "execution_count": null,
      "outputs": [],
      "id": "xy8QYdHOCPdc"
    },
    {
      "cell_type": "markdown",
      "source": [
        "Untuk remove downloaded dataset stlh diubah ke JSONL"
      ],
      "metadata": {
        "id": "7dY8vFQ7BEFl"
      },
      "id": "7dY8vFQ7BEFl"
    },
    {
      "cell_type": "code",
      "source": [
        "import shutil\n",
        "import glob"
      ],
      "metadata": {
        "id": "Rz_Uj56cBDzc"
      },
      "execution_count": null,
      "outputs": [],
      "id": "Rz_Uj56cBDzc"
    },
    {
      "cell_type": "markdown",
      "source": [
        "## dataset ruslanmv/ai-medical-chatbot"
      ],
      "metadata": {
        "id": "z9pm0YhMCQ-h"
      },
      "id": "z9pm0YhMCQ-h"
    },
    {
      "cell_type": "code",
      "source": [
        "dataset = load_dataset(\"ruslanmv/ai-medical-chatbot\")"
      ],
      "metadata": {
        "id": "WKVjkG1-h9Y4",
        "colab": {
          "base_uri": "https://localhost:8080/",
          "height": 237,
          "referenced_widgets": [
            "b31e5da47fdf46ec9217a0e46b5243b0",
            "3bd74d57cde440488b6f81f4eb1ae820",
            "45346ffba7104513971f347ec099df0b",
            "53c0c9e318444836b1d25a4e3a45d272",
            "72fce336665745c883d5361cd509f8f7",
            "e851e4fb21754a3fb4bdcbdb6a9c8239",
            "6917f09ab7094662a125483056facaf2",
            "77fa17c4c10b412bba6419a159a52811",
            "4c9c52b9be9d47039664f800515583c8",
            "b2b557cd26244e1099266e1635464d1e",
            "7d52125dbd044ff191652ea83d12e200",
            "05f8747ae82244c48d07a15eb3aadd87",
            "90970a4a3b64404ea4e4cb8fc86ef75a",
            "8f81758f5a4e43eb904d308a0a8008b0",
            "bc697bad08474ef6952b0b08ee416b65",
            "681bed5760fc487ea669da80022fd5fd",
            "3a494817ac9e4d389f9bf119a1fd5da7",
            "f614f2635c1743bca18d9d022fac8f86",
            "041455bfe88c4a909cc69db67bde185d",
            "23ccbd0b73044228a4ef2a6e599993b2",
            "99702b9259504801be914493c5e0039b",
            "594e19f426dc44d1b10a1c52d40802fa",
            "15722430ab424bd385cfb35561fcb6aa",
            "04b6207261974e23bc581e3296863bf3",
            "e3a6fdfcaa5c4801b035be67edea4135",
            "767cd989791a48259ce16b0f3cfda68f",
            "442dc88d4cad47f88567ce368bc164eb",
            "e71a813cb8d140b28e4ab291e4d17764",
            "06eef6e8408e4b8ab309b9e7f4063fa1",
            "fb7795d732694438a35ff4e9a9e5f8e1",
            "1deb937d34664cecb373442d968bbb88",
            "82df121b9cb243c9a1ccd0428d316c5f",
            "14bfb66a94b641f2b8636276f9ce416c"
          ]
        },
        "executionInfo": {
          "status": "ok",
          "timestamp": 1717506317931,
          "user_tz": -420,
          "elapsed": 12131,
          "user": {
            "displayName": "",
            "userId": ""
          }
        },
        "outputId": "f1bfd5a8-b5a5-43c8-b6ab-0ef713452735"
      },
      "execution_count": null,
      "outputs": [
        {
          "output_type": "stream",
          "name": "stderr",
          "text": [
            "/usr/local/lib/python3.10/dist-packages/huggingface_hub/utils/_token.py:89: UserWarning: \n",
            "The secret `HF_TOKEN` does not exist in your Colab secrets.\n",
            "To authenticate with the Hugging Face Hub, create a token in your settings tab (https://huggingface.co/settings/tokens), set it as secret in your Google Colab and restart your session.\n",
            "You will be able to reuse this secret in all of your notebooks.\n",
            "Please note that authentication is recommended but still optional to access public models or datasets.\n",
            "  warnings.warn(\n"
          ]
        },
        {
          "output_type": "display_data",
          "data": {
            "text/plain": [
              "Downloading readme:   0%|          | 0.00/863 [00:00<?, ?B/s]"
            ],
            "application/vnd.jupyter.widget-view+json": {
              "version_major": 2,
              "version_minor": 0,
              "model_id": "b31e5da47fdf46ec9217a0e46b5243b0"
            }
          },
          "metadata": {}
        },
        {
          "output_type": "display_data",
          "data": {
            "text/plain": [
              "Downloading data:   0%|          | 0.00/142M [00:00<?, ?B/s]"
            ],
            "application/vnd.jupyter.widget-view+json": {
              "version_major": 2,
              "version_minor": 0,
              "model_id": "05f8747ae82244c48d07a15eb3aadd87"
            }
          },
          "metadata": {}
        },
        {
          "output_type": "display_data",
          "data": {
            "text/plain": [
              "Generating train split:   0%|          | 0/256916 [00:00<?, ? examples/s]"
            ],
            "application/vnd.jupyter.widget-view+json": {
              "version_major": 2,
              "version_minor": 0,
              "model_id": "15722430ab424bd385cfb35561fcb6aa"
            }
          },
          "metadata": {}
        }
      ],
      "id": "WKVjkG1-h9Y4"
    },
    {
      "cell_type": "code",
      "source": [
        "print(dataset)"
      ],
      "metadata": {
        "id": "DZvAEGsJmqqS",
        "colab": {
          "base_uri": "https://localhost:8080/"
        },
        "executionInfo": {
          "status": "ok",
          "timestamp": 1717504846396,
          "user_tz": -420,
          "elapsed": 9,
          "user": {
            "displayName": "",
            "userId": ""
          }
        },
        "outputId": "6d3cf07b-8b24-4c5c-aa67-4d4907535cb3"
      },
      "execution_count": null,
      "outputs": [
        {
          "output_type": "stream",
          "name": "stdout",
          "text": [
            "DatasetDict({\n",
            "    train: Dataset({\n",
            "        features: ['Description', 'Patient', 'Doctor'],\n",
            "        num_rows: 256916\n",
            "    })\n",
            "})\n"
          ]
        }
      ],
      "id": "DZvAEGsJmqqS"
    },
    {
      "cell_type": "markdown",
      "source": [
        "Extract and save dataset to JSONL format"
      ],
      "metadata": {
        "id": "ge8sibKjD67D"
      },
      "id": "ge8sibKjD67D"
    },
    {
      "cell_type": "code",
      "source": [
        "# Extract columns from train set\n",
        "train_data = dataset['train'].shuffle(seed=42)\n",
        "descriptions = train_data['Description']\n",
        "patients = train_data['Patient']\n",
        "doctors = train_data['Doctor']"
      ],
      "metadata": {
        "id": "M1QgIf05R72k"
      },
      "execution_count": null,
      "outputs": [],
      "id": "M1QgIf05R72k"
    },
    {
      "cell_type": "code",
      "source": [
        "# Save to JSONL\n",
        "with jsonlines.open('ai_medical_chatbot_train.jsonl', mode='w') as writer:\n",
        "    for description, patient, doctor in zip(descriptions, patients, doctors):\n",
        "        writer.write({\n",
        "            'Description': description,\n",
        "            'Patient': patient,\n",
        "            'Doctor': doctor\n",
        "        })"
      ],
      "metadata": {
        "id": "bkPPtJpLrYLT"
      },
      "execution_count": null,
      "outputs": [],
      "id": "bkPPtJpLrYLT"
    },
    {
      "cell_type": "markdown",
      "source": [
        "Delete downloaded dataset"
      ],
      "metadata": {
        "id": "DVSbM7sHJ-US"
      },
      "id": "DVSbM7sHJ-US"
    },
    {
      "cell_type": "code",
      "source": [
        "# Delete all potential cached dataset directories\n",
        "cache_dirs = set()\n",
        "\n",
        "# Adding dataset specific cache directories\n",
        "for split in dataset.keys():\n",
        "    for cache_file in dataset[split].cache_files:\n",
        "        cache_dirs.add(os.path.dirname(cache_file['filename']))\n",
        "\n",
        "# Add common dataset cache directories (if any)\n",
        "cache_dirs.add(os.path.expanduser(\"~/.cache/huggingface/datasets\"))\n",
        "cache_dirs.add(\"/root/.cache/huggingface/datasets\")\n",
        "\n",
        "# Also check common directories in colab environment\n",
        "cache_dirs.update(glob.glob('/root/.cache/huggingface/datasets/**/', recursive=True))\n",
        "\n",
        "for cache_dir in cache_dirs:\n",
        "    if os.path.exists(cache_dir):\n",
        "        shutil.rmtree(cache_dir)\n",
        "        print(f\"Removed cache directory: {cache_dir}\")"
      ],
      "metadata": {
        "id": "Vm4eUmTqA_BI",
        "colab": {
          "base_uri": "https://localhost:8080/"
        },
        "executionInfo": {
          "status": "ok",
          "timestamp": 1717506334401,
          "user_tz": -420,
          "elapsed": 364,
          "user": {
            "displayName": "",
            "userId": ""
          }
        },
        "outputId": "a39042a9-ea8b-4f16-f64d-ba44c4618ca1"
      },
      "execution_count": null,
      "outputs": [
        {
          "output_type": "stream",
          "name": "stdout",
          "text": [
            "Removed cache directory: /root/.cache/huggingface/datasets/ruslanmv___ai-medical-dataset/default/\n",
            "Removed cache directory: /root/.cache/huggingface/datasets/ruslanmv___ai-medical-chatbot/default/0.0.0/138c99336a3afce0df88ffe6fd67bd231df25d36/\n",
            "Removed cache directory: /root/.cache/huggingface/datasets/ruslanmv___ai-medical-chatbot/default/\n",
            "Removed cache directory: /root/.cache/huggingface/datasets/\n"
          ]
        }
      ],
      "id": "Vm4eUmTqA_BI"
    },
    {
      "cell_type": "markdown",
      "source": [
        "Check the data"
      ],
      "metadata": {
        "id": "0TmRlzKqD-hG"
      },
      "id": "0TmRlzKqD-hG"
    },
    {
      "cell_type": "code",
      "source": [
        "train_data[0]"
      ],
      "metadata": {
        "colab": {
          "base_uri": "https://localhost:8080/"
        },
        "id": "WHXCBTY3vaBx",
        "executionInfo": {
          "status": "ok",
          "timestamp": 1717504875944,
          "user_tz": -420,
          "elapsed": 158,
          "user": {
            "displayName": "",
            "userId": ""
          }
        },
        "outputId": "493d8625-bb63-40d6-c2a1-6e42dec1824e"
      },
      "execution_count": null,
      "outputs": [
        {
          "output_type": "execute_result",
          "data": {
            "text/plain": [
              "{'Description': 'Appendix cancer, adino carcinoma, removed partial intestine. Suggestion?',\n",
              " 'Patient': 'last year my wife was went through a surgery for appendix cancer, that appendix was removed , that appendix slice tested in lab and found so called adino carcinoma in apedix,  after that doctor decided to operate again and remove her partial intestine, there was no sign of cancer in any test other than the biopsy of appendix, however  after one moth of hospitalization came back to home, 6 month of follow up check up no bad sign, now almost one year of surgery puss mark notice at steches near belly button .Please advice this is not a sign of any cancer',\n",
              " 'Doctor': 'Hi and welcome to HCM. First, you dont have to worry. This cant be tumour relaps because this is lesion in abdominall wall,obviously some local infection or wound abscess.This is often seen after laparotomy. Appendix cancers are rare but in most cases surgery is enough for complete treatment and recovery. If tehre were no found metastasis or extended disease during the surgery, you dont have to expect relaps. If they found it they would recomend chemotherapy. This lesion around belly can be treated with antibiotic creams or by surgical drainage. Wish you good health.'}"
            ]
          },
          "metadata": {},
          "execution_count": 26
        }
      ],
      "id": "WHXCBTY3vaBx"
    },
    {
      "cell_type": "code",
      "source": [
        "# Buka file JSONL\n",
        "with jsonlines.open('ai_medical_chatbot_train.jsonl', mode='r') as reader:\n",
        "    # Baca satu baris pertama\n",
        "    first_line = reader.read()\n",
        "\n",
        "# Cetak baris pertama\n",
        "print(first_line)"
      ],
      "metadata": {
        "colab": {
          "base_uri": "https://localhost:8080/"
        },
        "id": "tjZLLEumrYVF",
        "executionInfo": {
          "status": "ok",
          "timestamp": 1717506334401,
          "user_tz": -420,
          "elapsed": 6,
          "user": {
            "displayName": "",
            "userId": ""
          }
        },
        "outputId": "201e659a-1dea-43a9-9154-8ef3dab5a5df"
      },
      "execution_count": null,
      "outputs": [
        {
          "output_type": "stream",
          "name": "stdout",
          "text": [
            "{'Description': 'Appendix cancer, adino carcinoma, removed partial intestine. Suggestion?', 'Patient': 'last year my wife was went through a surgery for appendix cancer, that appendix was removed , that appendix slice tested in lab and found so called adino carcinoma in apedix,  after that doctor decided to operate again and remove her partial intestine, there was no sign of cancer in any test other than the biopsy of appendix, however  after one moth of hospitalization came back to home, 6 month of follow up check up no bad sign, now almost one year of surgery puss mark notice at steches near belly button .Please advice this is not a sign of any cancer', 'Doctor': 'Hi and welcome to HCM. First, you dont have to worry. This cant be tumour relaps because this is lesion in abdominall wall,obviously some local infection or wound abscess.This is often seen after laparotomy. Appendix cancers are rare but in most cases surgery is enough for complete treatment and recovery. If tehre were no found metastasis or extended disease during the surgery, you dont have to expect relaps. If they found it they would recomend chemotherapy. This lesion around belly can be treated with antibiotic creams or by surgical drainage. Wish you good health.'}\n"
          ]
        }
      ],
      "id": "tjZLLEumrYVF"
    },
    {
      "cell_type": "code",
      "source": [
        "first_line"
      ],
      "metadata": {
        "colab": {
          "base_uri": "https://localhost:8080/"
        },
        "id": "ErnRtIj2vtig",
        "executionInfo": {
          "status": "ok",
          "timestamp": 1717479336052,
          "user_tz": -420,
          "elapsed": 230,
          "user": {
            "displayName": "",
            "userId": ""
          }
        },
        "outputId": "923b8d18-7407-4271-9bff-700334336e87"
      },
      "execution_count": null,
      "outputs": [
        {
          "output_type": "execute_result",
          "data": {
            "text/plain": [
              "{'Description': 'Q. What does abutment of the nerve root mean?',\n",
              " 'Patient': 'Hi doctor,I am just wondering what is abutting and abutment of the nerve root means in a back issue. Please explain. What treatment is required for\\xa0annular bulging and tear?',\n",
              " 'Doctor': 'Hi. I have gone through your query with diligence and would like you to know that I am here to help you. For further information consult a neurologist online -->'}"
            ]
          },
          "metadata": {},
          "execution_count": 24
        }
      ],
      "id": "ErnRtIj2vtig"
    },
    {
      "cell_type": "markdown",
      "source": [
        "Save JSONL format dataset to empty list for training"
      ],
      "metadata": {
        "id": "tvLOoz65ECFF"
      },
      "id": "tvLOoz65ECFF"
    },
    {
      "cell_type": "code",
      "source": [
        "import jsonlines\n",
        "import json\n",
        "# Membuat list kosong untuk menyimpan data\n",
        "data = []"
      ],
      "metadata": {
        "id": "D19NukJBEL2A"
      },
      "execution_count": null,
      "outputs": [],
      "id": "D19NukJBEL2A"
    },
    {
      "cell_type": "code",
      "source": [
        "# Buka file JSONL\n",
        "with jsonlines.open('ai_medical_chatbot_train.jsonl', mode='r') as reader:\n",
        "    # Membaca setiap baris dari file\n",
        "    for features in reader:\n",
        "        # Format teks instruksi dan tanggapan\n",
        "        template = \"Instruction:\\n{Patient}\\n\\nResponse:\\n{Doctor}\"\n",
        "        data.append(template.format(**features))\n",
        "\n",
        "# Cetak data (10 contoh pertama)\n",
        "print(data[:10])"
      ],
      "metadata": {
        "colab": {
          "base_uri": "https://localhost:8080/"
        },
        "id": "KgPGmTewt8WP",
        "executionInfo": {
          "status": "ok",
          "timestamp": 1717506338440,
          "user_tz": -420,
          "elapsed": 3890,
          "user": {
            "displayName": "",
            "userId": ""
          }
        },
        "outputId": "78679e4e-87df-4e20-8e5d-6766e12eccd7"
      },
      "execution_count": null,
      "outputs": [
        {
          "output_type": "stream",
          "name": "stdout",
          "text": [
            "['Instruction:\\nlast year my wife was went through a surgery for appendix cancer, that appendix was removed , that appendix slice tested in lab and found so called adino carcinoma in apedix,  after that doctor decided to operate again and remove her partial intestine, there was no sign of cancer in any test other than the biopsy of appendix, however  after one moth of hospitalization came back to home, 6 month of follow up check up no bad sign, now almost one year of surgery puss mark notice at steches near belly button .Please advice this is not a sign of any cancer\\n\\nResponse:\\nHi and welcome to HCM. First, you dont have to worry. This cant be tumour relaps because this is lesion in abdominall wall,obviously some local infection or wound abscess.This is often seen after laparotomy. Appendix cancers are rare but in most cases surgery is enough for complete treatment and recovery. If tehre were no found metastasis or extended disease during the surgery, you dont have to expect relaps. If they found it they would recomend chemotherapy. This lesion around belly can be treated with antibiotic creams or by surgical drainage. Wish you good health.', 'Instruction:\\none of my elder sister was suffering from renal cell carcinoma .Four months before doctors completed nephrectomy of her right kidney.A completion of nephrectomy one oncologist completed 20 radiotherapy course. Now it is showing recurrence of carcinoma near the right kidney.At this moment dr. suggest to eat tab-surafenib 400mg twice daily. we are not rely on this doctor.There is any better treatment for her. cancer still not spread another part of the body. Please suggest. Thanks Rabiul Islam.\\n\\nResponse:\\nsince you said your sister has recurrence it is important to confirm whether recurrence is confined to local region only or if there is spread to distant parts of the body. If the recurrence is solitary, resection of the lesion would help. Sorafenib  is for metastatic disease. Since her disease has come back in just 4months, you need to understand that she has got aggressive cancer and whatever treatment is offered the responses are shortlived', 'Instruction:\\nHi doctor, I am 31 years old. I am trying to conceive for two years and did four Comid cycles, ovulation happened but no conception. Then did Letrozole cycle, and got pregnant. But was later diagnosed with molar pregnancy and had D and C. Then took a break for six months, again did two Clomid cycles ovulation happened but no conception. Now did Letrozole cycle but no conception. I do not understand what is the reason for no pregnancy. My husband did his semen analysis it is 42% normal. My hormones tests for FSH, prolactin was normal, and pelvic ultrasounds are normal. Could you please guide me regarding this? I am really upset.\\n\\nResponse:\\nHi. As you have taken many treatments but pregnancy is not happening. Actually I need to see all the investigations before coming to a conclusion. But with your history, I can say that you can do hysterosalpingography, to see the tubes are good or not. If not satisfactory then you may require a laparoscopic-hysteroscopic examination to see the tubal cyst and endometrial lining. There is a history of molar pregnancy, so need to do some more test also. Pregnancy is not a simple process. You can consult infertologist with all the previous reports and can continue the treatment. Many times it takes more time. Because it is very complicated. And the chance of pregnancy is only once in one cycle. Patience and a positive attitude towards treatment are also as important as the treatment itself.', 'Instruction:\\nHi doctor. My GGT reading in my liver function was abou 850; but a CT scan revealed no scar or damage to my liver and every other about the liver appeared normal except that it was mildly enlarged leading to a conclusion of mild hepatomegaly. I have been placed on Livolin Forte for 1 month and within 2 weeks of intake, my GGT dropped to 650. Every other parameter in liver has dropped to normal. What this portend for me and what is the hope of my liver normalising?\\n\\nResponse:\\nthank you for posting query.increased GGT presentation but with Insufficient history.increased ggt without increased liver enzymes maybe due to 1. alcohol abuse     2. gall bladder pathology    3. certain medicationhave you ruled out all causes. underwent blood tests and radiological examination (ct and ultrasound of abdomen). if not, do it asap.Livolin fort is safe to use.further advice:- abstinence from \"Alcohol and drugs\" - LOW fat diet should be followed- vegetables should be ingested daily- use lemon juice (lemonade) once in a day- walk 30 to 40 minutes everyday.- or swimming is alternative to walking-\"recheck GGT enzyme after 6 to 8 weeks\".if any further questions, feel free to ask.Health professionals aim to diagnose properly and manage patients according to their limited knowledge. Cure is blessed by the ONE who Created us, whose power and knowledge is unlimited .wish you good health.regards,Dr Tayyab Malik', 'Instruction:\\nI have been suffering from IBS ( Irritable Bowel Syndrome ) problem from 4 years now (2008-2010 and now again in 2012). I am suffering from pain in my right abdomen (lower side) with constipated motions. This pain also radiates to my right leg and back sometimes (especially while applying pressure to evacuate). I also feel an urge to evacuate after having meals. Frequency is more than thrice a day. I feel less energetic and lethargic. And I also feel frequent urination . Occasionally, feel bloated and acidity. The problems have resurfaced after I underwent an appendicitis surgery in Aug 2012. I took allopathic medicines in 2008 and by taking heavy doses of anti-spasmodics, antidepressants and other medicines over a year, the problems got subsided but the same problems have reoccurred now and posing numerous problems in my personal as well as professional life. I have also undergone alternative therapies ( ayurvedic and herbal treatments) but didn t help much. I have been taking care of my diet as various doctors said IBS is aggravated due to imbalanced and gas-producing foods.... I only get temporary relief and the problems reoccur if I stop medications. I have also felt the problem increases (pain as well as constipation) when i masturbate. Please help me out as it has been a harrowing experience as I have taken so many tests (all are normal), consulting numerous doctors without any effective results and it is really depressing sometimes.\\n\\nResponse:\\nHi welcome to Health care magic forum. Thanks for calling H.C.M.Forum. you have got pain in right lower abdomen , some times spreading to back and leg when straining for defaecation. You feel an urge to evacuate, after food, You feel less energetic, and lethergic. You also feel bloating and acidic. Pain recurred after a surgery for appendicitis. You have got frequency of micturition. and pain increasing after masturbation. No relief with many treatments, and many systems of medicines. I advise you to consult an urologist for diagnosis and treatment. Have the urinary system examined for prostate, urinary tract infection, or stones in the urinary tract, which would have co existed along with I.B.S. Avoid taking spices, junk foods, and oily foods. Avoid untimely diet. Practice diversion procedures like yoga, meditation, reading books like magazines, and hearing interested music. Wishing for a quick and complete recovery. Best regards.', 'Instruction:\\nmy sister is suffering from ovarian cancer.we awared of it just 2 days ago through her biopsy report and now the cancer has reached its 4th stage what to do now for her long life please help us\\n\\nResponse:\\nHi,Welcome to HCM. Stage 4 ovarian cancer is not curable. Ovarian cancer is a dangerous cancer because it is asymptomatic and is often not diagnosed until it is in its advanced stages. Between 2000 and 2010, the rates of diagnosis of ovarian cancer have remained relatively stable, with a decrease of less than 1 percent annually in the number of women diagnosed. The mortality rate and life expectancies have remained stable.For stage IV ovarian cancer, the 5-year survival rate is 17.5%. Take care.', \"Instruction:\\ni am 35 year old male and have a fatty liver for the past 9 years now and apparently high uric acid levels also . drinking alcohol for the past about 18 years regularly. I feel fatigued and drained when wake up in the morning and have pain in the ankles and knees. I used to be fair in complexion but now look dark and pale , hair fallen and greyed and look much older than my age my height is 5' 8 and weight is 82 kgs. what should i do ?\\n\\nResponse:\\nalcohol  causes  mood  changes  forgetfulness ( dementia) ,  reduces  vit B 12  and folic acid  levels . causes  deranged cholesterols all  damaging ur health . leg pains  could be due to neuropathy associated with alcohol  secondary to faulty VIT B 12 metabolism .  keep uric acid controlled  by medications  and repeated levels  checked. exercise ,  reduce alcohol consumption ,  and  vegetable  diet will all help u.  take care\", 'Instruction:\\nMy name is Michael Morin, and I m 54 years old. At the age of 24, I was diagnosed with a heart condition. I was told I had heart disease that was similar to an 80 year old. I also had diabetes. I had just left the Marine Corps Reserve a year earlier. I joined the Marines at age of 17. I received a number of vaccinations in boot camp, one of which was the smallpox vaccine. When I left boot camp for R and R, I went home where joined in a game of pick up football. I began to have tightness in my chest and I was short of breath. I used to believe my problem developed from some sort of virus I got from the air-jet vaccination gun the service used, but now after speaking to one doctor by chance. Now I believe my problems were from the smallpox vaccination. I have been fighting an up hill battle with the Veterans Administration on compensation and treatment for the past 30 plus years, because of the lack of help from the medical field. I need to fine evidence and were to fined it. Who know more about what adverse effects smallpox vaccines cause and who can help me with my case. Thank you, Michael Morin\\n\\nResponse:\\nHi, Yes, research studies do show that few people do get heart problems after taking small pox vaccination. Few deaths have also been reported. Presently if you have tightness in the chest associated with breathlessness it could be angina. As such angina is not a disease but is caused by low oxygen in the blood reaching the heart. However, angina can be indicative of some serious developing coronary artery disease. You can take sublingual Nitrogycerine when you feel tightness in the chest after consultation with your treating doctor. Do not neglect yourself, visit a cardiologist, get physically examined & get all screening tests done to rule out any CAD. The tests will include CBC, Urinalysis, lipid function tests, X-ray, ECG, Echocardiography, Stress tests & CT or MRI if required. Get treated. In the meantime, stop addictions if any, avoid taking red meat, oily-spicy food. Take low carbohydrate, boiled home made food, fruits & veggies. Hope I have answered your query. Let me know if I can assist you further. Regards, Dr. Nupur K, General & Family Physician', 'Instruction:\\nI had pain in my lower back on the left side so i went to the doctor and she gave me EC-naprosyn and tizanidine for pain because she thought it was my muschel by where it hurt when i moved but I have also been unable to use the bathroom so i drank Magnesium citrate from walgreens so i could go but i am still unable to go and still have pain\\n\\nResponse:\\nHiThank you for asking HCM. I have gone through your query. If you have dysuria and back pain then you should out an urinary infection which is most likely. If that is clear and you have signs and symptoms of muscle strain or sprain then you can take tizanidine which is a muscle relaxant and naproxen a NSAID for short duration. Hope this may help you. Let me know if you have any further queries.', \"Instruction:\\nI have just finished my period at which time I had alot of lower back pain. I have only ever had lower back pain with my period on one other occasion. It has now been two weeks since my last period ended and im still having lower back pain What could this be?\\n\\nResponse:\\nHilow Bach ache that starts with menses is suggestive of some infection in your genitourinary tracti would advise you  for urine test urine culture and sensitivity testmeanwhile have plenty of fluids to keep yourself hydrated maintain a straight spine posture while workingdon't use pillowsleep on a hard beddo some stretching exercises and physiotherapy Hope this helps youRegardsDR BR Hudda\"]\n"
          ]
        }
      ],
      "id": "KgPGmTewt8WP"
    },
    {
      "cell_type": "code",
      "source": [
        "len(data)"
      ],
      "metadata": {
        "colab": {
          "base_uri": "https://localhost:8080/"
        },
        "id": "MM3TjfRGEgvS",
        "executionInfo": {
          "status": "ok",
          "timestamp": 1717504894316,
          "user_tz": -420,
          "elapsed": 254,
          "user": {
            "displayName": "",
            "userId": ""
          }
        },
        "outputId": "c40e0199-e3cd-4b46-c048-79abd2e164fe"
      },
      "execution_count": null,
      "outputs": [
        {
          "output_type": "execute_result",
          "data": {
            "text/plain": [
              "256916"
            ]
          },
          "metadata": {},
          "execution_count": 30
        }
      ],
      "id": "MM3TjfRGEgvS"
    },
    {
      "cell_type": "code",
      "source": [
        "print(data[0])"
      ],
      "metadata": {
        "colab": {
          "base_uri": "https://localhost:8080/"
        },
        "id": "raRdJHgl6UcD",
        "executionInfo": {
          "status": "ok",
          "timestamp": 1717504898220,
          "user_tz": -420,
          "elapsed": 7,
          "user": {
            "displayName": "",
            "userId": ""
          }
        },
        "outputId": "9baaa98d-7bc4-4876-9083-77ffdc7f50bc"
      },
      "execution_count": null,
      "outputs": [
        {
          "output_type": "stream",
          "name": "stdout",
          "text": [
            "Instruction:\n",
            "last year my wife was went through a surgery for appendix cancer, that appendix was removed , that appendix slice tested in lab and found so called adino carcinoma in apedix,  after that doctor decided to operate again and remove her partial intestine, there was no sign of cancer in any test other than the biopsy of appendix, however  after one moth of hospitalization came back to home, 6 month of follow up check up no bad sign, now almost one year of surgery puss mark notice at steches near belly button .Please advice this is not a sign of any cancer\n",
            "\n",
            "Response:\n",
            "Hi and welcome to HCM. First, you dont have to worry. This cant be tumour relaps because this is lesion in abdominall wall,obviously some local infection or wound abscess.This is often seen after laparotomy. Appendix cancers are rare but in most cases surgery is enough for complete treatment and recovery. If tehre were no found metastasis or extended disease during the surgery, you dont have to expect relaps. If they found it they would recomend chemotherapy. This lesion around belly can be treated with antibiotic creams or by surgical drainage. Wish you good health.\n"
          ]
        }
      ],
      "id": "raRdJHgl6UcD"
    },
    {
      "cell_type": "code",
      "source": [
        "#tdk dipakai\n",
        "'''\n",
        "import json\n",
        "data = []\n",
        "with open(\"ai_medical_chatbot_train.jsonl\") as file:\n",
        "    for line in file:\n",
        "        features = json.loads(line)\n",
        "        # Filter out examples with context, to keep it simple.\n",
        "        if features[\"Description\"]:\n",
        "            continue\n",
        "        # Format the entire example as a single string.\n",
        "        template = \"Instruction:\\n{Patient}\\n\\nResponse:\\n{Doctor}\"\n",
        "        data.append(template.format(**features))\n",
        "\n",
        "# Only use 1000 training examples, to keep it fast.\n",
        "data = data[:1000]\n",
        "'''"
      ],
      "metadata": {
        "id": "48Rlz9Hmr73l"
      },
      "execution_count": null,
      "outputs": [],
      "id": "48Rlz9Hmr73l"
    },
    {
      "cell_type": "markdown",
      "source": [
        "## dataset ruslanmv/ai-medical-dataset"
      ],
      "metadata": {
        "id": "ar3BOreGEmPN"
      },
      "id": "ar3BOreGEmPN"
    },
    {
      "cell_type": "code",
      "source": [
        "dataset = load_dataset(\"ruslanmv/ai-medical-dataset\")"
      ],
      "metadata": {
        "colab": {
          "base_uri": "https://localhost:8080/",
          "height": 209,
          "referenced_widgets": [
            "a7630744712546b488ee2aae6ea8b25d",
            "0e4c36c353634386aee86f5a3bf00e07",
            "1de4b37f8f0248698b8082c0c4a389a4",
            "e006a6974418458787a7356e259e110f",
            "1af1ae5fc56d4d08b0b83f10c6ad7319",
            "52473fc8820e42e7a4c7bdfc123b4bd1",
            "df2d3a91d92e47f88178fdf24e614cf9",
            "feb354feaab445b18e721f7f5785ebad",
            "d533268739554d7fb57548e6004e962f",
            "371fb935722143e4809d941550bbb758",
            "f8b68fca7e7f4c9f88b5e65614eb5636",
            "8444d23bb2144d38b474b9459d3455ac",
            "17ded4de892d452eadb34ce3e5c4da48",
            "724202de4b5a49698f0357c0d894c4af",
            "f84d2ee043534701ab6a1447a71d6811",
            "84de4bcf015248f8add5dcf610445e2c",
            "1c41ceb083f04dadba42248fb681d62a",
            "eea04bb2e47e46e39f9ae9db180ac574",
            "70954f1accf444e08fad45f102077354",
            "603debf8d73a4442b7e762c403530d19",
            "26fd4124f8c1404382c4b1c7cee36ed8",
            "695addc6427c4961aaba1ab6318ca493",
            "1938eb91ec654a4fbf7af934d938835c",
            "83716898ba5e485294b3b6d4fc05ce61",
            "2e108d1ef5854ebab1f2ac5f0e3532b5",
            "3ee6412447ce4a738d75d1eb7307a2a1",
            "0f9ea07b7a7a4addace025ac38d6a7bf",
            "d335b696c6574adabd1fc98e27c6f587",
            "f61995108a7944c29480424d82b9cb35",
            "2785f1b113114073aff1c17eaf656f38",
            "eccc1110b9a04349b87d88d669dbc45f",
            "94653e7e435b436282a972bece519ca3",
            "570a7a16818e4ec59b387e4f8a377d8d",
            "e1bc364a99e04cc3b0c1ab53a3159903",
            "4697f4ec6fc441178dd0c17c9cd833a9",
            "d2ce4435e285480d80e1b2d98aadd1fd",
            "2cf010694667468cad67aa2414af43fa",
            "1227fc5fdaad42fc9efd1fe9b12534aa",
            "b56fe738c688418db54c7bdd9eadbac8",
            "550c7a09913346cebbd0e8025f9b6a76",
            "5cf3f2b2bdfa4c63b47c0424faf7c6e3",
            "29beae7c5d164cf595c2a9f0cf0a5181",
            "805a31a214444d02935ba03a5f27992e",
            "fcd0a13ce3a14aff97a2160fc0d8f86a",
            "47821d20ec3e40a68860b3ae727b3db7",
            "3fad3efd781a42b28e4395ad2b53069a",
            "7d509c4b29204b83af3ebae0ea29c784",
            "b0d2d0b2c1bf41ce84a39faff731ce19",
            "6b3d0e1bad834978a3f4963cecdfc26a",
            "cfa606b5a31e450c8a669698a7c432a0",
            "f71b4993a5be4a488a92c187d0f480a5",
            "cd38f148a4694a23823bdf26368656e7",
            "cbc6e64338884f77bcd0c51b8514f78f",
            "235c6e3566924ce19e4528bb223fa63a",
            "470c0bda3afe4738be35c105cc5180b2",
            "8c779b4deb9d42eda81591106d7e427a",
            "77dab4977ffb41f49667354b0878fe5d",
            "3c3d28ffd6b04a5dadf254b1aecde115",
            "17f3d7b9427e4a15bce8f5356eca078c",
            "ca6e8c347d224bf2b567d81063a2c239",
            "bf915b394ed2485db4e7608e5daefcb3",
            "2f235fd837214167b29e1dbfaf897435",
            "ea1eee120cf844f5ac7a37f9102e0442",
            "776a395392b148039b02f9304aaeaa19",
            "1566d06eba8148aaa5d7bae7fb14164d",
            "8ccdd52b22594bab80def0e98f06be24"
          ]
        },
        "id": "V2BvNBAIEtR6",
        "executionInfo": {
          "status": "ok",
          "timestamp": 1717506525108,
          "user_tz": -420,
          "elapsed": 186674,
          "user": {
            "displayName": "",
            "userId": ""
          }
        },
        "outputId": "4b13a93a-50c9-4c45-a049-27bf5e8ebd27",
        "collapsed": true
      },
      "execution_count": null,
      "outputs": [
        {
          "output_type": "display_data",
          "data": {
            "text/plain": [
              "Downloading readme:   0%|          | 0.00/2.97k [00:00<?, ?B/s]"
            ],
            "application/vnd.jupyter.widget-view+json": {
              "version_major": 2,
              "version_minor": 0,
              "model_id": "a7630744712546b488ee2aae6ea8b25d"
            }
          },
          "metadata": {}
        },
        {
          "output_type": "display_data",
          "data": {
            "text/plain": [
              "Resolving data files:   0%|          | 0/18 [00:00<?, ?it/s]"
            ],
            "application/vnd.jupyter.widget-view+json": {
              "version_major": 2,
              "version_minor": 0,
              "model_id": "8444d23bb2144d38b474b9459d3455ac"
            }
          },
          "metadata": {}
        },
        {
          "output_type": "display_data",
          "data": {
            "text/plain": [
              "Resolving data files:   0%|          | 0/18 [00:00<?, ?it/s]"
            ],
            "application/vnd.jupyter.widget-view+json": {
              "version_major": 2,
              "version_minor": 0,
              "model_id": "1938eb91ec654a4fbf7af934d938835c"
            }
          },
          "metadata": {}
        },
        {
          "output_type": "display_data",
          "data": {
            "text/plain": [
              "Downloading data:   0%|          | 0/18 [00:00<?, ?files/s]"
            ],
            "application/vnd.jupyter.widget-view+json": {
              "version_major": 2,
              "version_minor": 0,
              "model_id": "e1bc364a99e04cc3b0c1ab53a3159903"
            }
          },
          "metadata": {}
        },
        {
          "output_type": "display_data",
          "data": {
            "text/plain": [
              "Generating train split:   0%|          | 0/21210000 [00:00<?, ? examples/s]"
            ],
            "application/vnd.jupyter.widget-view+json": {
              "version_major": 2,
              "version_minor": 0,
              "model_id": "47821d20ec3e40a68860b3ae727b3db7"
            }
          },
          "metadata": {}
        },
        {
          "output_type": "display_data",
          "data": {
            "text/plain": [
              "Loading dataset shards:   0%|          | 0/18 [00:00<?, ?it/s]"
            ],
            "application/vnd.jupyter.widget-view+json": {
              "version_major": 2,
              "version_minor": 0,
              "model_id": "8c779b4deb9d42eda81591106d7e427a"
            }
          },
          "metadata": {}
        }
      ],
      "id": "V2BvNBAIEtR6"
    },
    {
      "cell_type": "code",
      "source": [
        "dataset"
      ],
      "metadata": {
        "colab": {
          "base_uri": "https://localhost:8080/"
        },
        "id": "_H22WMybKAro",
        "executionInfo": {
          "status": "ok",
          "timestamp": 1717507230990,
          "user_tz": -420,
          "elapsed": 5,
          "user": {
            "displayName": "",
            "userId": ""
          }
        },
        "outputId": "2e1fc13d-d63e-4642-a2e9-686ddb20be73",
        "collapsed": true
      },
      "execution_count": null,
      "outputs": [
        {
          "output_type": "execute_result",
          "data": {
            "text/plain": [
              "DatasetDict({\n",
              "    train: Dataset({\n",
              "        features: ['question', 'context'],\n",
              "        num_rows: 21210000\n",
              "    })\n",
              "})"
            ]
          },
          "metadata": {},
          "execution_count": 20
        }
      ],
      "id": "_H22WMybKAro"
    },
    {
      "cell_type": "code",
      "source": [
        "train_data = dataset['train'].shuffle(seed=42)\n",
        "train_data = train_data[:500]\n",
        "question = train_data['question']\n",
        "context = train_data['context']"
      ],
      "metadata": {
        "id": "vtrdBN00E6Mv"
      },
      "execution_count": null,
      "outputs": [],
      "id": "vtrdBN00E6Mv"
    },
    {
      "cell_type": "code",
      "source": [
        "train_data"
      ],
      "metadata": {
        "colab": {
          "base_uri": "https://localhost:8080/"
        },
        "id": "lEIx6u1XJ60u",
        "executionInfo": {
          "status": "ok",
          "timestamp": 1717507262710,
          "user_tz": -420,
          "elapsed": 21,
          "user": {
            "displayName": "",
            "userId": ""
          }
        },
        "outputId": "cfff85e1-1567-4048-c9ee-379f560521dd",
        "collapsed": true
      },
      "execution_count": null,
      "outputs": [
        {
          "output_type": "execute_result",
          "data": {
            "text/plain": [
              "{'question': ['',\n",
              "  'What is the use of triage tags widely advocated as a tool to improve the management',\n",
              "  '',\n",
              "  'What is the main reason for melancholic depression?',\n",
              "  '',\n",
              "  '',\n",
              "  '',\n",
              "  'What is the EXERCISE CAPACITY AND DYSPNEA IN O',\n",
              "  'What is the name of the mesh that was soaked in saline?',\n",
              "  'What is the combination chemotherapy of intraperitoneal carboplatin and intravenous ',\n",
              "  'What is the name of the SPECIAL WARNING(S)?',\n",
              "  'Age less than 18 years old',\n",
              "  '',\n",
              "  '',\n",
              "  'Uncontrolled ischemic heart disease or uncontrolled congestive heart failure - Uncontrolled',\n",
              "  '',\n",
              "  'What is the DNA encoded for?',\n",
              "  'How many depressive inpatients were examined after admission?',\n",
              "  'What is the name of the patient in emergency situations?',\n",
              "  'What is the primary endpoint of ADs at follow-up?',\n",
              "  'What is the decision to surgical management of incomplete miscarriage by the health care team?',\n",
              "  'What is the name of the gene family expressed in rat liver?',\n",
              "  'What is the prevalence of paraesophageal varices and gastric vari',\n",
              "  '',\n",
              "  '',\n",
              "  '',\n",
              "  'How many patients were referred to the trial?',\n",
              "  'What is the body mass index?',\n",
              "  'What is the trend in prescribing antipsychotic medications for US children?',\n",
              "  'What is the LDL?',\n",
              "  '',\n",
              "  'What is the name of the ra?',\n",
              "  '',\n",
              "  'What is the primary objective of this study?',\n",
              "  'What is the result of hypospadias surgery?',\n",
              "  'What is the correlation between clinical picture and histological damage of aortic wall in',\n",
              "  'Inclusion Criteria:',\n",
              "  '',\n",
              "  'What is the name of the group of autosomal dominant cerebellar degenerative disorders?',\n",
              "  'What is the safety of T-cell co-stimulation modulation with abata',\n",
              "  'What type of valve replacement did a child with?',\n",
              "  '',\n",
              "  '',\n",
              "  'Common:',\n",
              "  'What was the effect of alcohol, chlorhexidine cream and iodophor',\n",
              "  'What is the purpose of the above information?',\n",
              "  'What is the influence of HLA micropolymorphism in controlling epitope length',\n",
              "  'What was the phenylthiomethyl group of C149?',\n",
              "  'What is the case report of multidisciplinary longitudinal assessment and intervention?',\n",
              "  'What is a known hypersensitivity to?',\n",
              "  'What is the cause of CNS or scalp infection?',\n",
              "  'What was the rate of symptomatic irritation increased by 70% in N-9 users?',\n",
              "  'What is the adverse effect of positive airway pressure on the upper airway documented with magnetic resonance',\n",
              "  'What is the result of the confirmation of the extra small chromosome in abnormality ',\n",
              "  'What is the name of the study that black patients have with adult T-cell leukemia',\n",
              "  'What was the numerically higher score for nefopam?',\n",
              "  'What was the aggregation to thrombin related to?',\n",
              "  'What is the purpose of the study?',\n",
              "  '',\n",
              "  'What is the maximum limit of normal aminotransferase?',\n",
              "  'What is the name of the type 1 diabetes that causes failures at developmental checkpoints?',\n",
              "  'What is the methylation of MGMT, RASSF1A, p',\n",
              "  'What is the name of the intervention?',\n",
              "  'What is the oral lyophilisate?',\n",
              "  'What is the phenotype of GS patients?',\n",
              "  \"What is the criterion 1 of Cheson's criteria?\",\n",
              "  '',\n",
              "  'What is the VERSUS PLACEBO for TREATMENT OF MILD TO MODER',\n",
              "  'What is the toxicity of alpha-synuclein?',\n",
              "  '',\n",
              "  'What is the NIH Stoke Scale Score?',\n",
              "  'How many hemofilters were used in a university affiliated intensive care unit?',\n",
              "  '',\n",
              "  'What was the time taken for the development of dyspnea?',\n",
              "  'What is the name of the doctor who is pregnant?',\n",
              "  '',\n",
              "  'What is the name of the study that provides written informed consent for?',\n",
              "  'What is the average incidence of UTI?',\n",
              "  '',\n",
              "  'What is the effect insulin imparts on peripheral nerve axons?',\n",
              "  'What is the term for elective inguinal herniorrhaphy?',\n",
              "  'What was the date of completion of the study listed in this record?',\n",
              "  'What is well controlled asthma?',\n",
              "  '',\n",
              "  'What was the effect of intramuscular administration of troxerutin 150 mg and',\n",
              "  'What is defined as no clinically relevant abnormalities identified by detailed medical history, full physical examination',\n",
              "  \"What should be determined by the patient's response?\",\n",
              "  'What is the CONTROL of UNSUPPORTED PARAPLEGIC STAND',\n",
              "  '',\n",
              "  '',\n",
              "  'How many clinic visits will Subjects have over a 2-year period?',\n",
              "  'What is the gain-characteristic between cones and horizontal cells?',\n",
              "  'What is the double burden of diseases in women during transition?',\n",
              "  'How many colostomies were undergone surgery?',\n",
              "  'What is the final goal of cancer research?',\n",
              "  '',\n",
              "  'What other side effects are observed in clinical studies?',\n",
              "  'How many couples attended the assisted reproduction program?',\n",
              "  '',\n",
              "  '',\n",
              "  'What is the interbody fusion of rabbit rabbits?',\n",
              "  'What was the average age of the study?',\n",
              "  '',\n",
              "  'What is the name of the novel reference genes based on?',\n",
              "  'What is the name of the cytochrome P450 3A4 inhibitors?',\n",
              "  'What is the effect of n-3 PUFAs on ion channels?',\n",
              "  '',\n",
              "  'Patients with partial liver radiotherapy',\n",
              "  'Inclusion Criteria:',\n",
              "  'What is the DNA cobas4800 HPV test?',\n",
              "  'What is the tamoxifene binding to?',\n",
              "  'What is the name of the technique used to transfer tissues to vessels near the recipient site?',\n",
              "  '',\n",
              "  '',\n",
              "  'What is the adverse outcome of increased ultraviolet irradiation on human health currently of concern',\n",
              "  'What type of pancreas are imported from outside NJ?',\n",
              "  'What is the asymmetric amphipathic molecule?',\n",
              "  '',\n",
              "  'What is the risk of contrast-associated nephrotoxicity?',\n",
              "  'What is the name of the New York Heart Association?',\n",
              "  'What is the most common liver malignancy in children?',\n",
              "  '- Must have symptoms for 4 years?',\n",
              "  'What is the role of a urinary glucose tetrasaccharide bio',\n",
              "  'What is the current perspective of pseudocyesis?',\n",
              "  'What is the CNS?',\n",
              "  'What is the name of the child with laurence-moon-biedl',\n",
              "  '',\n",
              "  'What is the INR of Coagulopathy?',\n",
              "  'What is the role of Delivery technique in determining vessel wall apposition of the Enterprise',\n",
              "  'What is the brain tumor currently being studied?',\n",
              "  'What is the name of the MRI?',\n",
              "  'What was the primary cause of retinal ischaemia?',\n",
              "  'What is the name of the post',\n",
              "  'What is the formula used to calculate intra-operative blood loss?',\n",
              "  'What is the expression of J11d antigen during monocytic differentiation of M1',\n",
              "  'What is the name of the lateral and medial sites of origin in patients with i',\n",
              "  '',\n",
              "  'What is a very useful component of a comprehensive treatment program for chronic venous in',\n",
              "  'What should be initiated within 72 hours after the transplant?',\n",
              "  '',\n",
              "  'What is the best treatment for \"wet\" macular degeneration?',\n",
              "  'What is the negative factor that causes depression and disruptive behaviors?',\n",
              "  'What is the proximal phalanx of the 5th finger?',\n",
              "  '',\n",
              "  'What is the primary objective of this study?',\n",
              "  'What is the natural course of CDH in the human fetus?',\n",
              "  '',\n",
              "  'What was the VEGFR kinase inhibitor?',\n",
              "  'What is a suspected cause of self-referred or referred by a participating primary care',\n",
              "  'What is the EU/2/07/ 074/ 002?',\n",
              "  'What is the difference between gender differences in penetrance and phenotype in hypokal',\n",
              "  'Aged 12 years or more, diagnosed with any type of human prion disease?',\n",
              "  '',\n",
              "  'What is the name of the doctor that is in contact with your doctor?',\n",
              "  'What was the effect of microvoltammetry on dopamine release mechanisms?',\n",
              "  'What is the cause of Duchenne muscular dystrophy?',\n",
              "  'What was the main cause of adult tooth loss?',\n",
              "  'What was the first time the diagnosis of COPD was done?',\n",
              "  'What is the randomized, phase III multicenter trial of gemcitabine?',\n",
              "  'What is the sonic hedgehog pathway used as a treatment target for?',\n",
              "  \"What is the frequency of MEFV gene mutations in Behcet's disease?\",\n",
              "  'What has been learned from the haemovigilance in Norway?',\n",
              "  'What is the central sleep apnea?',\n",
              "  'What was the median prediction error for AUC12 and Cmax?',\n",
              "  'What is the medical status of airline pilots over 60 years?',\n",
              "  'What is the condition of the adolescent prostate cancer survivors?',\n",
              "  'What is the new Quality and Outcomes Framework?',\n",
              "  'What was the total area of C. desertiola?',\n",
              "  'What is the expression of hepatocyte cell adhesion molecule?',\n",
              "  'What is the cDNA fragment of acidic ribosomal protein PO obtained with',\n",
              "  '',\n",
              "  '',\n",
              "  'What is the use of intramuscular devices?',\n",
              "  'What is the name of the gene transfer method for adenovirus-mediated gene transfer',\n",
              "  'Name and address of the manufacturer responsible for batch release',\n",
              "  'What is the protein -4 and -5 in pancreatic cancer?',\n",
              "  'What was the cause of the splenic abscess?',\n",
              "  '',\n",
              "  'What is the absolute neutrophil count?',\n",
              "  'What is the name of the treatment that is used for a condition that is a ',\n",
              "  'What was the most significant improvement in the values of whole blood viscosity, cholesterol,',\n",
              "  'What was the a-priori defined primary outcome measure?',\n",
              "  '',\n",
              "  '',\n",
              "  'What was the population of 67 lymphadenitis patients?',\n",
              "  'What is the name of the plan that is affiliation to social security plan',\n",
              "  'What is the link that can be established between electrophysiology and physiopathology following these',\n",
              "  'What is the best estimate of GFR?',\n",
              "  'What is the clinical diagnosis of erectile dysfunction?',\n",
              "  'What is the pathogenese, clinical presentation, radiographic signs and treatment of ',\n",
              "  'How many meters will the gross motor function range be?',\n",
              "  '',\n",
              "  'What is the epistemology of Erasistrate and Hellenistic technology?',\n",
              "  'How many people were tested with methylchloroisothiazolinone-',\n",
              "  'What is tidal volume generated?',\n",
              "  'What was the mean age of the patient?',\n",
              "  'What is the penis not associated with?',\n",
              "  'What is the name of the person who has no evidence of depression?',\n",
              "  'What was the effect of DHA on breast milk fatty acids?',\n",
              "  'How many pregnancies were analyzed using a novel assay?',\n",
              "  'What is the name of the person who must be free of active sinopulmonary or other infection',\n",
              "  'What is the amount of GLPG2222 present in the blood and urine?',\n",
              "  'What is the therapeutic potential of cannabis and cannabinoids?',\n",
              "  'Inclusion Criteria:',\n",
              "  '',\n",
              "  'What is the average Hg of the dose of a placebo?',\n",
              "  'What is the Diagnosis of reduced hepatic function?',\n",
              "  'What group was randomlyised to?',\n",
              "  'What is the amount of saline added to stool?',\n",
              "  'What is the name of the team that runs a medical emergency team?',\n",
              "  'What is the prognosis of thymoma?',\n",
              "  'What is the relationship between dopamine and nitric oxide synthase in',\n",
              "  'How many patients were evaluated for efficacy?',\n",
              "  'What is the physical approach to the automated classification of clinical percussion sounds?',\n",
              "  'What is the leading cause of disability in all its stages?',\n",
              "  'What is the cause of obesity?',\n",
              "  '',\n",
              "  '',\n",
              "  '',\n",
              "  'What is the PPM1F phosphatase?',\n",
              "  'What is the name of the alternative method of first-trimester diagnosis?',\n",
              "  '',\n",
              "  '',\n",
              "  \"What is Salvia's treatment for dementia?\",\n",
              "  \"What is the longitudinal study of two Alzheimer's patients?\",\n",
              "  'What is the phospho-FAK?',\n",
              "  'What is the transmembrane tyrosine kinase receptor',\n",
              "  'What is the average mortality of the patients in the Department for Emergency medicine of Clinical center of Serbia',\n",
              "  \"What is the VCF morphology of Subject's VCF morphology considered in\",\n",
              "  '- Life expectancy of at least 3 months',\n",
              "  'What is the effect of TMZ on the metabolism of other medicinal products?',\n",
              "  'What is the heart in muscular dystrophy?',\n",
              "  'What is the apoE regulated by?',\n",
              "  'What is the immunological analysis of intraabdominal and intrapleural injection of ',\n",
              "  '',\n",
              "  'What is the use of supplements enriched with amino acids?',\n",
              "  'What is the potential for a treatment with rituximab?',\n",
              "  'Non degenerative causes of LSS such as LSS?',\n",
              "  'What is the electrolyte imbalance?',\n",
              "  'What is one or more mucocutaneous lesions that exhibit ulceration?',\n",
              "  '',\n",
              "  \"What is the relationship between CSF biomarkers of Alzheimer's disease and rates of regional\",\n",
              "  'What are the Criteria of wound infection',\n",
              "  '',\n",
              "  'What was the most common reason for Mexican Americans to use health services?',\n",
              "  'How many patients received efatutazone twice daily?',\n",
              "  'What is the result of successful HLA-identical stem cell transplantation?',\n",
              "  'What is the risk of gallstone disease in men?',\n",
              "  'What should be checked visually for particulate matter and discolouration before administration?',\n",
              "  '',\n",
              "  'What was the effect of substituting 25 g soy protein for meat on calcium retention and',\n",
              "  '',\n",
              "  '',\n",
              "  '',\n",
              "  'What is the result of cutaneous side effects in patients on long-term treatment?',\n",
              "  'What is hypoalbuminaemia?',\n",
              "  '',\n",
              "  'What is herpetic keratitis?',\n",
              "  'What is the effect of short-term multidisciplinary non-pharmacological intervention?',\n",
              "  'What is the standard of care of all patients?',\n",
              "  '',\n",
              "  '',\n",
              "  '',\n",
              "  'What is the purpose of a Point of Care C Reactive Protein device?',\n",
              "  'Scleroderma - Scleroderma',\n",
              "  'What was the protein expression of ZO-1 in the SAP-TGF group?',\n",
              "  'What is the potential for TCM candidates to compete for?',\n",
              "  '',\n",
              "  '',\n",
              "  'What is the exanthematous disease that is a severe case of?',\n",
              "  '',\n",
              "  'What is the name of the encenescence of Mumps?',\n",
              "  'What must subjects be 18 or older?',\n",
              "  'Elimination:',\n",
              "  'What was the purpose of a phase I single centre study?',\n",
              "  '',\n",
              "  'What is the potential of acquiring the clinically indicated image acquisition?',\n",
              "  '',\n",
              "  '',\n",
              "  'What is the chest radiograph and sarcoidosis?',\n",
              "  'What is the plain abdominal roentgenogram in management of encopresis',\n",
              "  'What is the bioavailability of 2 oral solid phenytoin dosage forms?',\n",
              "  'What is the difference between gender and bidirectionality in emotional disturbance associations?',\n",
              "  '',\n",
              "  'What is the non-pharmacological management of patients hospitalized with heart failure?',\n",
              "  '',\n",
              "  'What is the effectiveness of a critical pathway in the management of laryngectomy patients?',\n",
              "  'What was the bacterial population enumerated after biofilm homogenization?',\n",
              "  'What was the median value of aneuploid tumors?',\n",
              "  'What is the national survey of infants?',\n",
              "  'What is the relationship between beta-adrenergic mediated responses and plasma concentrations',\n",
              "  'What is the most common type of OLWS?',\n",
              "  'What is the scope of practice endangered by lack of vision?',\n",
              "  'What is the gene that is CFTR?',\n",
              "  'Inclusion Criteria:',\n",
              "  'What type of syndromes are thrombocytopenia?',\n",
              "  'What is the preliminary identification of beta-carotene in the vitre',\n",
              "  'What is the physical exam and ECG?',\n",
              "  '',\n",
              "  'What is the name of the SOLUTION OF DRY EYE SYNDROM',\n",
              "  'Cardiovascular:',\n",
              "  'What is the patient who will be treated with antibiotic for less than 5 days?',\n",
              "  'What is the final end point in most cardiac diseases?',\n",
              "  'What are smokers with ADHD?',\n",
              "  'What is the dendritic cell marker TNFAIP2?',\n",
              "  'How many measurements were carried out in Group I?',\n",
              "  'What is the name of the new candidate biomarker for prostate cancer?',\n",
              "  'What is the name of the test that is a common condition in all patients with Liver',\n",
              "  '',\n",
              "  'What was the significant association between job-related depression and low social support?',\n",
              "  '',\n",
              "  'What was the case with fatal out- come?',\n",
              "  'What is the study of 2 techniques to treat difficult bile duct stones?',\n",
              "  'What is a known allergy to?',\n",
              "  'What is the name of the cell that is a ganp-Tg mouse?',\n",
              "  'What is the name of the bacteriophages used to treat a multitude of ',\n",
              "  'What is the source of threat compared to fearful faces?',\n",
              "  'What is the retinoblastoma pathway that is rare in other malign',\n",
              "  '',\n",
              "  'What is the mechanism for upper airway stability during slow wave sleep?',\n",
              "  'How many patients were resistant to glucocorticoid therapy?',\n",
              "  'Inclusion Criteria:',\n",
              "  'What is the potential link between behavioral and physiological indices of tiredness, fatigue, and',\n",
              "  'What is the result of reduced recombination in maternal meiosis coupled',\n",
              "  'How many physicians were interviewed in China in 2005?',\n",
              "  'What is the end-stage renal disease in Kuwaiti patients?',\n",
              "  'What is the PDGFbetaR gene?',\n",
              "  'What are the concepts of educational practices for HIV/AIDS prevention?',\n",
              "  'What is the name of the muscular dystrophy that is a scapulo',\n",
              "  'What is the name of the drug that is used to treat bleeding disorder?',\n",
              "  'What is the current status of total joint arthroplasty?',\n",
              "  'What is the intention of the study?',\n",
              "  'What is the main reason for contraceptive use among women with chronic medical conditions?',\n",
              "  '',\n",
              "  'What is the IL-12 mediated by?',\n",
              "  'What is the name of the alpha-thalassemia-1 deletions in the Philippines',\n",
              "  'What is the name of the group that has been in the field of human genetics?',\n",
              "  'What is the current & future perspective of Mesenchymal cells?',\n",
              "  '',\n",
              "  'What is the name of the STUDY EVALUATING SLOW RESPONSE',\n",
              "  'What is the current recommended screening strategy in Germany?',\n",
              "  'What is the role of nanobacteria in urologic disease?',\n",
              "  '',\n",
              "  'What is the most important goal of cancer in children and young adults?',\n",
              "  '',\n",
              "  '',\n",
              "  'What type of treatment is required for adult patients with multiple myeloma?',\n",
              "  'What is the name of the chronic drug abuse/dependence within the past 2 years?',\n",
              "  'How many renal transplants were performed between 1973 and 2005?',\n",
              "  '',\n",
              "  'How many adults will be enrolled in this study?',\n",
              "  'What is the name of the middle ear adenocarcinoma?',\n",
              "  'What are females who are pregnant, breast-feeding or intend to become pregnant?',\n",
              "  'What is the EXP month/ year?',\n",
              "  'What was the TYR20 derived by linear interpolation?',\n",
              "  'How many patients received itraconazole 200 mg twice daily for 1 week/month?',\n",
              "  'What is the kinetics of poly(Gln) peptides with repeat',\n",
              "  'What effect did age have on upgrading, upstaging, and accuracy of a pre',\n",
              "  'Physical activity of moderately impaired elderly stroke patients during rehabilitation.',\n",
              "  'What was the significance level of the laser treatment used?',\n",
              "  'What is the name of the psiatric thyroid carcinoma?',\n",
              "  '',\n",
              "  'What is the recombinant adenovirus that protects pigs',\n",
              "  'What is the absence of 5-HT3 and cholinergic mechanisms in improgan anti',\n",
              "  \"What was the focus of the patient's symptoms?\",\n",
              "  'What is the role of Oxysterols in biological systems?',\n",
              "  'What is the exclusion criteria?',\n",
              "  'What is the potential trainee starting with?',\n",
              "  'What is one reason for the increase in drug-resistant bacteria?',\n",
              "  'What is the cause of pulmonary, cardiovascular abnormalities or abnormalities of the hepati',\n",
              "  'What is the electrical resistance of the epidermis?',\n",
              "  'What is the utility of various commercially available human immunodeficiency virus diagnostic kits?',\n",
              "  'What is the current diagnosis of substance dependence or self-report of having used narc',\n",
              "  'What is the name of the trial that was controlled?',\n",
              "  'What is the effect of transcutaneous electrical nerve stimulation on the nausea and vomiting of chemotherapy?',\n",
              "  'What is the purpose of surface stimulation?',\n",
              "  'What was the average age of the veterans with type 2 diabetes?',\n",
              "  '',\n",
              "  'What is the mental condition?',\n",
              "  'How many patients were positive for HCV infection markers?',\n",
              "  'What is ribavirin treatment suitable for?',\n",
              "  'What is the leading cause of renal failure and dialysis in the Western world?',\n",
              "  'What is the STUDY TO EVALUATE?',\n",
              "  'How many placentas were obtained from Plasmodium falciparum and',\n",
              "  'What is the name of the embryo culture that allows for increased implantation rate?',\n",
              "  'What is the name of the randomization in health research?',\n",
              "  'At least 1 site of measurable disease by RECIST 1.1.',\n",
              "  'What is the name of the training that is provided for hospitalized adolescents and young adults with cyst',\n",
              "  'What is the name of the drug that is injected subcutaneously?',\n",
              "  '',\n",
              "  'STADA Arzneimittel AG Stadastr.',\n",
              "  '',\n",
              "  'What type of glaucoma was used to reduce pressure?',\n",
              "  'What is the new method of intracranial pressure monitoring?',\n",
              "  'What is a cost-effective alternative to ondansetron?',\n",
              "  'What is the potential study of the urodynamic evaluation of incontinence in patients',\n",
              "  'What is the international normalized ratio?',\n",
              "  '',\n",
              "  'What is the name of the patent ductus arteriosus?',\n",
              "  'What is the oral granisetron used for the prevention of nausea and vomiting?',\n",
              "  'What is indicated by positive urine drug screen?',\n",
              "  '',\n",
              "  '',\n",
              "  'What is the role of lymphocytes in allergic disease?',\n",
              "  'What condition is contraindicated when immunosuppression is contraindicated?',\n",
              "  'What is the name of the first study of Dermatomyositis?',\n",
              "  '',\n",
              "  'What is the relationship between ventricular repolarization and cardiac cycle length during Holter recordings',\n",
              "  'Patients with sclerodermia, diabetes, obesity, anorexia',\n",
              "  'What is the TPO receptor?',\n",
              "  'What did the Doppler echocardiographic findings fail to suggest?',\n",
              "  'What is the risk of chronic post-traumatic stress disorder?',\n",
              "  'What is the first example of null allele in the ITIH1 system?',\n",
              "  '',\n",
              "  'What is the name of the test for metastases in breast cancer?',\n",
              "  '- Must have a prior diagnosis of AML or acute leukemia of ambigu',\n",
              "  'What year will follow-up be performed?',\n",
              "  '',\n",
              "  'What is the effect of ICH on the rCBF and metabolism?',\n",
              "  'What was the uptake rate of amino acids in cancer?',\n",
              "  'What is the exclusion criteria?',\n",
              "  '',\n",
              "  '',\n",
              "  '',\n",
              "  'What is the history of alcohol or drug abuse?',\n",
              "  'What was the response of BD cells to ear plugging?',\n",
              "  'What is the name of the multifocal bullous fixed drug eruption mimicking?',\n",
              "  '',\n",
              "  'What is the study of a chronic Chagas heart disease?',\n",
              "  'What is a notable feature of public health significance?',\n",
              "  '',\n",
              "  'How many survivors were born at 23-28 weeks gestation?',\n",
              "  'What is the name of the new model proposed of a pathophysiology of alcoholic',\n",
              "  'What was the pharmacologic probe used to determine the relationship between drug distribution into the C',\n",
              "  'What is the name of the clinical, histopathologic, and immunopathologic investigation?',\n",
              "  '- Into receiving treatment with cranial radiotherapy and/or chemotherapy?',\n",
              "  'What is the hemodialysis patient treated with?',\n",
              "  'What is the functional neuroanatomy of social behaviour in VCFS?',\n",
              "  'What is the name of the assessment using the Autism Diagnostic Observation Schedule?',\n",
              "  'What is the SUPPLEMENTATION FOR the PREVENTION OF CARDIOVASCU',\n",
              "  'What is the new knowledge of regulatory roles of D-amino acids in bacteria?',\n",
              "  'What is the treatment with any investigation drug or participation in another clinical trial within 28 days prior to',\n",
              "  'What was the total side-to-side difference in group P?',\n",
              "  'What is the use of thallium 201 myocardial imaging to exclude my',\n",
              "  'What is the cause of acute cornary syndrome?',\n",
              "  'What is the replication of a previous study?',\n",
              "  'What was the DTPA-T84.66 monoclonal antibody conjugated to',\n",
              "  'What is the effect of chronic cannabis smoking on lung health?',\n",
              "  'What is the new diversity of private medicine in Sweden?',\n",
              "  'What is the purpose of a hormonal therapy?',\n",
              "  'Immunoregulation of mammalian fertility',\n",
              "  'What is the design of a Shoulder disability questionnaire?',\n",
              "  'What is the impact of violence against psychiatric nurses?',\n",
              "  'What is the approach of clinical teachers to nursing?',\n",
              "  'What is the lipid profile of the women with metabolic syndrome?',\n",
              "  '',\n",
              "  'What was the XRCC1194Trp allele found to be significantly associated',\n",
              "  'What type of disorder is stroke related to?',\n",
              "  'What is the main reason for PNESs?',\n",
              "  'DATE',\n",
              "  '',\n",
              "  '',\n",
              "  '',\n",
              "  'What is the value of diffusion-weighted imaging in the detection of prostate cancer?',\n",
              "  'What is the name of the virus that is cloned?',\n",
              "  'What is the effect of factor-1?',\n",
              "  '',\n",
              "  'What is the name of the area that is treated with radiotherapy?',\n",
              "  'What is the return rate of the questionnaires?',\n",
              "  'What is the name of the test participants may have at each visit?',\n",
              "  'What is the active infection uncontrolled?',\n",
              "  '',\n",
              "  'What is the role of calcium and its regulation in diverse physiologic processes?',\n",
              "  'What is the indication for urgent surgery determined by surgeon?',\n",
              "  'Design:',\n",
              "  'Physically limited to do yoga or dance classes?',\n",
              "  'What is the name of the ACIDS in OMEGA-3 FATTY ACI',\n",
              "  'What effect did ventilation and catheter position on on catheter movement on?',\n",
              "  'What is the purpose of systematic review of the efficacy of herbal galactogogues',\n",
              "  'What is the name of the program that encourages and assists children in completing breathing maneuvers',\n",
              "  'How many patients received Mimpara?',\n",
              "  'What type of diabetes mellitus is a type 1 diabetes mellitus?',\n",
              "  'What is the relationship between urologic measures?',\n",
              "  'How many cases were natal in origin?',\n",
              "  'What is therapeutic efficacy of buparvaquone in cattle with theile',\n",
              "  'What was the test group assessed at?',\n",
              "  'What is the name of the POM structure?',\n",
              "  'What is the effect of ethanol on the frontal cortex?',\n",
              "  'What is the focus of a comparative survey?',\n",
              "  'What was the effect of the use of popular solubility treatments examined on?',\n",
              "  'What is the name of the MENINGOCOCCAL SEROGROUP?',\n",
              "  'What is the PET imaging of?',\n",
              "  'What is a mental incompetence evidence that would prevent compliance with the protocol?',\n",
              "  'What is the redox-active NADH oxidase found in Strept',\n",
              "  'What is the name of the transplantation of Liver transplantation?',\n",
              "  'What medication is used to treat stimulants within 5 half-lives of screening?',\n",
              "  'What is the dose of 0.5 ml?',\n",
              "  'How many patients in Zimbabwe were treated at referral oral and maxillofacial surgical clinics',\n",
              "  'What is the response to nicotinic-acid ingestion during exercise?',\n",
              "  'How many children were infected on the basis of clinical signs and persistence of anti-HI'],\n",
              " 'context': ['',\n",
              "  'The use of triage tags is widely advocated as a tool to improve the management of multiple casualty incident scenes. However, there are no published reports to suggest that triage tags have improved the management of incidents involving more than 24 persons, and a number of reports have detailed problems associated with triage tag use. Alternative systems of scene management such as geographical triage have been successfully used in very large incidents, and are recommended as an alternative to triage tags. Documentation cards attached to casualties may be of use in situations where casualties will pass through an extended evacuation chain, and clear labels for deceased casualties are of benefit as they discourage repeat assessments. Adoption of an evidence-based approach to multiple casualty incident scene management will require a paradigm shift in the thinking of ambulance services. A broad-based educational approach that encourages critical reappraisal of existing procedures is recommended.',\n",
              "  '',\n",
              "  'Clinical investigators have long theorized about the role of reward processing and positive affect in depression. One theory posits that compared to nonmelancholic depressives, melancholic depressives experience less consummatory (i.e., post-reward), but comparably low anticipatory (prior to reward), positive affect. We tested whether frontal EEG asymmetry, a putative marker of the anticipatory reward system, is present only before an individual receives a reward or also after receiving a reward (i.e., during consummatory reward processing). We also examined whether melancholic depression, a condition characterized by a deficit in consummatory reward processing, is associated with abnormal EEG asymmetries in alpha band power. Effects in other frequency bands (delta, theta, or beta) were also explored. EEG was recorded in 34 controls, 48 nonmelancholic depressives, and 17 melancholic depressives during a slot machine task designed to elicit anticipatory and consummatory reward processing. Results indicated that, for alpha, the frontal EEG asymmetry of greater relative left activity was specific to anticipatory reward processing. During the consummatory phase, individuals with melancholic depression exhibited different posterior EEG asymmetries than individuals with nonmelancholic depression (and controls at a trend level). This second finding was largely due to melancholics exhibiting relatively lower right posterior activity and nonmelancholics exhibiting relatively lower left activity. These results suggest that a posterior asymmetry may be a marker for melancholic depression and aberrant consummatory reward processing.',\n",
              "  '',\n",
              "  '',\n",
              "  '',\n",
              "  'EXERCISE CAPACITY AND DYSPNEA IN OBESE PATIENTS WITH METABOLIC SYNDROME: EFFECTS OF WEIGHT LOSS:',\n",
              "  'BACKGROUND: Prosthetic mesh infection is one of the most challenging complications after hernia repair. We evaluate the efficacy of soaking mesh in antibiotics to prevent prosthetic infection in an animal model of clean-contaminated ventral hernia repair (VHR). MATERIAL AND METHODS: Rats underwent an acute VHR with one of four synthetic meshes (composite multifilament polyester (Parietex PCO), multifilament polyester (Parietex TET), composite monofilament polypropylene (Ventralight), or monofilament polypropylene (SoftMesh)). Prior to implantation, mesh was soaked in saline or 10 mg/ml of vancomycin for 15 min. Following implantation, meshes were contaminated with 10(4) CFU of methicillin-resistant Staphylococcus aureus (MRSA) bacteria. Thirty days after implantation, mesh samples were cultured and evaluated under scanning electron microscope for biofilm formation. RESULTS: Presoaking meshes significantly improves bacterial clearance in composite meshes and multifilament polyester mesh. MRSA clearance was as follows for all meshes (saline-soaked vs. vanco-soaked): Parietex PCO (0 vs. 56 %, p = 0.006), Parietex TET (0 vs. 50 %, p = 0.01), Ventralight (20 vs. 78 %, p = 0.012), and SoftMesh (70 vs. 80 %, p = 0.6). MRSA biofilm formation was consistent with bacterial growth. CONCLUSION: Presoaking multifilament and composite mesh in vancomycin solution reduces MRSA bacterial growth. Its implementation may reduce the risk of mesh infection in clean-contaminated cases, although further investigation with human trials should be performed.',\n",
              "  'Combination chemotherapy of intraperitoneal carboplatin and intravenous paclitaxel in suboptimally debulked epithelial ovarian cancer.',\n",
              "  'SPECIAL WARNING(S)',\n",
              "  '- Age less than 18 years old',\n",
              "  '',\n",
              "  '',\n",
              "  '- Uncontrolled ischemic heart disease or uncontrolled symptomatic congestive heart failure',\n",
              "  '',\n",
              "  'GLS-5700 contains a single plasmid containing DNA encoding for pre-membrane and envelope (prME) proteins of the Zika virus.',\n",
              "  \"23 depressive inpatients and the same number of matched nonpsychiatric controls were examined three times: following admission, and 14 and 28 days thereafter. Hamilton's Rating Scale for Depression and the Time Reproduction Test were administered. Time reproduction was found not to be different between patients and normal controls and within patients. Nor was a significant correlation found with any clinical symptoms.\",\n",
              "  '- Patients in emergency situations.',\n",
              "  'BACKGROUND: Advance Care Planning (ACP) is an emerging strategy to ensure that well-reflected, meaningful and clearly documented treatment preferences are available and respected when critical decisions about life-sustaining treatment need to be made for patients unable to consent. In Germany, recent legislation confirms that advance directives (AD) have to be followed if they apply to the medical situation, but implementation of ACP has not yet been described. METHODS/DESIGN: In a longitudinal controlled study, we compare 1 intervention region (4 nursing homes [n/hs], altogether 421 residents) with 2 control regions (10 n/hs, altogether 985 residents). Inclusion went from 01.02.09 to 30.06.09, observation lasted until 30.06.10. Primary endpoint is the prevalence of ADs at follow-up, 17 (12) months after the first (last) possible inclusion. Secondary endpoints compare relevance and validity of ADs, process quality, the rate of life-sustaining interventions and, in deceased residents, location of death and intensity of treatment before death. The regional multifaceted intervention on the basis of the US program Respecting Choices(R) comprises training of n/h staff as facilitators, training of General Practitioners, education of hospital and ambulance staff, and development of eligible tools, including Physician Orders for Life-Sustaining Treatment in case of Emergency (POLST-E). Participation data: Of 1406 residents reported to live in the 14 n/hs plus an estimated turnover of 176 residents until the last possible inclusion date, 645 (41%) were willing to participate. Response rates were 38% in the intervention region and 42% in the control region. Non-responder analysis shows an equal distribution of sex and age but a bias towards dependency on nursing care in the responder group. Outcome analysis of this study will become available in the course of 2011. DISCUSSION: Implementing an ACP program for the n/hs and related health care providers of a region requires a complex community intervention with the effect of nothing less than a cultural shift in this health care sector. This study is to our knowledge the first to develop a strategy for regional implementation of ACP, and to evaluate its feasibility in a controlled design.',\n",
              "  '- Decision to surgical management of incomplete miscarriage by the health care team ;',\n",
              "  'Characterization of orphan nuclear receptor binding elements in sex-differentiated members of the CYP2C gene family expressed in rat liver.',\n",
              "  'Prevalence of paraesophageal varices and gastric varices in patients achieving variceal obliteration by banding ligation and by injection sclerotherapy.',\n",
              "  '',\n",
              "  '',\n",
              "  '',\n",
              "  \"BACKGROUND: Infliximab has recently emerged as an efficacious agent for patients with severe Crohn's disease. There are only few studies on the use of infliximab in children with Crohn's disease: most of them are retrospective and deal only with the clinical response to the drug. AIM: We aimed at assessing the efficacy of infliximab in children and adolescents with severe Crohn's disease recruited consecutively and followed up prospectively at a single centre. Clinical response, intestinal inflammation and growth pattern were evaluated. PATIENTS: Eighteen patients entered into the trial (median age: 13 years, range: 6-18). They were referred because of severe symptoms with unsatisfactory response to conventional drugs. METHODS: All patients received a baseline schedule of three intravenous infusions of infliximab (0, 2 and 6 weeks), 5 mg/kg. Paediatric Crohn's Disease Activity Index, nutritional and activity serum variables, and ileocolonoscopy (with histology) were evaluated before and 8 weeks after beginning the therapy. All patients had long-term administration of azathioprine (2 mg/kg per day). After the baseline schedule, eight patients had a retreatment infusion of infliximab (5 mg/kg) every 8 weeks. Weight and height Z scores were measured before starting the baseline infusion programme and after 6 months. RESULTS: After 8 weeks of therapy, there was a dramatic improvement in Paediatric Crohn's Disease Activity Index, in nutritional and activity blood parameters, as well as in endoscopic and histological scores; 10 patients had a clinical remission (Paediatric Crohn's Disease Activity Index < or = 10), 12 patients had an inflammatory remission (decrease in both endoscopic and histological scores for > or = 50% as compared to baseline values). In all patients corticosteroids were stopped within 4 weeks after beginning infliximab therapy. After 6 months of therapy, Paediatric Crohn's Disease Activity Index was markedly lower than the pre-treatment value; however, it was significantly lower in patients on retreatment than in those who received only three infusions of infliximab. Furthermore, a significant increase in both weight and height Z scores was observed 6 months after beginning of the baseline infusion programme. Moreover, weight and height gain was significantly higher in patients on retreatment rather than in those treated only with three baseline infusions of infliximab. Mild infusion reactions controlled by slowing infusion rate were observed in four patients. No delayed hypersensitivity-like reactions were seen. CONCLUSIONS: In children with severe Crohn's disease, infliximab is a safe and valuable treatment in inducing remission, in healing inflammatory lesions of the gut, as documented by endoscopy and histology, and in promoting growth. Retreatment infusions of infliximab may be suggested in childhood-onset Crohn's disease to maintain remission and reverse growth failure.\",\n",
              "  '- Have a body mass index (BMI) between 18.0 kilograms per square meter (kg/m²) and 32.0 kg/m², inclusive',\n",
              "  'Trends in prescribing of antipsychotic medications for US children.',\n",
              "  '- Low-Density Lipoprotein (LDL) or plasma apheresis within 12 months prior to randomization',\n",
              "  '',\n",
              "  'ra',\n",
              "  '',\n",
              "  'The primary objectives of this study are (1) to compare the incidence of breast cancer, by insulin use at cohort entry, among females with type 2 diabetes who are new users of dapagliflozin and females who are new users of antidiabetic drugs (ADs) in classes other than sodium-glucose cotransporter 2 (SGLT2) inhibitors, insulin monotherapy, metformin monotherapy, or sulfonylurea monotherapy and (2) to compare the incidence of bladder cancer, by insulin use at cohort entry and pioglitazone use, among male and female patients with type 2 diabetes who are new users of dapagliflozin and those who are new users of ADs in classes other than SGLT2 inhibitors, insulin monotherapy, metformin monotherapy, or sulfonylurea monotherapy. Secondary objectives will compare, by insulin use at cohort entry, frequency of several measures of health care use, baseline characteristics, and incidence of selected other cancers in males and females between the two exposure cohorts.',\n",
              "  'Variables in successful repair of urethrocutaneous fistula after hypospadias surgery.',\n",
              "  'Based on the experiences of 14 observations a correlation between clinical picture and histological damage of aortic wall in medio-necrosis Erdheim-Gsell is tried. In the preoperative phase the definitive diagnosis is seldom possible. Atypical pathological findings at the aorta or great arteries must be suspected to be caused by medio-necrosis Erdheim-Gsell.',\n",
              "  'Inclusion Criteria:',\n",
              "  '',\n",
              "  'Spinocerebellar ataxias are a group of autosomal dominant cerebellar degenerative disorders, which are characterized by clinical and genetic variability. Spinocerebellar ataxia type 7 (SCA7) is less variable in clinical presentation than other SCAs. We present a pediatric patient with 13 and 70 trinucleotide CAG repeats within SCA7 gene and no family history, whose presentation mimicked Kearns-Sayre syndrome (KSS). We review the differential diagnosis of cerebellar ataxia with vision loss secondary to retinal pigmentary dystrophy. This paper supports concept of a desirable clinical diagnosis to avoid multiple genetic or invasive testing in children with neurodegenerative disorders.',\n",
              "  'Safety of T-cell co-stimulation modulation with abatacept in patients with rheumatoid arthritis.',\n",
              "  'Combined aortic and mitral valve replacement in a child with mucopolysaccharidosis type I: a case report.',\n",
              "  '',\n",
              "  '',\n",
              "  'Common:',\n",
              "  'The effects of alcohol, chlorhexidine cream and iodophor cream on the infectious complications associated with intravenous catheters were studied. One hundred and fifty patients were randomly allocated into each antiseptic group. Daily cleansing and disinfecting the cut down wounds were done with the above antiseptics. Minor surgical wound infections were found in one patient in the alcohol and iodophor group compared to five in the chlorhexidine group. Phlebitis complicated four patients, two in the iodophor group and one in each of the remaining groups. Only one patient in the chlorhexidine group had septicaemia due to A. antitratus. Thirty-four catheter tips (22.7%) yielded bacteria on culture. Incidence of positive tip cultures was significantly higher in the chlorhexidine group than in the other two. The rates of positive tip cultures correlated with duration of catheterization. It is concluded that alcohol is the antiseptic of choice for cut down wounds. Application of antiseptic cream to the wounds was less effective than alcohol and this practice should be discouraged.',\n",
              "  \"The above information is not intended to contain all considerations relevant to a patient's potential participation in a clinical trial.\",\n",
              "  'Potent T cell response to a class I-binding 13-mer viral epitope and the influence of HLA micropolymorphism in controlling epitope length.',\n",
              "  'To find HDAC8-selective inhibitors, we designed a library of HDAC inhibitor candidates, each containing a zinc-binding group that coordinates with the active-site zinc ion, linked via a triazole moiety to a capping structure that interacts with residues on the rim of the active site. These compounds were synthesized by using click chemistry. Screening identified HDAC8-selective inhibitors including C149 (IC(50) = 0.070 muM), which was more potent than PCI-34058 (6) (IC(50) = 0.31 muM), a known HDAC8 inhibitor. Molecular modeling suggested that the phenylthiomethyl group of C149 binds to a unique hydrophobic pocket of HDAC8, and the orientation of the phenylthiomethyl and hydroxamate moieties (fixed by the triazole moiety) is important for the potency and selectivity. The inhibitors caused selective acetylation of cohesin in cells and exerted growth-inhibitory effects on T-cell lymphoma and neuroblastoma cells (GI(50) = 3-80 muM). These findings suggest that HDAC8-selective inhibitors have potential as anticancer agents.',\n",
              "  'Hearing loss and congenital symptomatic cytomegalovirus infection: a case report of multidisciplinary longitudinal assessment and intervention.',\n",
              "  '- Known hypersensitivity to any component of the current investigational product.',\n",
              "  '3. ongoing CNS or scalp infection,',\n",
              "  'The spermicide nonoxynol-9 (N-9) has been used as a contraceptive for over 30 years, but the use of a vaginal spermicide and condoms for the prevention of sexually transmitted infections has not been examined in randomised studies. We report a single-blind randomised field trial to assess the effect of N-9 film on the rate of gonococcal and chlamydial cervical infection in women at high risk of these diseases. 343 women were randomly assigned to use either condoms and N-9 (186 women) or condoms and a placebo (157). Compliance with condom use was much the same in the two groups. Overall, N-9 reduced the rate of cervical infection by 25% (rate ratio [RR] 0.75, 95% confidence interval [Cl] 0.5-1.1); in women who used N-9 for more than 75% of their coital acts the infection rate was reduced by 40% (RR 95% Cl 0.3-1.0). The rate of yeast vulvovaginitis or genital ulcers was not higher in N-9 users than in placebo users, but the rate of symptomatic irritation was increased by 70% (RR 95% Cl 1.1-2.6) among N-9 users. Condom use was more protective against cervical infection than N-9 use. The rate of infection was 50% (RR 95% Cl 0.3-0.7) lower with 75% than with 0-50% condom compliance. The use of a vaginal N-9 spermicide with condoms whenever possible seems to be a better strategy than the use of condoms only for prevention of gonococcal and chlamydial cervical infection.',\n",
              "  'An adverse effect of positive airway pressure on the upper airway documented with magnetic resonance imaging.',\n",
              "  '[Confirmation of the extra small chromosome in abnormality karyotype by PCR and FISH].',\n",
              "  'Clinical, immunological, ultrastructural, and cytogenetic studies in black patients with adult T-cell leukemia/lymphoma.',\n",
              "  'One hundred and ninety-six hospitalized patients were randomly assigned to one of eight treatment groups consisting of oral or intramuscular analgesics and placebo. Patients were monitored for 6 hours for pain relief, vital signs, and side effects. No statistically significant differences in pain intensity or relief were seen for nefopam (Acupan), diphenhydramine (Benadryl), aspirin, or placebo despite a numerically higher score for nefopam. This is attributed to an unexpectantly high placebo response. Significant pain relief and reduction of pain intensity were seen with both parenteral nefopam and morphine. Side effect incidence, in general, paralleled analgesic efficacy and was higher in patients receiving parenteral drugs. An early hypothermic effect was noted with oral and parenteral nefopam, aspirin, and morphine. Lower temperatures persisted to a statistically significant degree only in nefopam-treated patients.',\n",
              "  'Platelet functions (aggregation, clotting activity), platelet lipid biosynthesis, sterol composition and phospholipid fatty acids were studied in relation to plasma lipids and fatty acids as well as dietary habits at day 5 and 21 of the menstrual cycle in 30 women having used hormonal contraceptive for several years. The women were studied again on day 21 of the second cycle after they had taken for two months 200 mg vitamin E per day in addition to the contraceptive. At day 21 (after 3 weeks of hormonal contraceptive) as compared to day 5, there was a significant increase in the clotting activity of platelets and the response to ADP-induced aggregation concomitant with a decrease in plasma vitamin E. After vitamin E administration, platelet activity at day 21 was markedly decreased, being similar to the activity at day 5, with a significant increase in the level of vitamin E in plasma and platelets. The high response of platelets to aggregation in women using contraceptives does not seem to be associated with the intake of saturated fat but rather with that of 18:2. The aggregation to thrombin was mostly related to lanosterol biosynthesis and the aggregation to ADP to platelet cholesterol, but not to plasma lipids or apoproteins. The present pilot study suggests that the platelet hyperactivity of long-term hormonal contraceptive users might be dependent upon a low level of platelet alpha-tocopherol which can be rapidly overcome by giving a supplement of vitamin E.',\n",
              "  'Objectives Tinnitus is one of the most distressing disabilities and innovative ways of managing the related health care burden is required. A cognitive behavioural therapy (CTB) based internet intervention (iCBT) has been developed to improve access to tinnitus treatments. This study aims to determine the feasibility and effectiveness of iCBT in reducing the impact associated with tinnitus in the United Kingdom (UK) compared to standard face-to-face clinical care.',\n",
              "  '',\n",
              "  '- Aspartate aminotransferase (AST), Alanine aminotransferase (ALT) or alkaline phosphatase ≥1.5 times the upper limit of normal',\n",
              "  'Antigen receptor-controlled checkpoints in B lymphocyte development are crucial for the prevention of autoimmune diseases such as systemic lupus erythematosus. Checkpoints at the stage of pre-B cell receptor (pre-BCR) and BCR expression can eliminate certain autoreactive BCRs either by deletion of or anergy induction in cells expressing autoreactive BCRs or by receptor editing. For T cells, the picture is more complex because there are regulatory T (T(reg)) cells that mediate dominant tolerance, which differs from the recessive tolerance mediated by deletion and anergy. Negative selection of thymocytes may be as essential as T(reg) cell generation in preventing autoimmune diseases such as type 1 diabetes, but supporting evidence is scarce. Here we discuss several scenarios in which failures at developmental checkpoints result in autoimmunity.',\n",
              "  'Detection of MGMT, RASSF1A, p15INK4B, and p14ARF promoter methylation in circulating tumor-derived DNA of central nervous system cancer patients.',\n",
              "  'Intervention:',\n",
              "  'Oral lyophilisate',\n",
              "  'Gitelmans syndrome (GS) is an inherited recessive disorder caused by homozygous or compound heterozygous loss of function mutations of the NaCl cotransporter (NCCT) gene encoding the kidney-expressed NCCT, the pharmacological target of thiazide diuretics. An observational study estimated the prevalence of GS to 19/1,000,000, in Sweden, suggesting that approximately 1% of the population carries one mutant NCCT allele. As the phenotype of GS patients, who always carry two mutant alleles, is indistinguishable from that seen in patients treated with high-dose thiazide diuretics, we aimed at investigating whether subjects carrying one mutated NCCT allele have a phenotype resembling that of treatment with low-dose thiazide diuretics. We screened first-degree relatives of 18 of our patients with an established clinical end genetic diagnosis of GS for NCCT loss of function mutations and identified 35 healthy subjects carrying one mutant allele (GS-heterozygotes). Each GS-heterozygote was assigned a healthy control subject matched for age, BMI and sex. GS-heterozygotes had markedly lower blood pressure (systolic 103.3 +/- 16.4 versus 123.2 +/- 19.4 mmHg; diastolic 62.5 +/- 10.5 versus 73.1 +/- 9.4 mmHg; P < 0.001) than controls. There was no significant difference between the groups either in plasma concentration or urinary excretion rate of electrolytes, however, GS-heterozygotes had higher fasting plasma glucose concentration. Similar to patients being treated with low-dose thiazide diuretics, GS-heterozygotes have markedly lower blood pressure and slightly higher fasting plasma glucose compared with control subjects. Our findings suggest that GS-heterozygotes, the prevalence of which can be estimated to 1%, are partially protected from hypertension through partial genetic loss of function of the NCCT. However, as our study had a case-control design, it is important to underline that any potential effects on population blood pressure and risk of future cardiovascular disease need to be examined in prospective and population-based studies.',\n",
              "  \"- 2nd, 3rd or 4th complete or partial response according to Cheson's criteria 1 (Annexe 1)\",\n",
              "  '',\n",
              "  'MK0954 VERSUS PLACEBO FOR TREATMENT OF MILD TO MODERATE HYPERTENSION:',\n",
              "  \"In humans, mutations in the alpha-synuclein gene or exposure to the neurotoxin 1-methyl-4-phenyl-1,2,3,6-tetrahydropyridine (MPTP) produce Parkinson's disease with loss of dopaminergic neurons and depletion of nigrostriatal dopamine. alpha-Synuclein is a vertebrate-specific component of presynaptic nerve terminals that may function in modulating synaptic transmission. To test whether MPTP toxicity involves alpha-synuclein, we generated alpha-synuclein-deficient mice by homologous recombination, and analyzed the effect of deleting alpha-synuclein on MPTP toxicity using these knockout mice. In addition, we examined commercially available mice that contain a spontaneous loss of the alpha-synuclein gene. As described previously, deletion of alpha-synuclein had no significant effects on brain structure or composition. In particular, the levels of synaptic proteins were not altered, and the concentrations of dopamine, dopamine metabolites, and dopaminergic proteins were unchanged. Upon acute MPTP challenge, alpha-synuclein knockout mice were partly protected from chronic depletion of nigrostriatal dopamine when compared with littermates of the same genetic background, whereas mice carrying the spontaneous deletion of the alpha-synuclein gene exhibited no protection. Furthermore, alpha-synuclein knockout mice but not the mice with the alpha-synuclein gene deletion were slightly more sensitive to methamphetamine than littermate control mice. These results demonstrate that alpha-synuclein is not obligatorily coupled to MPTP sensitivity, but can influence MPTP toxicity on some genetic backgrounds, and illustrate the need for extensive controls in studies aimed at describing the effects of mouse knockouts on MPTP sensitivity.\",\n",
              "  '',\n",
              "  '- Neurological status of patients will be determined by the NIH Stoke Scale Score and the Glasgow Coma Scale (GCS) on a daily basis. The mid-term survival and quality of life are evaluated with Barthel Index and Glasgow Outcome Scale (GOS) 14 and 30 days following admission to our clinic.',\n",
              "  'The hypothesis was tested that prepriming a hemofilter and lines with heparinized human albumin (NSA) instead of heparinized saline (NS) increases filter survival time. In a university affiliated intensive care unit, all patients were eligible who required continuous venovenous hemodiafiltration and who did not have pre-existing coagulopathy or contraindications to heparin. New hemofilters were randomized to priming with 2 liters NS or 1 liter NS followed by 500ml NSA. The prime was recirculated for at least 30 minutes before connection to the patient. Anticoagulation was tightly controlled, aiming for a patient activated partial thromboplastin time (APTT) of 60 seconds. Survival analysis was used to compare filter life. Elective discontinuation (e.g., for surgery) were treated as censored data. A total of 91 hemofilters were used in 40 patients during 9 months: 45 randomized to NS, and 46 to NSA. Of these, 57 hemofilters were used until spontaneous failure, 28 NS and 29 NSA; 34 hemofilters were electively discontinued, 17 in each group. Anticoagulation was identical in both groups; the mean APTT value (+/- SE) was 58.2 seconds (+/- 3.1) for NS and 58.0 seconds (+/- 2.8) for NSA (p > 0.9 unpaired t-test). Platelet counts were very similar at 170 x 10(9) (+/- 21.8) for NS and 181 x 10(9) (+/- 23.7) for NSA (p = 0.74 unpaired t-test). There was no significant difference in the filter life between the two groups. For NS, median filter life was 37.8 hours (range 0.6-120); for NSA, median filter life was 45.4 hours (range 2.5-109; p = 0.998 log rank). The power to detect a 50% improvement in filter life was > 90%. Based on this data, the use of albumin priming as an aid to increased hemofilter life can not be recommended.',\n",
              "  '',\n",
              "  'A 74-year-old man was administered bepridil for the treatment of atrial fibrillation since February 2008. However, he developed exertional dyspnea in October 2008. Computed tomography scans of his chest revealed extensive bilateral peribronchial consolidations. Examination of transbronchial lung biopsy specimens revealed moderate infiltration of lymphocytes. Since drug-induced pneumonia was suspected, we initiated steroid therapy. After 3 weeks of treatment, the symptoms were alleviated. In this case, the time taken for the development of dyspnea was 226 days, and the clinical course was gradual. We believe that a long-term periodic follow-up is essential in patients receiving bepridil.',\n",
              "  'You must tell your doctor if you think that you are (or might become) pregnant.',\n",
              "  '',\n",
              "  '- Provide written informed consent for this study.',\n",
              "  '- Determine the relative impact on incidence of UTI over 12 months',\n",
              "  '',\n",
              "  'Insulin peptide has been identified to promote regeneration of axons in culture and in some in vivo model systems. Such actions have been linked to direct actions of insulin, or to cross occupation of closely linked IGF-1 receptors. In this work, we examined insulin support of peripheral nerve regenerative events in mice. Systemic insulin administration accelerated the reinnervation of foot interosseous endplates by motor axons after sciatic nerve transection and enhanced recovery of functional mouse hindpaw function. Similarly, insulin accelerated the regeneration-related maturation of myelinated fibers regrowing beyond a sciatic nerve crush injury. That such benefits might occur through direct signaling on axons was supported by immunohistochemical studies of expression with an antibody directed to the beta insulin receptor (IR) subunit. The proportion of sensory neurons expressing IRbeta increased ipsilateral to a similar sciatic crush injury in the L4 and L5 dorsal root ganglia. Insulin receptors, although widely expressed in axons, were also preferentially and intensely expressed on axons regrowing just beyond a peripheral nerve crush injury zone. The findings indicate that insulin imparts a substantial impact on regenerating peripheral nerve axons through upregulation of its expression following injury. Although the findings do not exclude insulin coactivating IGF-1 receptors during regeneration, its own receptors are present and available for action on injured nerves.',\n",
              "  '- Scheduled for elective inguinal herniorrhaphy or orchiopexy.',\n",
              "  'The study completion date listed in this record was obtained from the \"End Date\" entered in the Protocol Registration and Results System (PRS) record.',\n",
              "  '- Well controlled asthma',\n",
              "  '',\n",
              "  'Flavonoids, such as troxerutin, have been shown to be safe and effective agents for the treatment of chronic venous insufficiency. The fixed combination between troxerutin 150 mg and carbazochrome 1.5 mg (Fleboside ampoules) was previously shown to have a good efficacy and safety profile in non-surgical patients with acute uncomplicated hemorrhoids. The purpose of this randomized, double-blind, placebo-controlled study was to investigate the efficacy and tolerability of the active combination in the treatment of post-hemorrhoidectomy patients. 30 patients were randomized to receive one of two treatments: troxerutin 150 mg and carbazochrome 1.5 mg, or placebo, i.m. 3 ml ampoules twice a day for five consecutive days after the surgical procedure, starting from the day of surgery. Efficacy parameters were assessed as follows: at baseline (T1), after the first administration (T2; day of surgery), the second day after the surgical procedure (T3), and the fifth day after the surgical procedure (T4); hemorrhoidal symptoms based on a visual analogue scale (VAS): pain, discharge, bleeding, inflammation, and pruritus; analgesic intake, if any; time to restore a physiological defecation; edema evaluation (based on a four-point scale: 0 = absent; 1 = mild; 2 = moderate; 3 = severe); camera pictures taken at T1 and T4 (in selected patients); and blood coagulation tests. Analysis between treatment groups revealed a highly significant difference at T3 and T4 for the total VAS score (p = 0.007 and p = 0.001, respectively) in favor of the active combination treatment. A statistically significant difference was also observed for bleeding and pruritus at T3 and for these two parameters and both inflammation and edema at T4 (p < 0.001) in favor of the active combination group. No adverse events were reported. Neither the active combination nor placebo affected blood coagulation tests. We conclude that intramuscular administration of the fixed combination of troxerutin 150 mg and carbazochrome 1.5 mg is effective, well tolerated and superior to placebo in improving hemorrhoidal and post-surgical symptoms during the five days following surgery.',\n",
              "  '- Healthy male and/or female subjects of non-childbearing potential between the ages of 18 and 55 years, inclusive (Healthy is defined as no clinically relevant abnormalities identified by a detailed medical history, full physical examination, including blood pressure and pulse rate measurement, 12-lead ECG and clinical laboratory tests).',\n",
              "  'The dosage of these medicines should be determined by the patient’ s response.',\n",
              "  'CONTROL OF UNSUPPORTED PARAPLEGIC STANDING:',\n",
              "  '',\n",
              "  '',\n",
              "  \"Subjects will have 11 clinic visits over a 2-year period. An initial scan of the subject's head and neck will be made. Ten reproducible landmarks on the face and neck will be determined. The subject will return for follow up scans at Day 14, Day 28 and Month 2,6,9,12,18 and 24.\",\n",
              "  'Under constant light-adapted conditions, vision seems to be rather linear. However, the processes underlying the synaptic transmission between cones and second-order neurons (bipolar cells and horizontal cells) are highly nonlinear. In this paper, the gain-characteristics of the transmission from cones to horizontal cells and from horizontal cells to cones are determined with and without negative feedback from horizontal cells to cones. It is shown that 1) the gain-characteristic from cones to horizontal cells is strongly nonlinear without feedback from horizontal cells, 2) the gain-characteristic between cones and horizontal cells becomes linear when feedback is active, and 3) horizontal cells feed back to cones via a linear mechanism. In a quantitative analysis, it will be shown that negative feedback linearizes the synaptic transmission between cones and horizontal cells. The physiological consequences are discussed.',\n",
              "  'Social class, coronary risk factors and undernutrition, a double burden of diseases, in women during transition, in five Indian cities.',\n",
              "  \"OBJECTIVES: To evaluate the medical (sexual dysfunction, psychological adjustment, stoma care) and social (working life, family life, leisure) consequences of definitive ileostomies or colostomies. METHOD: From February 1992 to May 1992, 1082 live patients (978 colostomies and 104 ileostomies) who had undergone surgery at least 6 months earlier were assessed in a multicentre national inquiry. RESULTS: More than 20% of the patients had not been informed before surgery of the possibility of a definitive stoma. In half of the cases, the stoma was well accepted psychologically and patient's primary reactions improved with time, especially in patients with ileostomy (p < 0.01) and patients under 60 years of age (p < 0.001). Patients were satisfied with their stoma appliance in 94% of the cases. Only 31% with colostomy performed irrigations. Life style was altered in 43% of the patients, especially those with ileostomies (p < 0.001). Sexual activity was disturbed in 55% of the colostomy patients and working life in 63% of the ileostomy patients. One-fourth of the patients were often followed by an enterostomal therapist and one-third were members of ostomate associations. CONCLUSIONS: Ileostomy appears to be more disabilitating than colostomy due to patient age and, unlike colostomy, the impossibility of irrigation. These findings emphasize the contribution of enterostomal therapy and the justified role of ostomate associations.\",\n",
              "  'It is my great pleasure to congradulate the Japanese Journal of Cancer and Chemotherapy on its 25 th anniversary. During this period, great progress has been made in cancer research, mainly owing to the advances in technology in molecular biology. Recently, not only researchers, but lay people as well have come to understand that cancer is mainly a genetic disease. Advances in the human genome project, DNA chip technology and gene technology; including gene targeting and cloning techniques, will enable us to accelerate progress forward the final goal of cancer research in the coming century. Major changes are coming in both cancer research and clinical oncology, which will completely transform the human social environment.',\n",
              "  '',\n",
              "  'Other side effects observed in clinical studies include headache and nausea.',\n",
              "  'The purpose of this study was to evaluate gender differences in the psychosocial responses of 85 couples who attended the assisted reproduction program at Chung Shan Medical & Dental College Hospital from September 1991 to February 1992. The infertile couples were investigated by a self-administered structured questionnaire about demographic data, infertility history, and psychosocial responses and 75 couples completed the questionnaire. The average age of husbands was 35.0 years/and wives, 31.6 years. The average duration of infertility and treatment was 52.7 and 34.6 months, respectively. Parental expectation was the leading source of stress for men, while women counted being unable to meet childbearing demands as the main source of stress. Infertile women showed a higher psychosocial distress than their partners on the global measures and all the subscales of the infertility questionnaire and psychiatric symptoms test. Except for hostility, the differences between couples in subscales of self-esteem/body image, guilty, and all psychiatric symptoms reached statistical significance (p < 0.05). Among varied psychosocial responses of infertile couples, concordant response was demonstrated only in response to sexuality and physical condition. We consistently conclude with previous reports that infertile women showed a higher level of distress than their spouses, and that men and women displayed different psychosocial responses to infertility.',\n",
              "  '',\n",
              "  '',\n",
              "  'Interaction of allogeneic demineralized bone matrix and porous hydroxyapatite bioceramics in lumbar interbody fusion in rabbits.',\n",
              "  \"OBJECTIVE: To prospectively examine psychosocial functioning in young adulthood in children with attention-deficit/hyperactivity disorder (ADHD). METHOD: This 10-year prospective study compared psychosocial functioning in 18 young adult men in whom ADHD had been diagnosed in childhood and 18 male controls who had never been psychiatrically ill. Subjects' average age was 21 years at follow-up. Interviews assessed subjects' educational, occupational, residential, and marital status; utilization of mental health services; and psychological status. RESULTS: Young adults with ADHD were significantly more likely than controls to be using mental health services, to report psychological problems, and to have fathered children. In addition, a trend indicated that young men with ADHD were more likely to have dropped out of high school but subsequently attained a graduate equivalency diploma. There was also a trend for young adults with ADHD to report a greater history of trouble with the law; however, the groups did not differ on current legal problems. CONCLUSIONS: Overall, these young adults with ADHD appear to have overcome educational and legal difficulties experienced during high school. However, continued problems in psychological functioning appear to persist into young adulthood.\",\n",
              "  '',\n",
              "  'Identification of novel reference genes based on MeSH categories.',\n",
              "  '- Use of potent cytochrome P450 3A4 inhibitors such as antifungals of the azole -type (ketoconazole, itraconazole), macrolide antibiotics (clarithromycin, erythromycin per os, josamycin, telithromycin), HIV protease inhibitors (nelfinavir, ritonavir) and nefazodone (see Summary of Product Characteristics (SPC))',\n",
              "  'Although epidemiological studies provide strong evidence for an inverse relationship between omega-3 polyunsaturated fatty acids (n-3 PUFAs) and cardiac mortality, inconsistent and often conflicting results have been obtained from both animal studies and clinical prevention trials. Despite these heterogeneous results, some general conclusions can be drawn from these studies: 1) n-PUFAs have potent effects on ion channels and calcium regulatory proteins that vary depending on the route of administration. Circulating (acute administration) n-3 PUFAs affect ion channels directly while incorporation (long-term supplementation) of these lipids into cell membranes indirectly alter cardiac electrical activity via alteration of membrane properties. 2) n-3 PUFAs reduce baseline HR and increase HRV via alterations in intrinsic pacemaker rate rather than from changes in cardiac autonomic neural regulation. 3) n-3 PUFAs may be only effective if given before electrophysiological or structural remodeling has begun and have no efficacy against atrial fibrillation. 5) Despite initial encouraging results, more recent clinical prevention and animal studies have not only failed to reduce sudden cardiac death but actually increased mortality in angina patients and increased rather than decreased malignant arrhythmias in animal models of regional ischemia. 6) Given the inconsistent benefits reported in clinical and experimental studies and the potential adverse actions on cardiac rhythm noted during myocardial ischemia, n-3 PUFA must be prescribed with caution and generalized recommendations to increase fish intake or to take n-3 PUFA supplements need to be reconsidered.',\n",
              "  '',\n",
              "  '1. Patients with partial liver radiotherapy;',\n",
              "  'Inclusion Criteria:',\n",
              "  'DNA cobas4800 HPV test:',\n",
              "  'Toremifene, a triphenylethylene antiestrogen first synthesized in 1981, binds to the estrogen receptor with an affinity about 5% that of estradiol. Its antiestrogenicity/estrogenicity ratio in animal models is about 5 times that of tamoxifen, though it requires somewhat higher doses for full effectiveness, and it is active against breast cancer in animal and cell culture models. It has a long elimination half-life and there are several metabolites, but the principal antitumor activity appears to be due to the unchanged drug. In Phase I and Phase II clinical trials, toremifene has shown good response rates in ER-positive or ER-unknown tumors, and significant responses after failure of tamoxifen or other hormonal or chemotherapeutic regimens, with rare and mild side effects.',\n",
              "  'The advent of microvascular surgery has radically changed the discipline of human reconstructive surgery over the last decade. The ability to anastomose vessels less than 1 mm in diameter allows the distant transfer of tissues with a known blood supply from one area of the body to another. These tissues can be detached from their local blood supply and reperfused by anastomosing vessels supplying the tissue transfer to vessels near the recipient site. This technique has been used to transfer a variety of tissues and combinations of tissues including skin, muscle, bone, and bowel to solve a variety of difficult reconstructive problems. Applications, potential applications, and problems associated with microvascular free tissue transfer will be discussed in this chapter.',\n",
              "  '',\n",
              "  '',\n",
              "  'The adverse outcome of increased ultraviolet (UV) irradiation on human health is currently of concern. While many experiments have been carried out in rodent models, fewer have been designed to test the effects of UV exposure in human subjects. This review concentrates on the modulations induced in the human immune system by UV, and outlines changes in antigen presentation by Langerhans cells and macrophages, in the activities of natural killer cells and T cells, and in cytokine regulation. Precautionary measures which might be taken to help protect people against the immunosuppressive action of UV irradiation are considered.',\n",
              "  '- Recipients of deceased donor whole organ pancreas imported from outside NJ',\n",
              "  'In absence of 3D structures for alpha-crystallin subunits, alpha A and alpha B, we utilized a number of experimental and molecular modeling techniques to generate working 3D models of these polypeptides (Farnsworth et al., 1994. In Molecular Modeling: From Virtual Tools to Real Problems (Eds. Kumosinski, T.F. and Liebman, M.N.) ACS Symposium Series 576, Ch. 9:123-134, 1994, ACS Books, Washington DC). The refinement of the initial bovine alpha A model was achieved using a more accurate estimation of secondary structure by new/updated methods for analyzing the far UV-CD spectra and by neural network secondary structure predictions in combination with database searches. The spectroscopic study reveals that alpha-crystallin is not an all beta-sheet protein but contains approximately 17% alpha-helices, approximately 33% beta-structures and approximately 50% turns and coils. The refinement of the alpha A structure results in an elongate, asymmetric amphipathic molecule. The hydrophobic N-terminal domain imparts the driving force for subunit aggregation while the more flexible, polar C-terminal domain imparts aggregate solubility. In our quaternary structure of the aggregate, the monomer is the minimal cooperative subunit. In bovine alpha A, the highly negatively charged C-terminal domain has three small positive areas which may participate in dimer or tetramer formation of independently expressed C-terminal domains. The electrostatic potential of positive areas is modulated and become more negative with phosphorylation and ATP binding. The refined bovine alpha A model was used to construct alpha A models for the human, chick and dogfish shark. A high degree of conservation of the three dimensional structure and the electrostatic potential was observed. Our proposed open micellar quaternary structure correlates well with experimental data accumulated over the past several decades. The structure is also predictive of the more recent data.',\n",
              "  '',\n",
              "  'Low-osmolality contrast media and the risk of contrast-associated nephrotoxicity.',\n",
              "  '- No New York Heart Association class III or IV congestive heart failure',\n",
              "  'Hepatoblastoma is the most common liver malignancy in children. With rare exceptions, complete tumour resection is required to cure the patient. Radical tumour resection can be obtained either with standard partial hepatectomy or orthotopic liver transplantation. At present, the surgical approach to hepatoblastoma differs significantly between treatment groups in different parts of the world. Our aim was to review current surgical policy in hepatoblastoma. All aspects of surgery in hepatoblastoma are discussed, including biopsy, tumour resection principles, modern achievements in the field of liver surgery, and the indications and potential contraindications for liver transplantation. Every effort should be made to resect hepatoblastoma completely either by standard partial hepatectomy or by the use of liver transplantation in difficult or clearly unresectable cases.',\n",
              "  '- Must have symptoms for <4 years.',\n",
              "  'Assessing disease severity in Pompe disease: the roles of a urinary glucose tetrasaccharide biomarker and imaging techniques.',\n",
              "  'A current perspective of pseudocyesis.',\n",
              "  '11. Patients with a known history or prior diagnosis of optic neuritis or other immunologic or inflammatory disease affecting the CNS.',\n",
              "  'Refractive errors and strabismus in children with laurence-moon-biedl syndrome.',\n",
              "  '',\n",
              "  '- Coagulopathy with INR >1.8 at the time of enrollment',\n",
              "  'Delivery technique plays an important role in determining vessel wall apposition of the Enterprise self-expanding intracranial stent.',\n",
              "  '- Current brain tumor',\n",
              "  '- Contraindication to or inability to undergo imaging with MRI',\n",
              "  \"PURPOSE: To determine the relationship between retinal ischaemia and the presence of macular oedema (DMO) in patients with diabetic retinopathy (DR) using ultra-widefield fluorescein angiography (UWFA) imaging. METHODS: A retrospective review of 122 eyes of 70 treatment-naive diabetic patients who underwent diagnostic UWFA using the Optos 200Tx imaging system. Two independent, masked graders quantified the area of retinal ischaemia. Based on clinical examination and optical coherence tomography (OCT), each patient was given a binary classification as either having DMO or no DMO. McNemar's test (with Yates' correction as indicated) and a two-sample test of proportions were used to determine the relationship between DMO and ischaemia for binary and proportional data, respectively. Linear and logistic models were constructed using generalised estimating equations to test relationships between independent variables, covariates and outcomes while controlling for inter-eye correlation, age, gender, haemoglobin A1c, mean arterial pressure and dependence on insulin. RESULTS: Seventy-six eyes (62%) exhibited areas of retinal ischaemia. There was a significant direct correlation between DMO and peripheral retinal ischaemia as seen on UWFA (p<0.001). In addition, patients with retinal ischaemia had 3.75 times increased odds of having DMO compared with those without retinal ischaemia (CI 1.26 to 11.13, p<0.02). CONCLUSION: Retinal ischaemia is significantly correlated with DMO in treatment-naive patients with DR. UWFA is a useful tool for detecting peripheral retinal ischaemia, which may have direct implications in the diagnosis, follow-up and treatment such as targeted peripheral photocoagulation.\",\n",
              "  '(Placebo)',\n",
              "  '9. Intra-operative blood loss will be calculated using the following formula:',\n",
              "  'Decreased expression of J11d antigen during monocytic differentiation of M1 myeloid leukemic cells.',\n",
              "  'Identification of distinct electrocardiographic patterns from the basal left ventricle: distinguishing medial and lateral sites of origin in patients with idiopathic ventricular tachycardia.',\n",
              "  '',\n",
              "  'Subfascial endoscopic perforator surgery using screw-type ports is a very useful component of a comprehensive treatment program for chronic venous insufficiency.',\n",
              "  'Adults: oral Myfenax should be initiated within 72 hours following transplantation.',\n",
              "  '',\n",
              "  'Currently the best treatment for \"wet\" macular degeneration involves regular injections of Ranibizumab (Lucentis). In the initial clinical trials, the drug was injected into the eye every month. Since then a number of studies have found similar benefits when the drug is given with a fixed number of injections initially and then with further injections only when needed. This approach has been adopted in the UK, following recommendation by the National Institute for Clinical Excellence (NICE).',\n",
              "  '- Endorses fewer than three problems on the depression and disruptive behaviors factors of the modified version of Revised Memory and Behavior Problem Checklist',\n",
              "  'Two cases with anomalous fascicles in abductor digiti minimi, noted in the course of dissecting 62 adult postmortem forearms, are described. Both fascicles arose from the flexor retinaculum and the antebrachial fascia; one was inserted into abductor digiti minimi and the other on the proximal phalanx of the 5th finger. The anomalous muscles crossed the ulnar nerve and in 1 case also the median nerve. In the 2nd case the palmar nerve to the 5th finger was seen to penetrate the anomalous muscle. The ontogeny, morphology and clinical significance of this anomaly are discussed in relation to previously described anomalies of the hypothenar muscles.',\n",
              "  '',\n",
              "  'The primary objective of this study is to determine the accuracy of a visual assessment of the likely significance on blood flow of a narrowing of a blood vessel identified on cardiac CT, in comparison to invasive, fractional flow reserve.',\n",
              "  'Most babies born with congenital diaphragmatic hernia (CDH) die after birth. The natural course of CDH in the human fetus is not known. We found 94 cases of fetal CDH in the records of surgeons and obstetricians surveyed in the United States and Canada. We found the following: (1) prenatal diagnosis of CDH is accurate and current techniques can detect lethal nonpulmonary anomalies and prevent diagnostic errors; (2) despite optimal conventional therapy, most fetuses with detectable CDH will die in the neonatal period (80% mortality); (3) polyhydramnios is both a common prenatal marker for CDH (present in 76% of fetuses) and a predictor for poor clinical outcome (only 11% survived); (4) fetal CDH is a dynamic process--nonsurvivors have larger defects and may have more viscera displaced into the chest at an earlier stage of development. Surgical intervention before birth may be necessary to improve survival of the fetus with CDH and polyhydramnios.',\n",
              "  '',\n",
              "  'There are limited effective therapies for most patients with relapsed diffuse large B-cell lymphoma (DLBCL). We conducted a phase II trial of the multi-targeted vascular endothelial growth factor receptor (VEGFR) kinase inhibitor, sunitinib, 37.5 mg given orally once daily in adult patients with relapsed or refractory DLBCL. Of 19 enrolled patients, 17 eligible patients were evaluable for toxicity and 15 for response. No objective responses were seen and nine patients achieved stable disease (median duration 3.4 months). As a result, the study was closed at the end of the first stage. Grades 3-4 neutropenia and thrombocytopenia were observed in 29% and 35%, respectively. There was no relationship between change in circulating endothelial cell numbers (CECs) and bidimensional tumor burden over time. Despite some activity in solid tumors, sunitinib showed no evidence of response in relapsed/refractory DLBCL and had greater than expected hematologic toxicity.',\n",
              "  '3. Self-referred or referred by a participating primary care provider because of suspected depression, anxiety, alcohol disorder or at risk drinking',\n",
              "  'EU/ 2/ 07/ 074/ 002',\n",
              "  'Gender differences in penetrance and phenotype in hypokalemic periodic paralysis.',\n",
              "  '- Aged 12 years or more, diagnosed with any type of human prion disease.',\n",
              "  '',\n",
              "  'Contact your doctor or pharmacist before stopping.',\n",
              "  \"In vivo microvoltammetry was used to detect dopamine (DA) and serotonin (5-HT) release from nucleus accumbens (NAcc) of freely moving, male, Sprague-Dawley laboratory rats, while animals' locomotor (forward ambulations) and stereotypic behavior (fine movements of sniffing and grooming) were monitored at the same time with infrared photobeams. Monoamine release mechanisms were determined by using a depolarization blocker (gamma-butyrolactone, gamma BL). Miniature carbon sensors (BRODERICK PROBES microelectrodes) smaller than a human hair were used in conjunction with a semidifferential electrochemical circuit to detect release of each monoamine in separate signals and within seconds. The purpose was to evaluate the neuropharmacology of the 5-HT(2)/DA(2) antagonist risperidone in its current therapeutic role as an atypical antipsychotic medication as well as in its potential role as pharmacotherapy for cocaine psychosis and withdrawal symptoms. Acute (single drug dose) and subacute (24-h follow-up studies in the same animal, no drug administration) studies were performed for each treatment group. The hypothesis for the present studies is derived from a growing body of evidence that cocaine-induced psychosis and schizophrenic psychosis share similar neurochemical and behavioral manifestations. Results showed that (1) Acute administration of risperidone (2 mg/kg sc) significantly increased DA and 5-HT release in NAcc above baseline (habituation) values (P<.001) while locomotion and stereotypy were virtually unaffected. In subacute studies, DA release did not differ from baseline (P>.05), whereas 5-HT release was significantly increased above baseline (P<.001). Locomotion increased over baseline but not to a significant degree, while stereotypy was significantly increased above baseline (P<.05). (2) Acute administration of cocaine (10 mg/kg ip) significantly increased both DA and 5-HT release above baseline (P<.001), while locomotion and stereotypy were significantly increased over baseline (P<.001). In subacute studies, DA decreased significantly below baseline (P<.001) and significant decreases in 5-HT release occurred at 15, 20, 50 and 55 min (P<.05). Behavior increased above baseline but did not reach a statistically significant degree. (3) Acute administration of risperidone/cocaine (2 mg/kg sc and 10 mg/kg ip, respectively) showed a significant block of the cocaine-induced increase in DA release in the first hour (P<.001) and 5-HT release in both hours of study (P<.001). Cocaine-induced locomotion and stereotypy were blocked simultaneously with the monoamines (P<.001). In subacute studies, DA and 5-HT release returned to baseline while locomotion and stereotypy increased insignificantly above baseline. Thus, (a) these studies were able to tease out pharmacologically the critical differences between presynaptic and postsynaptic responses to drug treatment(s) and these differences may lead to more effective therapies for schizophrenic and/or cocaine psychosis. (b) Taken together with other data, these acute studies suggest that risperidone may possibly act via inhibition of presynaptic autoreceptors to produce the observed increases in accumbens DA and 5-HT release, whereas cocaine may be acting at least in part via serotoninergic modulation of DA postsynaptically. The subacute data suggest that pharmacokinetics may play a role in risperidone's action and that neuroadaptation may play a role in the mechanism of action of cocaine. Finally, the ability of risperidone to block cocaine-induced psychostimulant neurochemistry and behavior during acute studies while diminishing the withdrawal symptoms of cocaine during subacute studies suggests that risperidone may be a viable pharmacotherapy for cocaine psychosis and withdrawal.\",\n",
              "  'Duchenne muscular dystrophy (DMD) is characterized by muscle degeneration and affects the CNS. Dystrophin is absent in muscle and CNS of both DMD patients and mdx mouse, a model of DMD. While the involvement of vascular compartment in DMD was poorly investigated, some studies suggested a role for mast cells (MC). Tryptase, contained in the MC granules, stimulates angiogenesis in vitro and in vivo. We demonstrated for the first time a correlation between the extent of angiogenesis and the number of tryptase-positive neurons and microvessels and suggest that the tryptase contained in the neurons and in the endothelial cells of the mdx mouse brain may be involved in the regulation of angiogenesis taking place in mdx mouse.',\n",
              "  'The purpose of this study was to investigate the influencing mechanism of Porphyromonas gingivalis extracellular vesicles on human periodontal ligament fibroblasts to better understand the pathogenesis of periodontitis, the major cause of adult tooth loss. Human periodontal ligament fibroblasts were cultured and randomly assigned to a control group and an extracellular vesicles (ECV) group. The ECV group was exposed to isolated Porphyromonas gingivalis extracellular vesicles; the control group was not exposed. Western blotting was used to detect expression of matrix metalloproteinase 1 (MMP-1) and tissue inhibitor of metalloproteinase-1 (TIMP-1), and RT-PCR was used to detect mRNA expression of alkaline phosphatase (ALP). When human periodontal ligament fibroblasts were processed by Porphyromonas gingivalis extracellular vesicles (ECV), protein expression levels of both MMP-1 and TIMP-1 were significantly higher than that of the control group (P<0.05). In contrast, ALP mRNA expression in human periodontal ligament fibroblasts processed by ECV was significantly lower than that of the control group (P<0.05). Porphyromonas gingivalis extracellular vesicles can up-regulate expression of MMP-1 and TIMP-1 protein and ALP mRNA of human periodontal fibroblasts.',\n",
              "  '2. Diagnosis of COPD and met the following criteria:',\n",
              "  'A randomized, phase III multicenter trial of gemcitabine in combination with carboplatin or paclitaxel versus paclitaxel plus carboplatin in patients with advanced or metastatic non-small-cell lung cancer.',\n",
              "  'The sonic hedgehog pathway as a treatment target for extrahepatic biliary tract cancer.',\n",
              "  \"The frequency of MEFV gene mutations in Behcet's disease and their relation with clinical findings.\",\n",
              "  'Eight years with haemovigilance in Norway. What have we learnt?',\n",
              "  '- Central sleep apnea (CSA)',\n",
              "  'OBJECTIVE: To develop a maximum a posteriori probability (MAP) Bayesian estimator for the pharmacokinetics of oral cyclosporin, based on only three timepoints, and evaluate its performance with respect to a full-profile nonlinear regression approach. PATIENTS: 20 adult patients with stable renal transplants given orally administered microemulsified cyclosporin and mycophenolate. METHODS: Cyclosporin was assayed by liquid chromatography-mass spectrometry. Nonlinear regression and MAP Bayesian estimation were performed using a home-made program and a previously designed pharmacokinetic model including an S-shaped absorption profile described by a gamma distribution. OUTCOME MEASURES AND RESULTS: MAP Bayesian estimation using the best limited sampling strategy (before administration, and 1 and 3 hours after administration) was compared with nonlinear regression (taken as the reference method) for the prediction of the different pharmacokinetic parameters and exposure indices. Median relative prediction error was -0.49 and -3.42% for area under the concentration-time curve over the administration interval of 12 hours (AUC12) and estimated peak drug concentration (Cmax), respectively (nonsignificant). Relative precision was 2.00 and 4.32%, and correlation coefficient (r) was 0.985 and 0.955, for AUC12 and Cmax, respectively. CONCLUSION: This paper reports preliminary results in a stable renal transplant patient population, showing that MAP Bayesian estimation can allow accurate prediction of AUC12 and Cmax with only three samples (0, 1 and 3 hours). Although these results require confirmation by further studies in other clinical settings, using other drug combinations, other analytical methods and commercially available pharmacokinetic software, the method seems promising as a tool for the therapeutic drug monitoring of cyclosporin in clinical practice or for exposure-controlled studies.',\n",
              "  'Medical status of airline pilots over 60 years of age: Japanese experience, 1991-2007.',\n",
              "  'Quality of life and emotional distress in advanced prostate cancer survivors undergoing chemotherapy.',\n",
              "  'In April 2004, the United Kingdom introduced a new General Medical Services (GMS) contract that provided new governance and incentive arrangements for general practice. In particular, the new Quality and Outcomes Framework is a points-based system that sets targets for clinical, organizational and practice-related standards with financial payments for achieving set levels of performance. This paper describes the new contract arrangements and their impact on general practice - focusing on the experience in England, where wider policy changes are also having an important impact on practices - and drawing out potential lessons that will be of interest to Canadian practitioners and policy makers.',\n",
              "  'OBJECTIVE: To analyze the appropriate producing area of Cistanche desertiola. METHOD: The TCMGIS-I (suitability evaluation geographic information system of traditional Chinese medicine producing area) was used to analyze the appropriate producing area of C. desertiola basing on the optimum ecological factors of Aalashan, Inner-Mongolia autonomous region and North Xinjiang au-tonomous region, the traditional producing areas of C. desertiola. RESULT: The results showed that the suitable producing areas of C. desertiola included 159 counties of 5 autonomous regions and provinces, i.e. Xinjiang, Inner Mongolia, Ningxia autonomous regions, and Gansu as well as Qinghai provinces. The total area was 675 354.9 km2 and distributed mainly in Aalashan of Inner Mongolia, eastern part of North Xinjiang, northern part of Gansu and in the middle of Ningxia. CONCLUSION: The suitable producing areas based on TCMGIS-I covered all areas registered in the 3rd national investigation of Chinese traditional medicine resource. And the results were also corresponding to the traditional producing area of C. desertiola recorded in ancient literature and the successful cultivation areas nowadays. It suggested the rationality and reliability of TCMGIS-I.',\n",
              "  'The 786-0 renal cancer cell-derived exosomes promote angiogenesis by downregulating the expression of hepatocyte cell adhesion molecule.',\n",
              "  'Variable Charge X/Y (VCX/Y) is a human testis-specific gene family that localized on X and Y chromosomes. In this study, VCY protein was expressed in E. coli in the form of glutathione-S-transferase (GST) fusion protein. With the purified fusion protein as antigen, the anti-GST-VCY antibody was generated and the localization of VCY protein in human testis was determined by immunohistochemistry. In the testis seminiferous epithelium, VCY proteins were highly expressed in nuclei of germ cells. Using propidium iodide staining and green fluorescent protein (GFP) tag technologies, VCY and VCX-8r proteins were mainly localized in the nucleoli of COS7 cells. In addition, the colocalization for VCY and VCX-8r in COS7 cells was also observed. With VCY cDNA as bait, a cDNA fragment of acidic ribosomal protein PO was obtained using yeast two-hybrid system. All the information above indicates that VCX/Y protein family might be involved in the regulation of ribosome assembly during spermatogenesis.',\n",
              "  '',\n",
              "  '',\n",
              "  'Intramuscular use',\n",
              "  'Methods for adenovirus-mediated gene transfer to synovium in vivo.',\n",
              "  'Name and address of the manufacturer responsible for batch release',\n",
              "  'Bone morphogenetic protein -4 and -5 in pancreatic cancer--novel bidirectional players.',\n",
              "  'We report a case of a 41-year-old man with a splenic abscess caused by methicillin-resistant Staphylococcus aureus (MRSA). He had been treated with antimicrobials and corticosteroids for interstitial pneumonia caused by Mycoplasma pneumoniae and hemolytic anemia. He developed catheter-related (MRSA) bacteremia during his stay in the ICU and was treated with teicoplanin for 2 weeks. After 4 weeks of outpatient follow-up, he was readmitted to the hospital with fever and pain in the left upper quadrant. A thoracoabdominal CT scan showed subcapsular collection in areas of splenic infarction that had been detected on his first admission. CT-guided percutaneous aspiration resulted in the isolation of MRSA. The patient was treated successfully with teicoplanin for 6 weeks. Our aim in presenting this quite rare case is to highlight the tendency of infarcts that develop as a result of hemolytic attacks during systemic infections to be a focus of infection for nosocomial bacteremia.',\n",
              "  '',\n",
              "  '- Absolute neutrophil count (ANC),',\n",
              "  '- Prior or current treatment with bevacizumab or other anti-angiogenic treatment (i.e. anti-vascular endothelial growth factor (VEGF) or vascular endothelial growth factor receptor (VEGFR) therapies or tyrosine kinase inhibitors) for any condition;',\n",
              "  'A total of 123 spa patients with inadequately controlled diabetes mellitus was divided into the following 3 therapeutic groups: 1. therapeutic exercise alone, 2. iodine therapy with iodine brine (including drinking cure with \"iodine-brine concentrate\"), 3. remedial exercise plus iodine brine therapy. All patients received a rigidly controlled diabetic diet. The following parameters were determined at the beginning and at the end of the cure: whole blood and plasma viscosity, fibrinogen, blood glucose, total and HDL-cholesterol, triglycerides, HbA1c, alpha 2-macroglobulin, total protein, microhaematocrit. A significant improvement was found in the values of whole blood viscosity, cholesterol, triglycerides and blood glucose, indicative of a beneficial effect on metabolism, primarily due to the administered diet. The largest decreases were shown by blood viscosity, relative viscosity, triglycerides, cholesterol and HbA1c in group III, and by plasma viscosity in group II. alpha 2-Macroglobulins did not change. Fibrinogen was raised in groups I and III. The importance of the improved blood rheological properties is discussed, particularly with respect to reduced erythrocyte flexibility in diabetics.',\n",
              "  \"BACKGROUND: The association between exposure to Isotretinoin, the development of depression and suicide attempts is controversial. OBJECTIVE: To retrospectively assess pattern of utilization of mental health services in the Israeli Defense Forces (IDF) during a 5-year period for all subjects exposed to Isotretinoin in comparison to a control group consisting of army conscripts suffering from psoriasis. All subjects were young adults (18 to 21 years old) in compulsory military service. METHOD: Exposure to Isotretinoin mandates reporting and marking as a coded medical profile in the IDFs' computerized medical record of each conscript and soldier. Medical data, tracked by military medical profiles, were summarized from medical records of all subjects treated by Isotretinion during the years 1999-2003 and for the control group for the same period. Use of mental health services was the a-priori defined primary outcome measure. RESULTS: During the study period 1419 subjects were exposed to Isotretinoin and 1102 suffered from psoriasis. Utilization of mental health services was highest for the index group wherein 17.2% (245/1419) of subjects were evaluated or treated compared to 12.5% in the control group (psoriasis). The inter-group differences were statistically significant; Chi-square=15.9 (df=2), p=0.0003. CONCLUSIONS: We suggest that psychiatric evaluation be regularly undertaken prior to initiation of Isotretinion treatment in young adults at risk, as well as providing follow-up visits during and at completion of treatment.\",\n",
              "  '',\n",
              "  '',\n",
              "  'The knowledge of Mycobacterium avium complex (MAC) genotypes responsible for lymphadenitis is limited. We retrospectively characterized all of the MAC isolates made in our laboratory in the last 18 years by sequence-based identification and genotyping, and compared the clinical and laboratory data for lymphadenitis-associated and non-lymphadenitis-associated MAC isolates. Of 67 MAC-infected patients, 25 lymphadenitis patients were significantly younger than 42 non-lymphadenitis patients, while the male/female ratio did not significantly differ between the two groups. Cervical topography found in 76.5% of lymphadenitis patients was significantly more frequent in non-immunocompromised patients (p=0.04). M. avium subsp. hominissuis was identified in 53 patients (24 lymphadenitis, 29 non-lymphadenitis), M. colombiense in six patients (five non-lymphadenitis, one lymphadenitis), M. intracellulare in four non-lymphadenitis patients, and M. chimaera in three non-lymphadenitis patients, while negative controls remained negative. M. hominissuis was significantly associated with lymphadenitis (p=0.03). M. hominissuis isolates yielded 15 genotypes in 29 non-lymphadenitis isolates (molecular diversity, 0.622) versus 11 genotypes in 24 lymphadenitis isolates (molecular diversity, 0.578), demonstrating a non-significant lower diversity of M. hominissuis isolates cultured from lymphadenitis. The genotypes did not correlate with the clinical features. These data suggest the presence of several environmental reservoirs for M. hominissuis causing lymphadenitis in France.',\n",
              "  '- Affiliation to social security plan',\n",
              "  'This article presents a litterature overview of the ophthalmologic secondary effects due to Sabril. First, a review of the visual field loss that can be related to Sabril treatment is presented; the epidemiological and physiopathological aspects of this visual field loss are considered based on experimental and clinical data. The link that can be established between electrophysiology and physiopathology following these data is further examined. Finally, two ophthalmologic follow-up algorithms are proposed for patients treated by Sabril, one for adults and the other for children.',\n",
              "  'GFR is better estimated by considering both serum cystatin C and creatinine levels.',\n",
              "  '- Documented clinical diagnosis of erectile dysfunction of at least 3 months duration.',\n",
              "  'The pathogenesis, clinical presentation, radiographic signs, and treatment of atelectasis are reviewed.',\n",
              "  '- The levels of gross motor function will be selected between levels I and II according to Gross Motor Function Classification System (GMFCS); have the ability to walk 10 m independently without an orthosis; should be cognitively competent and able to understand and follow instructions; height will be more than 100 cm to fit with the Biodex balance equipment.',\n",
              "  '',\n",
              "  '[The epistemology of Erasistrate and Hellenistic technology].',\n",
              "  'More than 1100 patients were tested with methylchloroisothiazolinone-methylisothiazolinone, 100 ppm, in aqueous and petrolatum-based patch test materials from 1985 to 1987 by members of the North American Contact Dermatitis Group. Thirteen reactions to the aqueous materials and 10 to the petrolatum-based materials were observed. Irritant reactions were infrequent, and about half the reactions were deemed relevant. From 1984 to 1985, patch tests with this substance at a concentration of 250 ppm in petrolatum were conducted. Thirteen persons were identified as allergic, but three others were sensitized by the patch test procedure. Sensitization as not observed in tests with aqueous or petrolatum-based substance at a concentration of 100 ppm, and this concentration appears to be the best compromise between safety and sensitive detection of allergy. Use tests are helpful but not infallible as a guide in establishing relevance with methylchloroisothiazolinone-methylisothiazolinone. Wash-off products are frequently well tolerated by patients with positive reactions to this substance.',\n",
              "  'To select a ventilator (or a ventilatory mode), consider the most basic characteristics: How is tidal volume generated (with a constant or nonconstant flow or pressure generator)? How does the ventilator trigger a changeover from exhalation to inhalation and cycle back to exhalation? How is tidal volume delivered to the patient (either directly from a power source or indirectly from an intermediate chamber)? What special functions are available? The answers to these questions will not only let you make the best selection but will also help you troubleshoot when a ventilator fails to function properly.',\n",
              "  'BACKGROUND: Many patients with end-stage renal disease who are undergoing chronic hemodialysis suffer from sleep disturbance. This paper was designed to study the severity and prevalence of sleep disorders and the factors affecting the syndromes in this unique patient group. METHODS: We conducted this study by the use of questionnaires. Included in this study were a total of 245 patients at our center who had end-stage renal disease (ESRD) and who received hemodialysis thrice weekly for more than three months. Their demographic data and biochemical and hematologic parameters were analyzed. All patients were asked to complete two questionnaires (in a Chinese version) of the Pittsburgh Sleep Quality Index (PSQI) and Beck Depression Inventory second edition (BDI-II), either by themselves or with assistance from the medical staff. RESULTS: One hundred and sixty-four patients completed both questionnaires with a response rate of 70.4%. Their mean age was 57.9 +/- 11.8 (ranging from 23.1 to 83.7) years old. They had been receiving hemodialysis for an average of 49.1 +/- 50.9 months before the study. The male to female ratio was 77:87. Seventy six (46.3%) patients had diabetes mellitus. The prevalence of sleep disturbance was 74.4% (122/164), defined as PSQI scores >5. The poor sleepers had higher BDI scores and a higher ratio of females comparing to the good sleepers. By a multivariate analysis, the BDI scores and female sex were the independent predictors of the patients being poor sleepers. In analyzing the poor sleepers, the BDI scores, durations of hemodialysis and hemoglobin levels were the independent factors for predicting the global PSQI scores. CONCLUSION: The questionnaire showed a high prevalence of insomnia in the dialytic population. The study also attributes a predictive role in sleep quality to gender, depression, dialytic duration, and hemoglobin levels. The data indicate that in the management of insomnia in this patient group, anemia and depression, both of which are potentially correctable, should be assessed.',\n",
              "  'Verucciform xanthoma of the penis not associated with human papillomavirus infection.',\n",
              "  '- 4. Have no evidence of depression',\n",
              "  'OBJECTIVE: To assess the effect of varying maternal intake of docosahexaenoic acid (DHA, 22 : 6n-3), in the absence of other dietary polyunsaturates, on breast milk fatty acids. DESIGN AND INTERVENTION: Lactating mothers were randomised on day 5 post-partum to groups consuming equal numbers of capsules but containing either placebo or an oil containing DHA (43%) as its only polyunsaturate to receive 0, 0.2, 0.4, 0.9, 1.3 g DHA/day. Breast milk fatty acids as well as maternal plasma and erythrocyte phospholipids were assessed at 12 weeks post partum by capillary gas chromatography. RESULTS: Breast milk DHA levels ranged from 0.2 to 1.7% of total fatty acids and increased in a dose dependent manner (r2 = 0.89, P < 0.01). Maternal plasma (r2 = 0.71, P < 0.01) and erythrocyte (r2 = 0.77, P < 0.01) phospholipid DHA levels increased and were also strongly associated with dietary dose of DHA. Increasing maternal dietary doses of DHA did not affect breast milk arachidonic acid (AA, 20 : 4n-6) levels or antioxidant status as measured by plasma vitamin A or E levels. CONCLUSIONS: Our results have demonstrated that DHA in the diet has a strong, specific and dose-dependent effect on breast milk DHA.',\n",
              "  'OBJECTIVE: To develop a novel prenatal assay based on selective analysis of cell-free DNA in maternal blood for evaluation of fetal Trisomy 21 (T21) and Trisomy 18 (T18). METHODS: Two hundred ninety-eight pregnancies, including 39 T21 and seven T18 confirmed fetal aneuploidies, were analyzed using a novel, highly multiplexed assay, termed digital analysis of selected regions (DANSR). Cell-free DNA from maternal blood samples was analyzed using DANSR assays for loci on chromosomes 21 and 18. Products from 96 separate patients were pooled and sequenced together. A standard Z-test of chromosomal proportions was used to distinguish aneuploid samples from average-risk pregnancy samples. DANSR aneuploidy discrimination was evaluated at various sequence depths. RESULTS: At the lowest sequencing depth, corresponding to 204,000 sequencing counts per sample, average-risk cases where distinguished from T21 and T18 cases, with Z statistics for all cases exceeding 3.6. Increasing the sequencing depth to 410,000 counts per sample substantially improved separation of aneuploid and average-risk cases. A further increase to 620,000 counts per sample resulted in only marginal improvement. This depth of sequencing represents less than 5% of that required by massively parallel shotgun sequencing approaches. CONCLUSION: Digital analysis of selected regions enables highly accurate, cost efficient, and scalable noninvasive fetal aneuploidy assessment.',\n",
              "  'Must be free of active sinopulmonary or other infection at time of enrollment.',\n",
              "  'Furthermore, during the course of the study after single and multiple oral dose administrations, the amount of GLPG2222 present in the blood and urine (pharmacokinetics) will be characterized.',\n",
              "  'The therapeutic potential of cannabis and cannabinoids.',\n",
              "  'Inclusion Criteria:',\n",
              "  '',\n",
              "  '24 hours after dosing) by an average of 8-13/ 5-8 mm Hg (systolic/ diastolic) greater than those associated with placebo.',\n",
              "  '- Diagnosis of reduced hepatic function (Child Pugh Classification A or B)',\n",
              "  'As of 18 July 2014, the recruitment was stopped prematurely and the study was unblinded. Only patients on active treatment will have the option to continue in the study. Patients randomised to the Placebo group were withdrawn.',\n",
              "  '4. Select stool specimen, preferably a soft one. Add 100-200 mL preservative-free 0.9% saline to 30-70 grams of stool for processing in a conventional, household blender to create a homogenized, liquid slurry.',\n",
              "  'Developing a medical emergency team running sheet to improve clinical handoff and documentation.',\n",
              "  '[An analysis of clinicopathologic features affecting prognosis of thymoma].',\n",
              "  'The relationships between neurons containing dopamine and nitric oxide synthase in the ventral tegmental area.',\n",
              "  'BACKGROUND: About 80% lung cancer is non-small cell lung cancer (NSCLC) and more than 70% are in advanced stage. The aim of this study is to evaluate the clinical efficacy and the side effects of erlotinib in the treatment of elderly patients with advanced non-small cell lung cancer. METHODS: Twenty-nine patients with advanced non-small cell lung cancer were treated with erlotinib 150 mg/d, then the adverse reaction and clinical efficacy were recorded during 3 months. RESULTS: Total 29 patients were evaluated for efficacy. The total rate of effect was 20.69%, including 1 case CR, 5 cases PR, 9 cases SD and 14 cases PD. We compared the effective rate of stage III with IV. There were no significant difference between the effective rate of stage III and IV (P=0.337). The main side effects were rash (37.93%), diarrhea (17.24%) and vomiting (6.9%) and most side effects were grade I and II. CONCLUSIONS: Erlotinib for elderly patients with advanced non-small cell lung cancer have better effective and less toxic effects and the further clinical study should be warranted.',\n",
              "  'A physical approach to the automated classification of clinical percussion sounds.',\n",
              "  \"Chronic obstructive pulmonary disease (COPD) is a leading cause of disability in all its stages, and death in patients with moderate or severe obstruction. At present, COPD is suboptimally managed; current health is often not measured properly and hardly taken into account in management plans, and the future risk for patients with regard to health status and quality of life is not being evaluated. This review addresses the effect of COPD on the lives of patients and examines ways in which existing assessment tools meet physicians' needs for a standardized, simple method to measure consistently the full impact of COPD on patients in routine clinical practice. Current assessment of COPD severity tends to focus on airflow limitation, but this does not capture the full impact of the disease and is not well correlated with patient perception of symptoms and health-related quality of life. Qualitative studies have demonstrated that patients usually consider COPD impact in terms of frequency and severity of symptoms, and physical and emotional wellbeing. However, patients often have difficulty expressing their disease burden and physicians generally have insufficient time to collect this information. Therefore, it is important that methods are implemented to help generate a more complete understanding of the impact of COPD. This can be achieved most efficiently using a quick, reliable, and standardized measure of disease impact, such as a short questionnaire that can be applied in daily clinical practice. Questionnaires are precision instruments that contribute sensitive and specific information, and can potentially help physicians provide optimal care for patients with COPD. Two short, easy-to-use, specific measures, ie, the COPD Assessment Test and the Clinical COPD Questionnaire, enable physicians to assess patients' health status accurately and improve disease management. Such questionnaires provide important measurements that can assist primary care physicians to capture the impact of COPD on patients' daily lives and wellbeing, and improve long-term COPD management.\",\n",
              "  'Most patients diagnosed with craniopharyngioma survive long-term, but suffer many consequences of the disease and its treatment. Among the metabolic consequences, there is a high prevalence of panhypopituitarism and diabetes insipidus, mainly due to the surgical treatment. Obesity is also more prevalent in these patients than in the general population, and gets worse with time. It is a consequence of a diminished basal metabolic rate and a lower physical activity compared to that of matched controls, with a similar or lower caloric intake. Many different hormonal alterations that could be responsible for those changes in the energy balance have been found. Patients whose tumor involved the hypothalamus are more prone to develop obesity and its consequences. Cardiovascular risk factors are also more prevalent in these patients, leading to a high cardiovascular morbidity and mortality. Sleep disturbances, dysfunction in thermoregulation and thirst and a lower bone mineral density can also be found. Although randomized clinical trials comparing different treatments are lacking, it looks like therapeutic strategies have a minor influence on the risk of long-term sequelae.',\n",
              "  '',\n",
              "  '',\n",
              "  '',\n",
              "  'Regulation of the multifunctional Ca2+/calmodulin-dependent protein kinase II by the PP2C phosphatase PPM1F in fibroblasts.',\n",
              "  'Alternate methods of first-trimester diagnosis.',\n",
              "  '',\n",
              "  '',\n",
              "  'Salvia for dementia therapy: review of pharmacological activity and pilot tolerability clinical trial.',\n",
              "  \"Different variables predict anomia in different subjects: a longitudinal study of two Alzheimer's patients.\",\n",
              "  'Human glioma is a malignancy that has no effective systemic therapy. Focal adhesion kinase (FAK) is overexpressed in various invasive and metastatic tumor cells. To investigate its prognostic value in human gliomas, which currently is unknown, we examined the expression patterns of FAK and its activated form, phospho-FAK (FAK pY397), and analyzed the correlation between their expression and prognosis in patients with gliomas. Immunohistochemical staining was performed to detect FAK and phospho-FAK expression patterns in the biopsies from 96 patients with primary gliomas. Kaplan-Meier survival and Cox regression analyses were performed to evaluate the prognosis of patients. As a result, the immunohistochemical analysis revealed that FAK and phospho-FAK both were associated significantly with the Karnofsky performance scale (KPS) score and World Health Organization (WHO) grades of patients with gliomas. Especially, the positive expression rates of FAK and phospho-FAK were significantly higher in patients with a higher grade (P = 0.01 and 0.02, respectively) and a lower KPS score (P = 0.006 and 0.008, respectively). The patients with FAK positive expression correlated with a poor prognosis of human gliomas (P = 0.006) as well as phospho-FAK (P = 0.01). The survival rate of the patients with FAK+/phospho-FAK+ expression was the lowest (P < 0.05), and conjoined expressions of FAK/phospho-FAK were an independent prognostic indicator of human gliomas (P < 0.05). In conclusion, the results suggest that the elevated expression of FAK and phospho-FAK is an important feature of human glioma. A combined detection of FAK/phospho-FAK coexpression may benefit us in the prediction of the prognosis of human glioma.',\n",
              "  \"The human epidermal growth factor receptor 2 (HER2) is a transmembrane tyrosine kinase receptor overexpressed in 30% of human breast cancers. One of the mechanisms by which tumor cell proliferation can be inhibited consists in hampering HER2 dimerization by targeting its extracellular domain with specific antibodies. In recent clinical practice, a valuable alternative to entire IgGs resides in the use of smaller molecules, such as single-chain variable fragments (scFv), developed for selective molecular targeting. In this paper, we report on the production and purification of a soluble anti-HER2 scFv antibody secreted by Pichia pastoris. The gene encoding scFv800E6 with an additional 6x His-tag at the 3'-end was inserted into the expression vector pPICZalpha and transformed in P. pastoris. The highest expression level was obtained in presence of 0.5% methanol and 0.8% glycerol in the culture medium after 48 h of induction. The use of P. pastoris proved very valuable as an expression system, allowing the isolation of 10 mg/L of highly purified antibody, remarkably higher than previously reported data. The functionality of purified anti-HER2 scFv was assessed by cytofluorimetry and immunofluorescence on HER2-positive MCF7 breast cancer cells, showing good affinity and high selectivity for the target membrane receptor. These findings confirm that P. pastoris is a suitable host for high level expression of antibody fragments and highlight the potential role of scFv800E6 in diagnostic and therapeutic application.\",\n",
              "  'INTRODUCTION: Acute bleeding from the upper gastrointestinal tract remains the commonest emergency in gastroen-terology, and is most often caused by gastroduodenal ulcer disease. Despite introduction of novel endoscopic techniques and pharmacological treatment, 6-15% patients have to be operated. The aim of our investigation is analyze data of patients treated for gastrointestinal ulcer bleeding in our institution, their treatment options and outcome. PATIENTS AND METHODS: We included 2237 patients admitted in the Department for Emergency medicine of Clinical center of Serbia during the period from January 1999 until December 2003. because of gastroduodenal ulcer bleeding. We analyzed age, gender treatment option, hospital stay and mortality. RESULTS: The mean age of our patients was 61.58 years, 1346 male and 891 female. The majority of patients were conservatively treated (84.5%). Operated patients mostly undergo Billroth II resection (57.8%). The mean hospital stay was 7.3 days. Average mortality was 14.4%. CONCLUSIONS: Despite adequate endoscopic management of bleeding gastroduodenal ulcer, surgeons will continue to treat this patients for emergency surgery.',\n",
              "  \"1. Subject's VCF morphology is deemed unsuitable for RF-TVA in the judgment of the Investigator.\",\n",
              "  '- Life expectancy of at least 3 months',\n",
              "  'No studies have been conducted to determine the effect of TMZ on the metabolism or elimination of other medicinal products.',\n",
              "  'The heart in muscular dystrophy.',\n",
              "  'Apolipoprotein E (apoE) mediates the hepatic clearance of plasma lipoproteins, facilitates cholesterol efflux from macrophages and aids neuronal lipid transport. ApoE is expressed at high levels in hepatocytes, macrophages and astrocytes. In the present study, we identify nuclear and cytosolic pools of apoE in human fibroblasts. Fibroblast apoE mRNA and protein levels were up-regulated during staurosporine-induced apoptosis and this was correlated with increased caspase-3 activity and apoptotic morphological alterations. Because the transcription of apoE and specific pro-apoptotic genes is regulated by the nuclear receptor LXR (liver X receptor) alpha, we analysed LXRalpha mRNA expression by quantitative real-time PCR and found it to be increased before apoE mRNA induction. The expression of ABCA1 (ATP-binding cassette transporter A1) mRNA, which is also regulated by LXRalpha, was increased in parallel with apoE mRNA, indicating that LXRalpha probably promotes apoE and ABCA1 transcription during apoptosis. Fibroblast apoE levels were increased under conditions of serum-starvation-induced growth arrest and hyperoxia-induced senescence. In both cases, an increased nuclear apoE level was observed, particularly in cells that accumulated lipofuscin. Nuclear apoE was translocated to the cytosol when mitotic nuclear disassembly occurred and this was associated with an increase in total cellular apoE levels. ApoE amino acid sequence analysis indicated several potential sites for phosphorylation. In vivo studies, using 32P-labelling and immunoprecipitation, revealed that fibroblast apoE can be phosphorylated. These studies reveal novel associations and potential roles for apoE in fundamental cellular processes.',\n",
              "  '[Clinical effects and immunological analysis of intraabdominal and intrapleural injection of lentinan for malignant ascites and pleural effusion of gastric carcinoma].',\n",
              "  '',\n",
              "  '9. Use of supplements enriched with amino acids',\n",
              "  'The present clinical assay proposes to study the feasibility, safety and effectiveness of treatment with autologous effector cells expanded ex vivo associated with a standard maintenance treatment with rituximab in patients with follicular lymphoma in remission after first-line treatment. In addition, we plan to analyse various biological parameters that can predict the susceptibility of patients to treatment with rituximab. Specifically, we propose to study the polymorphisms of Fc receptor, polymorphisms related to the ability of complement activation, to study both the complement activity and peripheral blood cell subpopulations that can mediate directly or indirectly dependent antibody cytotoxic effect. We will also try to correlate any of these biological parameters with the response to treatment.',\n",
              "  '- non degenerative causes of LSS such as',\n",
              "  'Investigations: electrolyte imbalance (including hypokalaemia and hyponatraemia, see section 4.4), hyperuricaemia, glycosuria, hyperglycaemia, increases in cholesterol and triglycerides',\n",
              "  '- One or more mucocutaneous lesions exhibiting ulceration',\n",
              "  '',\n",
              "  \"Relationship between CSF biomarkers of Alzheimer's disease and rates of regional cortical thinning in ADNI data.\",\n",
              "  'Criteria of wound infection:',\n",
              "  '',\n",
              "  'OBJECTIVE: Mexican Americans have low rates of service utilization for mental health problems. This study examined the use of health services by persons who have symptoms of mental distress that they say impair their ability to function. METHODS: A stratified field survey was conducted in central California to select a probabilistic sample of persons of Mexican origin. A multinomial logistic regression was used for the analysis. RESULTS: Among respondents who reported functional impairments attributable to their symptoms, 58 percent met diagnostic criteria for a mental disorder. Of that group, 69 percent did not use any health services. Respondents who sought medical services for mental health symptoms were more likely to be women and to meet diagnostic criteria for a mental disorder. Respondents who sought mental health services for their symptoms were more likely to be female, to be unmarried, and to have had 12 or more years of education. Health insurance status was not associated with type of service used. CONCLUSIONS: Even among Mexican Americans who met diagnostic criteria for a mental illness, most did not use services of any sort, and many of those who sought treatment for their symptoms turned to medical and informal services.',\n",
              "  'BACKGROUND: Efatutazone (CS-7017), a novel peroxisome proliferator-activated receptor gamma (PPARgamma) agonist, exerts anticancer activity in preclinical models. The authors conducted a phase 1 study to determine the recommended phase 2 dose, safety, tolerability, and pharmacokinetics of efatutazone. METHODS: Patients with advanced solid malignancies and no curative therapeutic options were enrolled to receive a given dose of efatutazone, administered orally (PO) twice daily for 6 weeks, in a 3 + 3 intercohort dose-escalation trial. After the third patient, patients with diabetes mellitus were excluded. Efatutazone dosing continued until disease progression or unacceptable toxicity, with measurement of efatutazone pharmacokinetics and plasma adiponectin levels. RESULTS: Thirty-one patients received efatutazone at doses ranging from 0.10 to 1.15 mg PO twice daily. Dose escalation stopped when maximal impact on PPARgamma-related biomarkers had been reached before any protocol-defined maximum-tolerated dose level. On the basis of a population pharmacokinetic/pharmacodynamic analysis, the recommended phase 2 dose was 0.5 mg PO twice daily. A majority of patients experienced peripheral edema (53.3%), often requiring diuretics. Three episodes of dose-limiting toxicities, related to fluid retention, were noted in the 0.10-, 0.25-, and 1.15-mg cohorts. Of 31 treated patients, 27 were evaluable for response. A sustained partial response (PR; 690 days on therapy) was observed in a patient with myxoid liposarcoma. Ten additional patients had stable disease (SD) for >/=60 days. Exposures were approximately dose proportional, and adiponectin levels increased after 4 weeks of treatment at all dose levels. Immunohistochemistry of archived specimens demonstrated that PPARgamma and retinoid X receptor expression levels were significantly greater in patients with SD for >/=60 days or PR (P = .0079), suggesting a predictive biomarker. CONCLUSIONS: Efatutazone demonstrates acceptable tolerability with evidence of disease control in patients with advanced malignancies.',\n",
              "  'Successful HLA-identical hematopoietic stem cell transplantation in a patient with purine nucleoside phosphorylase deficiency.',\n",
              "  'Weight cycling and risk of gallstone disease in men.',\n",
              "  'It should be inspected visually for particulate matter and discolouration prior to administration.',\n",
              "  '',\n",
              "  'In a controlled feeding study, the effects of substituting 25 g soy protein for meat on calcium retention and bone biomarkers were determined. Postmenopausal women (n = 13) ate two diets that were similar, except that, in one diet, 25 g high-isoflavone soy protein (SOY) was substituted for an equivalent amount of meat protein (control diet), for 7 wk each in a randomized crossover design. After 3 wk of equilibration, calcium retention was measured by labeling the 2-d menu with (47)Ca, followed by whole-body counting for 28 d. Urinary calcium and renal acid excretion were measured at wk 3, 5, and 7. Biomarkers of bone and cardiovascular health were measured at the beginning and end of each diet. Calcium was similarly retained during the control and SOY diets (d 28, percent dose, mean +/- pooled sd: 14.1 and 14.0 +/- 1.6, respectively). Despite a 15-20% lower renal acid excretion during the SOY diet, urinary calcium loss was unaffected by diet. Diet also did not affect any of the indicators of bone or cardiovascular health. Substitution of 25 g high isoflavone soy protein for meat, in the presence of typical calcium intakes, did not improve or impair calcium retention or indicators of bone and cardiovascular health in postmenopausal women.',\n",
              "  '',\n",
              "  '',\n",
              "  '',\n",
              "  'Cutaneous side-effects in patients on long-term treatment with epidermal growth factor receptor inhibitors.',\n",
              "  '- Subjects with protein-losing enteropathies, hypoalbuminaemia.',\n",
              "  '',\n",
              "  '- herpetic keratitis',\n",
              "  'Short-term multidisciplinary non-pharmacological intervention is effective in reducing liver fat content assessed non-invasively in patients with nonalcoholic fatty liver disease (NAFLD).',\n",
              "  'All the patients will receive the standard of care of our Institution. Adequacy of CPB perfusion will be assessed using oxygen delivery calculation, lactate production, SvO2.',\n",
              "  '',\n",
              "  '',\n",
              "  '',\n",
              "  'Study to test the technical accuracy and userfriendliness of a Point-of-care C Reactive Protein device (POC CRP device) in comparison with laboratory CRP testing in nursing home residents',\n",
              "  '- Scleroderma',\n",
              "  'OBJECTIVE: To determine the relationship of thick greasy tongue fur formation and permeability of vascular endothelial cells (ECs) with the protein expression of zonula occludens-1 (ZO-1). METHODS: Sprague Dawley rats were randomly divided into a model group of severe acute pancreatitis (SAP) and a sham-operated (SO) group. The SAP rats were further divided into two subgroups on the basis of tongue-coating status: a thick greasy tongue fur group (SAP-TGF) and a normal tongue fur group (SAP-NF). Six rats were chosen randomly from every group mentioned above for an Evans blue assay 5 days after model establishment. For the histomorphology analysis, the expressions of ZO-1 protein and mRNA were studied by hematoxylin-eosin (H&E) staining, transmission electron microscope, Western blot, and Q-PCR using blood and tongue tissues, which were collected from 8 rats randomly chosen from each group. RESULTS: The papillae density of the rat tongue surface and the caryocinesis frequency of the basal layer were significantly increased in the SAP-TGF group compared with the SO group (P<0.05). Evans blue levels in the tongue tissue of the SAP-TGF group were significantly higher than that of the SO and SAP-NF groups (P<0.05). Vascular ECs were wider and obviously fissured in the SAP-TGF group under transmission electron microscope observation. The protein and mRNA expression of ZO-1 in the SAP-TGF group were lower than those in the SAP-NF (P<0.05). CONCLUSIONS: Reproductive activity enhancement of glossal epithelial cells was one of the main characteristics of thick greasy tongue fur formation. An increase in vasopermeability was closely associated with thick greasy tongue fur formation. Tight junction structural variation of vascular ECs might play an important role in the pathological and physiological process of thick greasy tongue fur formation.',\n",
              "  'Src kinase is an attractive target for drug development based on its established relationship with cancer and possible link to hypertension. The suitability of traditional Chinese medicine (TCM) compounds as potential drug ligands for further biological evaluation was investigated using structure-based, ligand-based, and molecular dynamics (MD) analysis. Isopraeroside IV, 9alpha-hydroxyfraxinellone-9-O-beta-D-glucoside (9HFG) and aurantiamide were the top three TCM candidates identified from docking. Hydrogen bonds and hydrophobic interactions were the primary forces governing docking stability. Their stability with Src kinase under a dynamic state was further validated through MD and torsion angle analysis. Complexes formed by TCM candidates have lower total energy estimates than the control Sacaratinib. Four quantitative-structural activity relationship (QSAR) in silico verifications consistently suggested that the TCM candidates have bioactive properties. Docking conformations of 9HFG and aurantiamide in the Src kinase ATP binding site suggest potential inhibitor-like characteristics, including competitive binding at the ATP binding site (Lys295) and stabilization of the catalytic cleft integrity. The TCM candidates have significantly lower ligand internal energies and are estimated to form more stable complexes with Src kinase than Saracatinib. Structure-based and ligand-based analysis support the drug-like potential of 9HFG and aurantiamide and binding mechanisms reveal the tendency of these two candidates to compete for the ATP binding site.',\n",
              "  '',\n",
              "  '',\n",
              "  'A severe case of neonatal toxic shock syndrome-like exanthematous disease with superantigen-induced high T cell response.',\n",
              "  '',\n",
              "  'Mumps encephalitis: return with a vengeance.',\n",
              "  '- Subjects must be 18 or older, weigh more than 34kg and may be of either sex and race.',\n",
              "  'Elimination:',\n",
              "  'A phase I, single-blind, randomised, placebo-controlled, single centre study to investigate the safety, tolerability and pharmacodynamics of intravenous MEDI8111 after single ascending doses in healthy male subjects.',\n",
              "  '',\n",
              "  \"- All patients within the specified age ranges scheduled at Boston Children's Hospital for a nuclear medicine study utilizing Tc-99m MAG3 will be eligible to volunteer for inclusion in this study. It is also essential that inclusion does not compromise the potential of acquiring the clinically indicated image acquisition.\",\n",
              "  '',\n",
              "  '',\n",
              "  'The chest radiograph and sarcoidosis. Reevaluation of the chest radiograph in assessing activity of sarcoidosis: a preliminary communication.',\n",
              "  'The plain abdominal roentgenogram in the management of encopresis.',\n",
              "  'A comparative bioavailability of 2 oral solid phenytoin dosage forms.',\n",
              "  'Bidirectionality and gender differences in emotional disturbance associations with obesity among Taiwanese schoolchildren.',\n",
              "  '',\n",
              "  'Non-pharmacological management of patients hospitalized with heart failure at a teaching hospital.',\n",
              "  '',\n",
              "  'The effectiveness of a \"critical pathway\" in the management of laryngectomy patients.',\n",
              "  'PURPOSE: To estimate bacterial biofilm formation on the hydrophilic acrylic (hydrogel) intraocular lens (IOL) Meridian (HP60M, Baush & Lomb) and to investigate a preventive effect against biofilm formation of hydrogel IOLs presoaked in antibiotics. METHODS: Two Staphylococcus epidermidis strains, ATCC 12228 and ATCC 35984 (biofilm-producer), and an Enterococcus faecalis strain (KOS1, clinical isolate from an endophthalmitis patient) were used. Biofilms were cultivated on disks of different IOL materials: hydrogel, PMMA (polymethylmethacrylate), and acrylic. Biofilms were stained with crystal violet (CV), which served as an index of biofilm formation. The bacterial population was enumerated after biofilm homogenization. Biofilms were also examined by scanning electron microscopy (SEM). IOLs were presoaked in two antibiotics, levofloxacin (LVFX) and gatifloxacin (GFLX), and then the bacterial population was enumerated. As in vivo experiment, antibiotics-treated and nontreated Meridian IOLs were implanted in rabbit eyes, which served as an endophthalmitis model, and the bacterial population was enumerated. RESULTS: The amount of biofilm formed was the least on hydrogel from among the three materials tested after 48- and 72-hr incubation (p < 0.05 to 0.01). The bacterial population was the least on hydrogel from among the three materials with ATCC 12228 (p < 0.05 to 0.01), and the bacterial population was significantly different between hydrogel and acrylic after 72-hr incubation with ATCC 35984 (p < 0.05). Biofilm by the two S. epidermidis strains were recognized after 24-hr incubation. Rates of biofilm-positive SEM fields, which were defined as being occupied by biofilm over at least half of the area, were increased through 72 hr with ATCC 35984. While the E. faecalis strain showed no bacterial adherence on the antibiotics-treated hydrogel IOLs, adherence of the S. epidermidis strain, ATCC 35984 was recognized on the LVFX-treated IOLs after 48-hr incubation (103 to 104 CFU/ml). In the rabbit in vivo model, the bacterial populations in eyes with an antibiotics-treated Meridian IOL were significantly smaller than in eyes with a nontreated IOL for 72 hr after surgery (p < 0.05 to 0.01). CONCLUSIONS: The biofilm formation was less on hydrogel than on other two materials tested. Hydrogel presoaked in antibiotics exhibited a preventive effect against biofilm formation at least for 24 hr in vitro and against bacterial proliferation in the rabbit in vivo endophthalmitis model.',\n",
              "  \"Two cell-kinetic parameters, the [3H]thymidine-labeling index [3H]dT LI and the flow-cytometric S-phase cell fraction (FCM-S), and DNA ploidy were determined for a prospective series of 110 primary colorectal cancers. Aneuploidy was observed in 66% of tumors and more than one aneuploid peak was present in 12%. The frequency of aneuploid tumors was higher in rectal (80%) and left-colon (70%) cancers than in right-colon cancers (51%), and multiple aneuploid clones were detected more frequently in men than in women (p = 0.03) and more frequently in advanced Dukes' D-stage patients (p = 0.08). The median [3H]dT LI value (17.4%) was similar to the FCM-S value determined by a planimetric model (16.2%) and somewhat higher than the FMC-S value obtained by an optimization procedure (11.2%). However, there was no significant relationship between the [3H]dT LI value and either FCM-S value for individual tumors. Moreover, FCM-S values were higher in aneuploid than in diploid tumors, whereas [3H]dT LI values were independent of DNA-ploidy status; [3H]dT LI and FCM-S were also related differently to some clinical and pathological features such as tumor site and histology. These findings suggest different biological meanings for these 2 cell-kinetic parameters, which should not be used interchangeably.\",\n",
              "  'Pulse oximetry in infants of < 1500 gm birth weight on supplemental oxygen: a national survey.',\n",
              "  'The relationship between some beta-adrenergic mediated responses and plasma concentrations of adrenaline and cyclic AMP in man.',\n",
              "  'OBJECTIVE: To determine incidence of the Ile118Lys endothelin receptor B (EDNRB) mutation responsible for overo lethal white syndrome (OLWS) and its association with specific types of white patterning. ANIMALS: 945 horses of white-patterned bloodlines and 55 solid-colored horses of other breeds. PROCEDURE: Horses were genotyped by use of allele-specific polymerase chain reaction to determine incidence of the Ile118Lys EDNRB mutation. RESULTS: Genotypes detected were homozygous Ile118, homozygous Lys118, and heterozygous. All foals with OLWS were homozygous for the Ile118Lys EDNRB mutation, and adults that were homozygous were not found. White patterning was strongly associated with EDNRB genotype. Color patterns with highest incidence (> 94%) of heterozygotes were frame overo, highly white calico overo, and frame blend overo. White-patterned bloodlines with lowest incidence of heterozygotes (< 21 %) were tobiano, sabino, minimally white calico overo, splashed white overo, nonframe blend overo, and breeding-stock solid. The mutation was not detected in solid-colored horses from breeds without white patterning. CONCLUSIONS AND CLINICAL RELEVANCE: In homozygotes, the Ile118Lys EDNRB mutation causes OLWS. In heterozygotes, the mutation is usually responsible for a frame overo phenotype. The frame pattern can be combined with other white patterns, making accurate estimation of EDNRB genotype by visual inspection difficult. Wide range of incidence of heterozygotes in various subtypes of white-patterned horses indicates different genetic control of these color patterns. Determination of EDNRB genotype by use of a DNA-based test is the only way to determine with certainty whether white-patterned horses can produce a foal affected with OLWS.',\n",
              "  'Is the Scope of Practice endangered by lack of vision?',\n",
              "  '[Cystic fibrosis transmembrane conductance regulator (CFTR) gene: mutations and clinical phenotypes].',\n",
              "  'Inclusion Criteria:',\n",
              "  '9. Autoimmune thrombocytopenia, myelodysplastic syndromes with > 20% marrow blast cells',\n",
              "  'Preliminary identification of Beta-carotene in the vitreous asteroid bodies by micro-Raman spectroscopy and HPLC analysis.',\n",
              "  '- Physical exam and ECG (electrocardiogram)',\n",
              "  '',\n",
              "  'SODIUM HYALURONATE OPHTHALMIC SOLUTION, 0.18% FOR TREATMENT OF DRY EYE SYNDROME:',\n",
              "  'Cardiovascular:',\n",
              "  '- patient who will be treated with antibiotic for less than 5 days',\n",
              "  'BACKGROUND: Diffuse myocardial fibrosis is a final end point in most cardiac diseases. It is missed by the cardiovascular magnetic resonance (CMR) late gadolinium enhancement technique. Currently, quantifying diffuse myocardial fibrosis requires invasive biopsy, with inherent risk and sampling error. We have developed a robust and noninvasive technique, equilibrium contrast CMR (EQ-CMR) to quantify diffuse fibrosis and have validated it against the current gold standard of surgical myocardial biopsy. METHODS AND RESULTS: The 3 principles of EQ-CMR are a bolus of extracellular gadolinium contrast followed by continuous infusion to achieve equilibrium; a blood sample to measure blood volume of distribution (1-hematocrit); and CMR to measure pre- and postequilibrium T1 (with heart rate correction). The myocardial volume of distribution is calculated, reflecting diffuse myocardial fibrosis. Clinical validation occurred in patients undergoing aortic valve replacement for aortic stenosis or myectomy in hypertrophic cardiomyopathy (n=18 and n=8, respectively). Surgical biopsies were analyzed for picrosirius red fibrosis quantification on histology. The mean histological fibrosis was 20.5+/-11% in aortic stenosis and 17.1+/-7.4% in hypertrophic cardiomyopathy. EQ-CMR correlated strongly with biopsy histological fibrosis: aortic stenosis, r(2)=0.86, Kendall Tau coefficient (T)=0.71, P<0.001; hypertrophic cardiomyopathy, r(2)=0.62, T=0.52, P=0.08; combined r(2)=0.80, T=0.67, P<0.001. CONCLUSIONS: We have developed and validated a new technique, EQ-CMR, to measure diffuse myocardial fibrosis as an add-on to a standard CMR scan, which allows for the noninvasive quantification of the diffuse fibrosis burden in myocardial diseases.',\n",
              "  '1. Smokers with ADHD',\n",
              "  'Aberrant expression of the dendritic cell marker TNFAIP2 by the malignant cells of Hodgkin lymphoma and primary mediastinal large B-cell lymphoma distinguishes these tumor types from morphologically and phenotypically similar lymphomas.',\n",
              "  'Nineteen intensive care patients with shock and acute respiratory failure were studied using two different fiber-optic catheters used for the continuous measurement of mixed venous blood oxygen saturation (SVO2). In groupe I patients (n = 11), a Swan-Ganz catheter with optic fibres emitting light characterized by three different wavelengths was used (Opticath Oximetrix). In groupe II patients (n = 8), a Sat-one Edwards catheter was used instead (only two different wavelengths). All the patients were studied in the early stages of shock, once all the calibration procedures had been carried out. An increase in FIO2, using PEEP, fluid replacement therapy and vasoactive drugs or diuretics all improved the cardio-respiratory status of each patient. After each new therapeutic procedure, SVO2 was measured in blood samples obtained from these catheters, and from the pulmonary artery (to give the reference value, using an OSM3 Hemoximeter). Over a period of 1.5 to 6 h, 119 measurements were carried out in Group I, and 91 in Group II. The correlation coefficient was higher with the Oximetrix catheter than with the Edwards one (r = 0.970 and 0.855 respectively; p less than 0.001). Moreover, the 24 h spontaneous drift of the former catheter was less than that of the latter (+3.3 +/- 3.1% vs. +9.3 +/- 7%, p less than 0.05). This study showed that a catheter with optic fibres emitting a light with three wavelengths is more accurate than one emitting only two for the measurement of changes in SVO2 in critically ill patients.',\n",
              "  'BACKGROUND: Current markers for prostate cancer, such as PSA lack specificity. Therefore, novel biomarkers are needed. Unfortunately, the complexity of body fluids often hampers biomarker discovery. An attractive alternative approach is the isolation of small vesicles, i.e. exosomes, approximately 100 nm, which contain proteins that are specific to the tissue from which they are derived and therefore can be considered as treasure chests for disease-specific biomarker discovery. MATERIALS AND METHODS: Exosomes were isolated from 2 immortalized primary prostate epithelial cells (PNT2C2 and RWPE-1) and 2 PCa cell lines (PC346C and VCaP) by ultracentrifugation. After tryptic digestion, proteomic analyses utilized a nanoLC coupled with an LTQ-Orbitrap operated in tandem MS (MS/MS) mode. Accurate Mass and Time (AMT) tag approach was employed for peptide identification and quantitation. Candidate biomarkers were validated by Western blotting and Immunohistochemistry. RESULTS: Proteomic characterization resulted in the identification of 248, 233, 169, and 216 proteins by at least 2 peptides in exosomes from PNT2C2, RWPE-1, PC346C, and VCaP, respectively. Statistical analyses revealed 52 proteins differently abundant between PCa and control cells, 9 of which were more abundant in PCa. Validation by Western blotting confirmed a higher abundance of FASN, XPO1 and PDCD6IP (ALIX) in PCa exosomes. CONCLUSIONS: Identification of exosomal proteins using high performance LC-FTMS resulted in the discovery of PDCD6IP, FASN, XPO1 and ENO1 as new candidate biomarkers for prostate cancer.',\n",
              "  'Should We Look for Celiac Disease among all Patients with Liver Function Test Abnormalities?',\n",
              "  '',\n",
              "  'A cross-sectional study was conducted to determine the risk factors of job-related depression in laboratory technicians in Hospital Universiti Sains Malaysia (HUSM) and Kementerian Kesihatan Malaysia (KKM) Hospitals in Kelantan, between September 2001 and February 2002. One hundred and two laboratory technicians from HUSM and 79 from KKM Hospitals were selected and 84 (82.4%) from HUSM and 71 (89.9%) from KKM Hospitals were recruited as study subjects. Data were collected by self-administered questionnaire using the validated Malay version of the Job Content Questionnaire (JCQ), originally developed by Robert Karasek. The results indicated significant associations between the risk factors of job-related depression, and low social support, and high psychological demands (OR 3.0, 95% CI 1.1-8.8) in laboratory technicians in HUSM. However, for laboratory technicians in KKM Hospitals, the significant association was between job-related depression, and low social support and low decision authority (OR 9.7, 95% CI 1.1-91.1). Low social support was highly associated with job-related depression in laboratory technicians in HUSM and KKM Hospitals. We, therefore, conclude that low social support positively predicted depression in laboratory technicians in HUSM and KKM Hospitals. In addition, high psychological demands also significantly predicted depression in laboratory technicians in HUSM; however, for laboratory technicians in KKM Hospitals, low decision authority was the significant predictor of depression.',\n",
              "  '',\n",
              "  'Cases with fatal out- come had been observed in post-marketing setting (see respiratory events and section 4.8).',\n",
              "  'This study compare 2 techniques to treat difficult bile duct stones endoscopically',\n",
              "  '6. Known allergy to domperidone',\n",
              "  'Lymphomas arise containing abnormalities of various differentiation stage-specific molecules. In the study reported here, we have shown abnormal up-regulation of germinal center B cell-associated GANP in various human lymphomas including mantle cell, diffuse large B cell, and Hodgkin lymphoma, by immunohistochemical analysis. To study the role of GANP in lymphomagenesis, we generated mutant mice (ganp-Tg) that express the transgenic ganp gene under immunoglobulin enhancer and promoter control. Ganp-Tg mice showed a high incidence of lymphomagenesis (29.5%) after aging with a non-B/non-T cell surface phenotype having slight CD45R/B220 expression and Ig transcripts of rearranged VH-DH-JH IgH loci. Lymphomas generated in ganp-Tg mice displayed similar pathologic characteristics to mouse reticulum cell neoplasm or Hodgkin lymphoma-like lesions. The VH sequences of individual mice showed that the tumors proliferated from a single clone or oligoclones, as is found in human diffuse large B-cell lymphomas and Hodgkin lymphoma. These results suggest that GANP overexpression is a causative factor in the generation of B lymphomas.',\n",
              "  \"Since their discovery almost a century ago, bacterial viruses (bacteriophages or 'phages') have been used to prevent and treat a multitude of bacterial infections (phage therapy: PT). In addition, they have been the basis for many advances in genetics and biochemistry. Phage therapy was performed on human subjects in the United States, Europe and Asia in the few decades following their discovery. However, Western countries largely abandoned PT in favour of antibiotics in the 1940s. The relatively recent renaissance of PT in the West can be attributed partly to the increasing prevalence of antibiotic resistance in human and animal pathogens. However, the stringent controls on human trials now required in the United States and Europe have led to a greater number of domestic animal and agricultural applications as an alternative to PT in man. This trend is set to continue, at least in the short term, with recent approval from the Food and Drug Administration allowing commercial phage treatments to be used in human food in the USA. Nevertheless, despite these significant milestones and the growing number of successful PT trials, significant obstacles remain to their widespread use in animals, food and ultimately medicine in many parts of the world. This review will provide a brief overview of the history of PT in the West and will summarize some of the key findings of phage biocontrol studies in animals and meat products.\",\n",
              "  'Emotion researchers often categorize angry and fearful face stimuli as \"negative\" or \"threatening\". Perception of fear and anger, however, appears to be mediated by dissociable neural circuitries and often elicit distinguishable behavioral responses. The authors sought to elucidate whether viewing anger and fear expressions produce dissociable psychophysiological responses (i.e., the startle reflex). The results of two experiments using different facial stimulus sets (representing anger, fear, neutral, and happy) indicated that viewing anger was associated with a significantly heightened startle response (p < .05) relative to viewing fear, happy, and neutral. This finding suggests that while anger and fear faces convey messages of \"threat\", their priming effect on startle circuitry differs. Thus, angry expressions, representing viewer-directed threat with an unambiguous source (i.e., the expresser), may more effectively induce a motivational propensity to withdraw or escape. The source of threat is comparatively less clear for fearful faces. The differential effects of these two facial threat signals on the defensive motivational system adds to growing literature highlighting the importance of distinguishing between emotional stimuli of similar valence, along lines of meaning and functional impact.',\n",
              "  'A literature review found 265 articles on testicular germ cell tumors (TGCTs) detailing the copy number of chromosomal regions and expression of 245 genes. An initial precursor stage, intratubular germ cell neoplasia (IGCN), is characterized by triploidization and an upregulation of KIT, ALPP, CCDN2, and ZNF354A, and a downregulation of CDKN2D. TGCT regularly have a series of chromosomal aberrations: a decrease in copy number at 4q21 approximately qter and 5q14 approximately qter; an increase at 7p21 approximately pter, 7q21 approximately q33, and 8q12 approximately q23 (especially high increase in seminoma); a decrease at 11p11 approximately p15 and 11q14 approximately q24; an increase at 12p11 approximately pter; a decrease at 13q14 approximately q31; an increase of 17q11 approximately q21 (only for nonseminoma); a decrease of 18q12 approximately qter; and an increase at 21q21 approximately qter, 22q11 approximately qter (only for seminoma), and Xq. Macroscopically overt TGCT is associated with a characteristic series of abnormalities in the retinoblastoma pathway including upregulation of cyclin D2 and p27 and downregulation of RB1 and the cyclin-dependent kinase inhibitors p16, p18, p19, and p21. TGCT thus has a synergistic pattern in gene expressions of the retinoblastoma pathway that is rare in other malignancies.',\n",
              "  '',\n",
              "  'A mechanism for upper airway stability during slow wave sleep.',\n",
              "  'Glucocorticoid receptor sites were measured in lymphoblasts of six patients with childhood acute lymphocytic leukemia in relapse who were resistant to glucocorticoid therapy and compared to the number of receptor sites found in the lymphoblasts of 12 patients with acute lymphocytic leukemia who achieved initial complete remissions on glucocorticoid-containing chemotherapy regimens. Resistant patients as a group were found to have lower receptor site levels. This data supports the hypothesis that reduction in the number of receptor sites per cell is one mechanism by which cells become resistant to glucocorticoids. However, the clinical usefulness of these measurements to prospectively select glucocorticoid-resistant patients appears limited because four of the six resistant patients had measurements within one standard deviation of the mean for the 12 patients who achieved remission.',\n",
              "  'Inclusion Criteria:',\n",
              "  'Possible links between behavioral and physiological indices of tiredness, fatigue, and exhaustion in advanced cancer.',\n",
              "  'Reduced recombination in maternal meiosis coupled with non-disjunction at meiosis II leading to recurrent 47,XXX.',\n",
              "  \"BACKGROUND: Evidence-based medicine has come into its second decade. How prepared clinicians are in practicing it in particular in developing countries remains unclear. Thus we conducted this survey of physicians in urban hospitals in China to determine the size of the gap between research evidence and physicians' knowledge and practice regarding antihypertensive drugs for primary prevention of cardiovascular diseases in China. METHODS: A cross sectional survey by a face-to-face interview was conducted in 20 tertiary general hospitals in China in 2005. A total of 444 physicians (mostly cardiologists) in internal medicine who had treated at least one hypertensive patient in the past 12 months were invited for the interview on their perception of the cardiovascular risk of hypertension, the magnitude of the benefit of antihypertensive drugs, knowledge on the overall risk approach, first-line drugs used, the risk above which drug treatment is recommended, and knowledge on evidence-based medicine. RESULTS: A total of 444 of the 468 eligible physicians were successfully interviewed with a response rate of 94.9%. They estimated that a hypertensive man with an actual 5-year cardiovascular risk of 8.4% would have a 5-year cardiovascular risk of 40% (95%CI: 38% to 42%) if not treated, and have an absolute risk reduction and relative risk reduction from drug treatment by 20% (95%CI: 18% to 22%) and 39% (95%CI: 37% to 42%) respectively, as compared to 3.3% and 33% respectively shown in research evidence. On average, the physicians would recommend drug treatment at a number needed to treat (NNT) of 368 or smaller, as compared to the actual NNT of 50 for drug treatment in an average hypertensive Chinese. Fifty-five percent (95%CI: 50% to 59%) of them had never intently used the national hypertension guidelines. The majority still prescribed drugs primarily based on blood pressure alone by ignoring other risk factors or the overall risk and 78% (95 % CI: 76% to 83%) used new expensive drugs such as calcium channel blockers and angiotensin converting enzyme (ACE) inhibitors as first-line treatment. Only 13% (95%CI: 9% to 18%) could correctly interpret the NNT. Forty-three percent (95%CI: 39% to 48%) did not know the randomized controlled trial was scientifically the most rigorous among other study designs for evaluating the effectiveness of anti-hypertensive drugs. Ninety-two percent (95%CI: 90% to 94%) did not know they could start by searching systematic reviews when looking for evidence on the effectiveness of anti-hypertensive drugs as opposed to trials. Ninety-six percent (95%CI: 94% to 98%) did not know the Cochrane Library was an important source of systematic reviews. CONCLUSIONS: The surveyed physicians significantly over-estimated the cardiovascular risk of hypertension and the benefit of drug treatment, and had insufficient knowledge on the overall risk approach. They recommended drug treatment at a cardiovascular risk which was even much lower than the cutoff suggested for western populations, which would make many more people eligible for drug treatment. They also tended to prescribe new expensive drugs although the older cheaper ones may be more appropriate in many patients. They showed inappropriate knowledge on the basics of evidence-based medicine.\",\n",
              "  'Association between Human Leukocyte Antigens (HLA-A, -B, and -DR) and end-stage renal disease in Kuwaiti patients awaiting transplantation.',\n",
              "  \"Chromosomal translocations involving the platelet-derived growth factor beta receptor (PDGFbetaR) gene have been reported in some patients with chronic myelomonocytic leukemia (CMML). The resultant fusion proteins have constitutive PDGFbetaR tyrosine kinase activity, but the partner genes previously reported (tel, Huntingtin interacting protein 1 [HIP-1], H4/D10S170) have poorly understood roles in the oncogenic activity of the fusion proteins. A novel PDGFbetaR fusion protein has been characterized in a patient with CMML and an acquired t(5;17)(q33;p13). Southern blot analysis on patient leukemia cells demonstrated involvement of the PDGFbetaR gene. Using 5' rapid amplification of complementary DNA ends-polymerase chain reaction (RACE-PCR) on patient RNA, rabaptin-5 was identified as a novel partner fused in-frame to the PDGFbetaR gene. The new fusion protein includes more than 85% of the native Rabaptin-5 fused to the transmembrane and intracellular tyrosine kinase domains of the PDGFbetaR. Transduction with a retroviral vector expressing rabaptin-5/PDGFbetaR transformed the hematopoietic cell line Ba/F3 to growth factor independence and caused a fatal myeloproliferative disease in mice. Rabaptin-5 is a well-studied protein shown to be an essential and rate-limiting component of early endosomal fusion through interaction with the Ras family GTPases Rab5 and Rab4. The fusion protein includes 3 of 4 coiled-coil domains (involved in homodimerization of native rabaptin-5), 2 caspase-3 cleavage sites, and a binding site for the tumor suppressor gene tuberin (tuberous sclerosis complex-2). Early endosomal transport is critical in regulation of various growth factor receptors, through ligand-induced clathrin-mediated endocytosis, and thus this new fusion protein links together 2 important pathways of growth regulation.\",\n",
              "  '[Conceptual aspects of educational practices for HIV/AIDS prevention].',\n",
              "  '- Scapuloperoneal muscular dystrophy',\n",
              "  '13. Subject has a history of any bleeding disorder or is currently taking any anti-coagulant or any antiplatelet agent.',\n",
              "  'Current status of total joint arthroplasty: observations and projections.',\n",
              "  '- Willingness to participate in the study and ability to read, understand and sign the informed consent document',\n",
              "  'Contraceptive use among women with chronic medical conditions and factors associated with its non-use in Malaysia.',\n",
              "  '',\n",
              "  'BACKGROUND: Atherosclerotic cardiovascular disease (CVD) is a chronic inflammatory disease mediated by the proinflammatory cytokines interleukin-12 (IL-12) and interleukin-18 (IL-18). Evidence suggests that IL-12 is dominant in early atherosclerosis, while IL-18 is critical in advanced atherosclerosis. In this study, we explore the association between IL-12 and IL-18 and arterial stiffness in healthy individuals. METHODS: We performed a cross-sectional study examining pulse wave velocity (PWV), augmentation index (AIx), IL-12, and IL-18 in healthy individuals (N = 53) without CVD risk factors. RESULTS: In multivariate regression, age (P < 0.01), systolic blood pressure (P = 0.05), and IL-12 (P < 0.01) were positively associated with PWV, and high-density lipoprotein (P = 0.04) was negatively associated with PWV (model R (2) = 0.476, P < 0.01). CONCLUSIONS: IL-12, but not IL-18, is associated with PWV in healthy individuals without clinical CVD, supporting a role for IL-12 in early atherosclerosis as suggested by animal studies.',\n",
              "  'PCR-based diagnosis of the Filipino (--(FIL)) and Thai (--(THAI)) alpha-thalassemia-1 deletions.',\n",
              "  'Since the completion of the Human Genome Project, the field of human genetics has been in great flux, largely due to technological advances in studying DNA sequence variation. Although community-wide adoption of statistical standards was key to the success of genome-wide association studies, similar standards have not yet been globally applied to the processing and interpretation of sequencing data. It has proven particularly challenging to pinpoint unequivocally disease variants in sequencing studies of polygenic traits. Here, we comment on a number of factors that may contribute to irreproducible claims of association in scientific literature and discuss possible steps that we can take towards cultural change.',\n",
              "  'Mesenchymal cells in the treatment of spinal cord injury: current & future perspectives.',\n",
              "  '',\n",
              "  'A STUDY EVALUATING SLOW RESPONSE/NON-RAPID RESPONSE IN PATIENTS WITH CHRONIC HEPATITIS C, GENOTYPE 1, 2, 3 & 4 TREATED WITH PEGASYS (PEGINTERFERON ALFA-2A) AND COPEGUS (RIBAVIRIN):',\n",
              "  'OBJECTIVES: To systematically evaluate the long-term effectiveness and cost-effectiveness of HPV-based primary cervical cancer screening in the German health care context using a decision-analysis approach. METHODS: A Markov-model for HPV-infection and cervical cancer was developed for the German health care context, and applied to evaluate various screening strategies that differ by screening interval and test algorithms, including HPV-testing alone or in combination with cytology. German clinical, epidemiological, and economic data, and test accuracy data from international meta-analyses were used. Outcomes predicted included the reduction in cervical cancer cases and deaths, life expectancy and discounted incremental cost-effectiveness ratios (ICER). The analysis was performed from the perspective of the healthcare system adopting a 3% annual discount rate for costs and outcomes. Extensive sensitivity analyses were performed. RESULTS: HPV-based screening is more effective than cytology alone. It results in a 71-97% reduction in cervical cancer cases as compared to 53-93% for cytology alone. The ICER range from 2600 Euro/LYG (cytology, 5-year-interval) to 155,500 Euro/LYG (annual HPV-testing starting at age 30 years, cytology age 20-29 years). Annual cytology alone, the current recommended screening strategy in Germany, is dominated by HPV-strategies. Increasing the age at screening initiation from 20 to 25 years does not result in a relevant loss in effectiveness but results in lower costs. CONCLUSIONS: Based on our analyses, HPV-based cervical cancer screening is more effective than cytology alone and could be cost-effective if performed at intervals of two years or longer. In the German context, an optimal screening strategy may be biennial HPV screening starting at age 30 years preceded by biennial cytology for women aged 25-29 years. Longer screening intervals may be considered in low-risk women with good screening adherence and in populations with low HPV-incidence.',\n",
              "  'The role of nanobacteria in urologic disease.',\n",
              "  '',\n",
              "  'Cancer in children and young adults is increasingly being cured by operations, radiotherapy and/or chemotherapy. However, one of the serious side effects of these treatments is the risk of damage to fertility. Whereas the most important goal used to be survival, now increasing attention is being paid to the quality of life in the long term, thanks to the success of these treatments. Infertility affects the quality of life. In post-pubescent boys and men semen can be frozen for later use prior to treatment that harms the spermatogenesis. In girls and young women the solution for reduced fertility or infertility after ovary damaging treatment, may consist of the cryopreservation of ovarian tissue prior to this treatment. At a later stage a decision can be made to transplant this ovarian tissue into the patient or to follow an IVF procedure. There are important normative questions regarding this experimental treatment. The main question is, whether it may be introduced in health care as a regular treatment or should be subject to medical research first. In the Netherlands, a working party of both doctors and ethical, legal and psychological experts recommended to carry out proper research before introducing ovarian tissue cryopreservation in regular health care. This article is meant to elucidate this policy and, including some relevant updates, thus to contribute to the discussion on this question in other European countries.',\n",
              "  '',\n",
              "  '',\n",
              "  'Adult patients with multiple myeloma (MM) requiring systemic treatment',\n",
              "  '- Chronic drug or alcohol abuse/dependence within the past 2 years. Patients with abuse related to episodes will not be excluded.',\n",
              "  'A recent report noted that cyclosporine (CsA) inhibits replication of the hepatitis C virus (HCV) in vitro. Thus, CsA may be a superior immunosuppressant for renal transplant recipients infected with HCV. In the present retrospective study, we assessed whether CsA reduced the clinical impact of HCV infection among those patients. A total of 405 renal transplants were performed between 1973 and 2005, of whom we studied 189 who received CsA-based immunosuppression (CsA group) vs 108 who received an azathioprine-based regimen (AZA group). There were 44 HCVAb carriers and 145 noncarriers in the CsA group, and 41 carriers and 67 noncarriers in the AZA group. Our results showed that patient survival rate was significantly worse among HCVAb carriers than among noncarriers, as the overall survival rates were 82.9% and 90.9%, respectively, after 10 years and 71.5% and 85.7%, respectively, after 20 years (P = .0003). Patient survival rates were also significantly worse in HCVAb carriers than in noncarriers in both groups, which were 83.2% and 95.0%, respectively, after 10 years, and 74.7% and 88.8%, respectively, after 20 years (P = .0147) in the CsA group, and 82.9% and 83.6%, respectively, after 10 years and 70.7% and 80.6%, respectively, after 20 years (P = .0171) in the AZA group. Conversely, no significant difference was seen in patient survival rate for HCVAb carriers between the two groups (83.2% vs 82.9% at 10 years, and 74.7% vs 70.7% at 20 years, P = .8195). Our results confirmed that HCV infection has a negative impact on the long-term survival of renal transplant patients who receive either a CsA-based or an AZA-based regimen, suggesting that CsA does not have a positive impact on HCV carriers.',\n",
              "  '',\n",
              "  'The clinical trial identifier is PIONEER II. The purpose of this study is to evaluate the safety of adalimumab and to determine how well it works in the treatment of adults with moderate to severe HS. HS is a chronic skin disease that creates red, swollen, painful bumps which can break open to combine and form tunnels in the skin and scars. Sometimes these bumps can heal themselves quickly and sometimes they will become much worse and create sores that heal with multiple combined scars, or areas that do not heal. In this study, approximately 300 adults will be enrolled at treatment centers worldwide. Subject participation in this study will be up to 50 weeks. There will be a screening period, which will last from 7 to 30 days, and a study treatment period of up to 36 weeks. Study visits occur at Screening, Baseline, and Weeks 2, 4, 8, 12, 14, 16, 20, 24, 28, 32 and 36 (or sooner if subject leaves the study before Week 36). The study is divided into two treatment periods. The first period (Period A) will last 12 weeks and the second period (Period B) will last 24 weeks.',\n",
              "  'Middle ear adenocarcinoma with intracranial extension. Case report.',\n",
              "  '- Females who are pregnant, breast-feeding or intend to become pregnant or are not using adequate contraceptive methods.',\n",
              "  'EXP {month/ year}',\n",
              "  'AIMS: To explore inter- and intra-volunteer variability for the dose of intravenous tyramine eliciting a 20 mmHg increase in systolic blood pressure from baseline (TYR20) and to evaluate potential tachyphylaxis. METHODS: Twelve healthy volunteers received blinded placebo-controlled ascending and descending sequences of intravenous tyramine injections on two separate occasions. The TYR20 was derived by linear interpolation, using three interventions to deal with missing data. RESULTS: Analysis of covariance (ancova) demonstrated no significant difference in TYR20 between sequences, regardless of the missing data methodology applied. Inter-volunteer variability was 2.4-3.4 times larger than within-volunteer variability. No evidence of tachyphylaxis was seen using either the sign test or generalized additive models. CONCLUSIONS: Since inter-volunteer variability was greater than intra-volunteer variability, a crossover study design would be a more efficient study design, and the descending sequence of injections could be omitted since tachyphylaxis was not demonstrated.',\n",
              "  'OBJECTIVE: To evaluate the efficacy and safety of a 1-week intermittent itraconazole dosing schedule for onychomycosis. METHODS: In this multicenter, open-label study, 646 patients received itraconazole 200 mg twice daily for 1 week/month, followed by 3 weeks without therapy. Patients with fingernail infections received 2 treatment cycles, patients with toenail or combined toenail and fingernail infections received 3 cycles. Efficacy was evaluated at week 9 (2-month regimen), week 13 (3-month regimen) and 3, 6 or 9 (toenails only) months after completion of therapy. RESULTS: Clinical and mycologic cure rates for fingernails were greater than 90% 6 months after completion of 2 treatment cycles. Clinical and mycologic cure rates for toenails were 84 and 98%, respectively, 9 months after completion of 3 cycles. Treatment was well tolerated; adverse events (mostly mild) occurred in 4.6% of patients. CONCLUSION: A 1-week intermittent itraconazole dosing regimen is a safe and effective treatment for onychomycosis.',\n",
              "  \"In expanded CAG repeat diseases such as Huntington's disease, proteins containing polyglutamine (poly(Gln)) sequences with repeat lengths of about 37 residues or more are associated with development of both disease symptoms and neuronal intranuclear inclusions (NIIs). Disease physiology in animal and cellular models does not always correlate with NII formation, however, and the mechanism by which aggregate formation might lead to cytotoxicity is unknown. To help evaluate various possible mechanisms, we determined the biophysical properties of a series of simple poly(Gln) peptides. The circular dichroism spectra of poly(Gln) peptides with repeat lengths of five, 15, 28 and 44 residues are all nearly identical and are consistent with a high degree of random coil structure, suggesting that the length-dependence of disease is not related to a conformational change in the monomeric states of expanded poly(Gln) sequences. In contrast, there is a dramatic increase in both the kinetics and the thermodynamic favorability of the spontaneous formation of ordered, amyloid-like aggregates for poly(Gln) peptides with repeat lengths of greater than 37 residues. At the same time, poly(Gln) peptides with repeat lengths in the 15-20 residue range, despite their poor abilities to support spontaneous, self-nucleated aggregation, are capable of efficiently adding to an already-formed aggregate. We also find that morphologically small, finely divided aggregates are much more efficient at recruiting poly(Gln) peptides than are large aggregates, suggesting a possible explanation for why disease pathology does not always correlate with the observable NII burden. Together, these data are consistent with a model for disease pathology in which critical cellular proteins possessing poly(Gln) sequences of modest length become inactivated when they are recruited into aggregates of an expanded poly(Gln) protein.\",\n",
              "  'Radical prostatectomy in men aged >or=70 years: effect of age on upgrading, upstaging, and the accuracy of a preoperative nomogram.',\n",
              "  'Physical activity of moderately impaired elderly stroke patients during rehabilitation.',\n",
              "  \"The aim of this study was to compare retrospectively the effect of three different treatments on the healing outcome of bisphosphonate-related osteonecrosis of the jaws (BRONJ) in cancer patients. Twenty-two cancer patients were treated for BRONJ with one of the following protocols: clinical (pharmacological therapy), surgical (pharmacological plus surgical therapy), or PRP plus LPT (pharmacological plus surgical plus platelet rich plasma (PRP) plus laser phototherapy (LPT). The laser treatment was applied with a continuous diode laser (InGaAlP, 660 nm) using punctual and contact mode, 40 mW, spot size 0.042 cm(2), 6 J/cm(2) (6 s) and total energy of 0.24 J per point. The irradiations were performed on the exposed bone and surrounding soft tissue. The analysis of demographic data and risk factors was performed by gathering the following information: age, gender, primary tumor, bisphosphonate (BP) used, duration of BP intake, history of chemotherapy, use of steroids, and medical history of diabetes. The association between the current state of BRONJ (with or without bone exposure) and other qualitative variables was determined using the chi-square or Fisher's exact test. In all tests, the significance level adopted was 5%. Most BRONJ lesions occurred in the mandible (77%) after tooth extraction (55%) and in women (72%). A significantly higher percentage of patients reached the current state of BRONJ without bone exposure (86%) in the PPR plus LPT group than in the pharmacological (0%) and surgical (40%) groups after 1-month follow-up assessment. These results suggest that the association of pharmacological therapy and surgical therapy with PRP plus LPT significantly improves BRONJ healing in oncologic patients. Although prospective studies with larger sample sizes are still needed, this preliminary study may be used to inform a better-designed future study.\",\n",
              "  'Papillary thyroid carcinoma with brain metastases: an unusual 10-year-survival case.',\n",
              "  '',\n",
              "  'Co-expression of Erns and E2 genes of classical swine fever virus by replication-defective recombinant adenovirus completely protects pigs against virulent challenge with classical swine fever virus.',\n",
              "  'Absence of 5-HT3 and cholinergic mechanisms in improgan antinociception.',\n",
              "  \"Based on clinical experience with 70 Indochinese refugees, specific approaches to diagnosis and treatment of these patients were developed. The psychiatrist/patient relationship was supported and improved by well-trained, empathetic interpreters who assisted with the evaluation which stressed thorough history-taking and a mental status exam. Cultural differences and the psychiatrist's attitudes about refugees and the Indochinese war influenced the therapeutic process. Treatment consisted of appropriate medication, involvement with the social agencies when necessary, and the warmth, empathy, and support of the physician. In particular, it was helpful to understand the symptoms as the patient perceived them and to relate them to possible stresses in the past. Problem areas of therapy were the patient's concentration on physical symptoms, the horror stories, and taboo subjects difficult for the refugee to discuss. Case histories point out the conflict of values and cultural attitudes about mental illness among refugees due to their changed environment and life style.\",\n",
              "  'Oxysterols in biological systems: sources, metabolism and pathophysiological relevance.',\n",
              "  'Exclusion Criteria:',\n",
              "  'Virtual reality laparoscopy: which potential trainee starts with a higher proficiency level?',\n",
              "  'Bacterial culture is not often performed for mild surgical site infections, so only isolates from patients with severe surgical site infections have been identified. Consequently, broad-spectrum antibacterials, such as carbapenems, whose resistance has been highly modified, have been selected for use from the initial stage of these infections, and this is one reason for the increase in drug-resistant bacteria. We carried out this study to show antibiotics that are appropriate for each period of such infections. Bacteria obtained from postoperative infection sites in 114 patients with surgical site infections after gastrointestinal surgery were classified as first, second, third, and fourth isolates: the first isolates were taken when the administration of prophylactic antibiotics was finished, and the second, third, and fourth isolates were taken when the administrations of the first, second, and third therapeutic antibiotics, respectively, were finished. The incidence of drug-resistant strains was rare in strains isolated in the early phase of infections. The numbers of strains resistant to cephems and carbapenems increased as the clinical course of the infection progressed. New broad-spectrum antibiotics such as carbapenems should not be selected for the treatment of early-phase surgical site infections.',\n",
              "  '- Acute, clinically significant pulmonary, cardiovascular abnormalities or abnormalities of the hepatic or renal function.',\n",
              "  'Surgical wound healing monitored repeatedly in vivo using electrical resistance of the epidermis.',\n",
              "  'Utility of various commercially available human immunodeficiency virus (HIV) antibody diagnostic kits for use in conjunction with efficacy trials of HIV-1 vaccines.',\n",
              "  '- Current diagnosis of substance dependence or self-report of having used narcotics (opiates, cocaine, amphetamine-like substances, and hallucinogens) in the 30 day period prior to study.',\n",
              "  'Active or passive treatment for neck-shoulder pain in occupational health care? A randomized controlled trial.',\n",
              "  'Transcutaneous electrical nerve stimulation as an adjunct for controlling chemotherapy-induced nausea and vomiting in gynecologic oncology patients.',\n",
              "  'Surface stimulation to determine needle direction and angle when performing an infraclavicular brachial plexus block.',\n",
              "  'OBJECTIVE: Few studies have examined the relationship between vitamin D levels and incident cardiovascular events in large well-characterized patient cohorts. Therefore, our objective was to determine if low vitamin D levels predicted vascular complications of diabetes. METHODS: Prospective analysis of 936 veterans with type 2 diabetes (59.7 +/- 8.4 years, 96.9% male) who participated in the Veteran Affairs Diabetes Trial (VADT) was conducted. 25(OH)-vitamin D was measured a median of two years after entry and participants were subsequently followed 3.7 years. Hazard ratios (HRs) were calculated for cardiovascular endpoints in relation to 25(OH)-vitamin D quartile. For microvascular endpoints, logistic regression was used to calculate odds ratios. RESULTS: After adjusting for age, minority status, treatment arm and history of prior event, individuals in the lowest vitamin D quartile (i.e., 1-15.9 ng/ml) were at similar risk of MI [HR = 1.13 (95% CI: 0.53, 2.42)], CHD [HR = 0.87 (95% CI: 0.49, 1.55)], congestive heart failure [HR = 1.44 (95% CI: 0.67, 3.06)], and death from any cause [HR = 1.04 (95% CI: 0.53, 2.04)] as individuals in the highest vitamin D quartile (i.e., 29.9-77.2 ng/ml). Similarly, there were no differences in the odds associated with retinopathy or renal disease onset or progression in the lowest versus highest vitamin D quartile. CONCLUSIONS: These data indicate that vitamin D status had no significant impact on the incidence of vascular events in a cohort of high-risk veterans with diabetes in which traditional risk factors were managed according to current treatment guidelines.',\n",
              "  '',\n",
              "  '- severely mentally disabled',\n",
              "  'Sera of 658 patients who had completed treatment for pediatric malignancy were analyzed by a second-generation enzyme-linked immunosorbent assay and recombinant immunoblot assay test to assess the prevalence of hepatitis C virus (HCV)-seropositivity. All HCV-seropositive patients underwent detailed clinical, laboratory, virologic, and histologic study to analyze the course of HCV infection. One hundred seventeen of the 658 patients (17.8%) were positive for HCV infection markers. Among the 117 anti-HCV+ patients, 41 (35%) were also positive for markers of hepatitis B virus infection with or without delta virus infection markers, 91 (77.8%) had previously received blood product transfusions, and 25 (21.4%) showed a normal alanine aminotransferase (ALT) level during the last 5-year follow-up (11 of them never had abnormal ALT levels). The remaining 92 patients showed ALT levels higher than the upper limit of normal range. Eighty-one of 117 (70%) anti-HCV+ patients were HCV-RNA+, with genotype 1b being present in most patients (54%). In univariate analysis, no risk factor for chronic liver disease was statistically significant. In this study, the prevalence of HCV infection was high in patients who were treated for a childhood malignancy. In about 20% of anti-HCV+ patients, routes other than blood transfusions are to be considered in the epidemiology of HCV infection. After a 14-year median follow-up, chronic liver disease of anti-HCV+ positive patients did not show progression to liver failure.',\n",
              "  'Re-evaluation of 400 Crimean-Congo hemorrhagic fever cases in an endemic area: is ribavirin treatment suitable?',\n",
              "  'Every year over 86,000 children (0-14 years) worldwide are diagnosed with type 1 diabetes (T1D) translating to a lifetime of exposure and risk for early death from cardiovascular disease (CVD) and diabetic kidney disease (DKD). DKD, which manifests in children and adolescents, remains the leading cause of renal failure and dialysis in the Western world (4). While diabetic glomerulopathy has received significant attention from researchers, determinants of tubular injury in diabetes are less well examined. Compared to glomerular injury, tubular injury is known to associate better with renal function. The majority of youth diagnosed with T1D in the US present with diabetic ketoacidosis (DKA), a condition associated with risks factors for tubular injury including dehydration, metabolic acidosis and acute glycemia. It is unknown whether DKA is associated with tubular injury. The investigators published the first report showing that youth with established T1D have more acidic urine and higher fractional excretion of uric acid (FeUA) than their non-diabetic peers, which may predispose to UUA-mediated tubulopathy. Furthermore, T1D is associated with vasopressin overactivity, and the investigators reported strong relationships between serum copeptin, a reliable surrogate marker for vasopressin, and DKD in T1D. The overarching goals of this study are to determine whether tubular dysfunction (elevated urine sodium, bicarbonate and amino acids) and injury (elevated KIM-1, NGAL and MMP9) exist in new onset DKA, whether it is reversible and whether it is related to uricosuria and copeptin. The investigators propose to study a cohort of youth (ages 3-18, n=40) with new onset T1D who have serum and urine collection at DKA diagnosis and 3-month follow-up.',\n",
              "  'A STUDY TO EVALUATE INTRAMUSCULAR ASP7374:',\n",
              "  'The collection of maternal placental intervillous blood (IVB), without contamination of fetal blood and with an accurate mononuclear cell profile, is essential for immunological studies of placental malaria and other infectious diseases of the placenta. We have compared five documented methods of IVB collection: perfusion, incision, biopsy, tissue grinding, and puncture (prick) for fetal blood contamination and mononuclear cell profiles using flow cytometry. Twenty-five placentas were obtained from Plasmodium falciparum and human immunodeficiency virus-negative primigravid and secundigravid women delivering at Nyanza Provincial Hospital in Kisumu, western Kenya. Each of the five methods was performed on the same placenta. Fetal red blood cell contamination was significantly lower for the prick and perfusion methods (4.1% and 8.3%, respectively) than for incision (59.5%), biopsy (42.6%), and tissue grinding (19.9%). Significant variation was noted among the five methods in the percentages of monocytes, total T cells, CD4+ and CD8+ T cells, B cells, and NK cells. Further, a pairwise comparison of prick and perfusion, the two methods with low fetal blood contamination, showed that they were not different for fetal red blood cell contamination levels; however, prick yielded significantly higher percentages of CD4 T cells and CD4 memory T cells than perfusion. Collection by prick was determined to be the best method of intervillous blood collection for immunology studies, and perfusion represented the next best method of choice due to high sample volume yield. Overall, in considering the advantages/disadvantages of the two methods with low fetal cell contamination, we conclude that a combination of prick and perfusion is most suitable for immunology studies.',\n",
              "  'Extended embryo culture to increase implantation rate.',\n",
              "  'Mendelian randomization in health research: using appropriate genetic variants and avoiding biased estimates.',\n",
              "  '5. At least 1 site of measurable disease by RECIST 1.1.',\n",
              "  'Behavioral interventions and stress management training for hospitalized adolescents and young adults with cystic fibrosis.',\n",
              "  \"The investigators' aim is to include a total of 110 patients into this study, who have been started by their physician on one of these biologic drugs, such as etanercept, adalimumab, ustekinumab, or receiving secukinumab as part of a research study. Patients will be recruited at the Dermatology department. Patients who are receiving a biologic drug, which is injected subcutaneously (into their skin) are eligible to participate in this study.\",\n",
              "  '',\n",
              "  'STADA Arzneimittel AG Stadastr.',\n",
              "  '',\n",
              "  '- All patients with glaucoma (primary open-angle glaucoma, angle recession glaucoma, exfoliation syndrome glaucoma, pigmentary glaucoma and chronic angle closure glaucoma) in whom a pressure-lowering intervention was conducted',\n",
              "  'A new method of intracranial pressure monitoring by EEG power spectrum analysis.',\n",
              "  'Dexamethasone is a cost-effective alternative to ondansetron in preventing PONV after paediatric strabismus repair.',\n",
              "  'Urodynamic evaluation of incontinence in patients undergoing modified Campbell radical retropubic prostatectomy: a prospective study.',\n",
              "  '- international normalized ratio (INR) or activated partial thromboplastin time (aPTT) ratio >1.5',\n",
              "  '',\n",
              "  'Management of patent ductus arteriosus in preterm infants.',\n",
              "  'Prophylaxis with oral granisetron for the prevention of nausea and vomiting after laparoscopic cholecystectomy: a prospective randomized study.',\n",
              "  '- Illicit substances indicated by positive urine drug screen.',\n",
              "  '',\n",
              "  '',\n",
              "  'The role of lymphocytes in allergic disease.',\n",
              "  '- Condition where immunosuppression is contraindicated',\n",
              "  'Dermatomyositis: an overview of recent progress with emphasis on dermatologic aspects.',\n",
              "  '',\n",
              "  'Gender and the relationship between ventricular repolarization and cardiac cycle length during 24-h Holter recordings.',\n",
              "  '- patients with sclerodermia, diabetes, obesity, anorexia, colo-rectal surgery, patients with small intestinal bacterial overgrowth, pregnancy',\n",
              "  'Thrombopoietin and the TPO receptorduring platelet storage.',\n",
              "  'We report a patient in whom the commonly accepted Doppler echocardiographic findings failed to suggest prosthetic valve dysfunction. This was diagnosed by M-mode technique. We therefore feel that M-mode echocardiography still has its place in the complete evaluation of patients with suspected prosthetic valve dysfunction.',\n",
              "  \"Estimates indicate that between 100,000 and 300,000 Operation Iraqi Freedom (OIF) and Operation Enduring Freedom (OEF) veterans are at significant risk for chronic post-traumatic stress disorder (PTSD), which can become a chronic disorder that impacts all areas of a person's life. PTSD treatment programs are being developed throughout the Department of Defense (DoD) and the Veterans Affairs (VA), but because of the large number of Service Members returning from deployment with PTSD, it is often necessary to provide psychotherapy in groups. Cognitive Processing Therapy (CPT), an evidence-based treatment for PTSD, was originally developed as a group-based intervention. However, group-based CPT treatment has never been systematically compared to individual CPT treatment. The public policy implications of the results of this trial are significant. If both treatment formats are equivalent or if group treatment is better, then group treatment would be a more efficient and cost-effective therapy modality in most cases. On the other hand, if individual therapy is found to be superior, the investment of greater resources into individual therapy will be justified in order to provide the most effective treatment for PTSD to military personnel. The purpose of this study is to compare group-administered CPT-Cognitive-only version (CPT-C) to individual CPT-C for the treatment of PTSD in OIF/OEF military personnel. Three hundred (300) adult male and female active-duty OIF/OEF military personnel over 18 years of age will be enrolled into this study. Participants will be randomized between group and individual CPT-C.\",\n",
              "  'The molecular characterization of the first example of null allele in the inter-alpha-trypsin inhibitor H1 (ITIH1) system, ITIH1*Q0iwate, encountered as apparent inverse homozygosity of ITIH1 phenotypes between mother and child in a paternity case, is described. Single-strand conformation polymorphism analysis and subsequent sequencing showed that deletion of a single nucleotide in the codon for Lys87 results in a frameshift causing a terminator codon downstream of the deletion. This leads to premature termination of ITIH1 protein translation at amino acid 128, resulting in a truncated protein.',\n",
              "  '',\n",
              "  'Screening for metastases in breast cancer: an assessment of biochemical and physical methods.',\n",
              "  '- Must have a prior diagnosis of AML or acute leukemia of ambiguous lineage and be in 1st or greater relapse as evidenced by morphology, immunophenotype, molecular or cytogenetic signature',\n",
              "  'During the first year, follow-up will be performed after 6 and 12 months and thereafter annually until the age of 12 years.',\n",
              "  '',\n",
              "  'OBJECTIVES: To determine the effect of massive intracerebral hemorrhage (ICH) on regional cerebral blood flow (rCBF) and metabolism, and to test the hypothesis that there is persistent ischemia in the perihematoma region after ICH. BACKGROUND: Cerebral ischemia is postulated to be one of the mechanisms of neural injury after ICH. Presumably the hematoma induces ischemia by mechanical compression of the surrounding microvasculature. METHODS: The authors induced ICH in eight anesthetized mongrel dogs by autologous blood injection (7.5 mL) under arterial pressure in the deep white matter adjacent to the left basal ganglia. They measured serial rCBF using radiolabeled microspheres in regions around and distant to the hematoma, as well as cerebral oxygen extraction, oxygen consumption (CMRO2), glucose utilization, and lactate production by serial sampling of cerebral venous blood from the sagittal sinus. Mean arterial pressure (MAP) and intracranial pressure (ICP) were monitored continuously. All measurements were recorded at 0.5, 1.0, 2.0, 3.5, and 5.0 hours after induction of ICH and compared with prehematoma values. Evans Blue dye was injected at the end of the experiment, and intensity of staining was compared with three control animals. RESULTS: Compared with prehematoma ICP (12.5+/-2.0 mm Hg, mean+/-standard error), significant elevation in ICP was observed after ICH peaking at 5 hours (34.4+/-5.2 mm Hg). Compared with prehematoma MAP (125.8+/-7.0 mm Hg), significant elevation in MAP was observed at 120 minutes after onset of hematoma (139.1+/-4.6 mm Hg), with return to the prehematoma value by 5 hours. There were no significant changes observed in cerebral oxygen extraction (51.4+/-4.3% versus 44.8+/-4.9%) and CMRO2 (1.8+/-0.3 versus 1.64+/-0.2 mL O2/100 g/min) at 5 hours posthematoma (or any other posthematoma measurement) compared with prehematoma values. There were no significant differences observed in rCBF in the perihematoma gray (18.2+/-0.9 mL/100 g/min versus 20.1+/-1.5 mL/100 g/min) or white matter (15.6+/-1.4 mL/100 g/min versus 15.3+/-1.1 mL/100 g/min) at 5 hours posthematoma (or any other posthematoma measurement) compared with prehematoma values. No changes were observed in cerebral glucose utilization, lactate production, and rCBF in other regions after introduction of ICH. Permeability of the blood-brain barrier was more prominent in the ipsilateral hemisphere in animals with ICH compared with control animals. CONCLUSIONS: Despite a prominent increase in ICP and MAP after ICH, the authors found no evidence to support the presence of an ischemic penumbra in the first 5 hours after ICH. Thus, other mechanisms for acute neural injury and late rCBF changes after ICH must be investigated.',\n",
              "  'AIM: To investigate the difference of amino acid uptake between normal and cancerous colon tissues. METHODS: Sixteen patients with colon cancer were enrolled in our study. Blood samples were taken during operations, serum amino acid concentrations of blood from cancerous or normal colon were analyzed. Amino acid uptake rate was calculated by the A-V difference and evaluated statistically. RESULTS: Except for methionine, the uptake rate of amino acids in cancer was higher than that in normal colon (25.01% vs -2.29%, P<0.01). The amino acid uptake rate did not correlate to the size of tumor mass (P>0.05). There was no statistical significance in the amino acid uptake rate according to the Dukes stage, though it was higher in patients with Dukes stage C or D than that with Dukes stage B (P>0.05). CONCLUSION: Abnormal synthetic metabolism of colon cancer may contribute to its higher amino acid uptake rate than that of normal colon.',\n",
              "  'Exclusion Criteria:',\n",
              "  '',\n",
              "  '',\n",
              "  '',\n",
              "  '- History or presence of alcohol or drug abuse.',\n",
              "  \"1. Single-unit recordings were carried out in primary auditory cortex (AI) of barbiturate-anesthetized cats. Observations were based on a sample of 131 high-best-frequency (> 5 kHz), azimuth-sensitive neurons. These were identified by their responses to a set of noise bursts, presented in the free field, that varied in azimuth and sound-pressure level (SPL). Each azimuth-sensitive neuron responded well to some levels at certain azimuths, but did not respond well to any level at other azimuths. 2. Unilateral ear plugging was used to infer each neuron's response to monaural stimulation. Ear plugs, produced by injecting a plastic ear mold compound into the external ear, attenuated sound reaching the tympanic membrane by 25-70 dB. The azimuth tuning of a large proportion of the sample (62/131), referred to as binaural directional (BD), was completely dependent upon binaural stimulation because with one ear plugged, these cells were insensitive to azimuth (either responded well at all azimuths or failed to respond at any azimuth) or in a few cases exhibited striking changes in location of azimuth function peaks. This report describes patterns of monaural responses and binaural interactions exhibited by BD neurons and relates them to each cell's azimuth and level tuning. The response of BD cells to ear plugging is consistent with the hypothesis that they derive azimuth tuning from interaural level differences present in noise bursts. Another component of the sample consisted of monaural directional (27/131) cells that derived azimuth tuning in part or entirely from monaural spectral cues. Cells in the remaining portion of the sample (42/131) responded too unreliably to permit specific conclusions. 3. Binaural interactions were inferred by statistical comparison of a cell's responses to monaural (unilateral plug) and binaural (no plug) stimulation. A larger binaural response than either monaural response was taken as evidence for binaural facilitation. A smaller binaural than monaural response was taken as evidence for binaural inhibition. Binaural facilitation was exhibited by 65% (40/62) of the BD sample (facilitatory cells). Many of these exhibited mixed interactions, i.e., binaural facilitation occurred in response to some azimuth-level combinations, and binaural inhibition to others. Binaural inhibition in the absence of binaural facilitation occurred in 35% (22/62) of the BD sample, a majority of which were EI cells, so called because they received excitatory (E) input from one ear (excitatory ear) and inhibitory (I) input from the other (inhibitory ear). One cell that exhibited binaural inhibition received excitatory input from each ear.(ABSTRACT TRUNCATED AT 400 WORDS)\",\n",
              "  'Multifocal bullous fixed drug eruption mimicking Stevens-Johnson syndrome.',\n",
              "  '',\n",
              "  \"Electrophysiologic study in chronic Chagas' heart disease.\",\n",
              "  'Major depression occurs at high prevalence in the general population, often starts in juvenile years, recurs over a lifetime, and is strongly associated with disability and suicide. Searches for biological markers in depression may have been hindered by assuming that depression is a unitary and relatively homogeneous disorder, mainly of mood, rather than addressing particular, clinically crucial features or diagnostic subtypes. Many studies have implicated quantitative alterations of motility rhythms in depressed human subjects. Since a candidate feature of great public-health significance is the unusually high risk of suicidal behavior in depressive disorders, we studied correlations between a measure (vulnerability index [VI]) derived from multi-scale characteristics of daily-motility rhythms in depressed subjects (n = 36) monitored with noninvasive, wrist-worn, electronic actigraphs and their self-assessed level of suicidal thinking operationalized as a wish to die. Patient-subjects had a stable clinical diagnosis of bipolar-I, bipolar-II, or unipolar major depression (n = 12 of each type). VI was associated inversely with suicidal thinking (r = -0.61 with all subjects and r = -0.73 with bipolar disorder subjects; both p<0.0001) and distinguished patients with bipolar versus unipolar major depression with a sensitivity of 91.7% and a specificity of 79.2%. VI may be a useful biomarker of characteristic features of major depression, contribute to differentiating bipolar and unipolar depression, and help to detect risk of suicide. An objective biomarker of suicide-risk could be advantageous when patients are unwilling or unable to share suicidal thinking with clinicians.',\n",
              "  '',\n",
              "  'This study reports the age at hospital discharge of 233 survivors and age at death of 209 infants who were born at 23-28 weeks gestation over a 10 year period, 1977-86. The mean duration of hospitalization of survivors was 95 days and was inversely related to maturity at birth; those born at 23-25 weeks remained in hospital on average 1-2 weeks beyond term while those born at 26-28 weeks went home on average at term or 1 week before term. The mean age at death was 12 days: 53% within 1 day, 23% between 2 and 7 days, 15% between 8 and 28 days and 9% between 28 days and 1 year. The proportions of death in the post-neonatal period for infants born at 23-24 weeks, 25-26 weeks and 27-28 weeks were 2, 9 and 16% respectively. There was no significant trend in prolonged hospitalization of survivors or postponement of neonatal deaths to the post-neonatal period over the 1977-86 period. Nevertheless, both neonatal and post-neonatal mortality should continually be monitored in this extremely preterm group.',\n",
              "  \"A subset of the diffuse cerebral changes and psychometric deficits found in chronic alcoholics is similar to that seen in the frontal lobe syndrome. Certain features of alcoholic Korsakoff's syndrome (AKS) also point to cortical involvement, and this may have a basis in alcohol neurotoxicity.Twenty-five patients with AKS and 24 non-Korsakoff alcoholic controls were compared using an automated CT brain scan program. In addition to evidence of their diencephalic lesions (wide third ventricles), AKS patients revealed widespread cerebral damage with greater Sylvian and interhemispheric fissure (IHF) size than alcoholics. Korsakoffs were also inferior to alcoholics in performance on a category sorting test, in which non-perseverative error scores correlated significantly with IHF size.The principle of distinguishing between selective memory decline and global intellectual decline (GID) was applied to 38 patients with AKS. Indices were developed for each type of deficit and much variation found in their distributions. The degree of GID correlated significantly with IHF size, showing similar trends with other cortical measures.These results suggest a cortical substrate for the degree of GID and a frontal substrate for category sorting deficits; with a probable basis in alcohol neurotoxicity rather than thiamine deficiency, which is not known to impair cortical structure. A new model is proposed of the pathophysiology of alcoholic brain damage and AKS which includes recent work on neurotransmitter sources and thalamo-frontal connections.\",\n",
              "  'STUDY OBJECTIVE: To test the hypothesis that changes in alpha1-acid glycoprotein (AAG) concentration alter central nervous system (CNS) drug distribution after subarachnoid hemorrhage. DESIGN: Two-phase, prospective study. SETTING: University-associated medical center. PATIENTS: Twenty-one patients with subarachnoid hemorrhage. INTERVENTION: In phase I, serum AAG concentrations of patients with subarachnoid hemorrhage were measured serially and compared with those in 21 controls undergoing elective neurosurgical procedures. In phase II, nimodipine was the pharmacologic probe to determine the relationship between drug distribution into the CNS and changes in AAG concentration. MEASUREMENTS AND MAIN RESULTS: Serum and cerebrospinal fluid (CSF) samples were collected from patients with subarachnoid hemorrhage treated with nimodipine and used to measure total and unbound drug concentrations. Concentrations of AAG were 39% higher in patients than in controls preoperatively. They decreased significantly by 24 hours after surgery in patients and increased in controls. In both groups the concentrations were higher than reported normal values. During the period of reduced AAG concentration, calculated unbound nimodipine concentrations were 3-fold higher (p<0.05) than at later periods, with a trend toward higher total concentrations. Overall, mean CSF nimodipine concentration was 6.4% of mean serum total concentration. The CSF concentrations decreased as AAG concentrations increased, independent of serum concentrations (r = -0.52, p<0.02). CONCLUSION: Concentrations of AAG change after subarachnoid hemorrhage and are transiently influenced by surgery. Unbound drug concentration increases when AAG concentrations decrease, whereas CSF concentrations decrease when AAG concentrations increase. These preliminary findings suggest that changes in AAG concentrations can alter unbound serum nimodipine concentrations and may affect CSF drug distribution.',\n",
              "  'Desquamative gingivitis. Clinical, histopathologic, and immunopathologic investigations.',\n",
              "  '- Receiving treatment with cranial radiotherapy and/or chemotherapy',\n",
              "  'Chronic portal-systemic shunt encephalopathy in a hemodialysis patient treated with balloon-occluded retrograde transvenous obliteration.',\n",
              "  'We studied the functional neuroanatomy of social behaviour in velo-cardio-facial syndrome (VCFS) using a facial emotional processing task and functional magnetic resonance imaging in adults with this syndrome and controls matched for age and IQ. The VCFS group had less activation in the right insula and frontal brain regions and more activation in occipital regions. Genetically determined abnormalities in pathways including those involved in emotional processing may underlie deficits in social cognition in people with VCFS.',\n",
              "  '2. Assessment using the Autism Diagnostic Observation Schedule.',\n",
              "  'VITAMIN D SUPPLEMENTATION FOR THE PREVENTION OF CARDIOVASCULAR RISK:',\n",
              "  'Emerging knowledge of regulatory roles of D-amino acids in bacteria.',\n",
              "  '- Treatment with any investigational drug or participation in another clinical trial within 28 days prior to enrollment',\n",
              "  'This prospective randomized evaluated the effect of preconditioning patellar tendon autografts before implantation and fixation during anterior cruciate ligament (ACL) reconstruction. Fifty-three patients with a unilateral ACL rupture were included in the study. One group of patients had their patellar tendon autograft preconditioned by passive stretching at a constant load of 39 N for 10 min immediately prior to implantation (group P). The other group underwent no preconditioning before the implantation of the graft (group NP). The follow-up examination was performed by independent observers after 26 months (23-29) in group P and after 25 months (23-30) in group NP (n.s.). At follow-up the KT-1000 laxity test revealed a total side-to-side difference of 2.5 mm (-1.5 to +8.5) in group P and 3.0 mm (-7 to +6.5) in group NP (n.s.). The Lysholm score was 86 points (47-100) in group P and 94 points (44-100) in group NP (n.s.). The Tegner activity level was 6 (2-9) in group P and 7 (3-9) in group NP (n.s.). There was no significant difference between the study groups regarding IKDC classification. Patients who underwent ACL reconstruction using a preconditioned patellar tendon autograft had no advantages in terms of restoration of laxity or clinical outcome at 2-year follow-up.',\n",
              "  'The use of thallium 201 myocardial imaging to exclude myocardial infarction after dissection in congenital coarctation of the aorta.',\n",
              "  'Acute cornary syndrome',\n",
              "  'While antidepressant medications are often effective in relieving depressive symptoms, at least 60% of patients do not remit with the first agent tried. This pilot study will assess whether giving two standard medications simultaneously (i.e., Escitalopram and Bupropion) is both tolerated and improves response while decreasing drop outs. This is a replication of a previous study.',\n",
              "  'An anticarcinoembryonic antigen (CEA) monoclonal antibody, T84.66, has been conjugated to a metallocarborane complex (Venus flytrap cluster, VFC) containing 57Co. This radioimmunoconjugate, 57Co-VFC-T84.66, retained > 90% immunoreactivity, was stable in serum (7 days) and demonstrated good localization in LS174T tumor xenografts. Pharmacokinetics of 57Co-VFC-T84.66 in tumor-bearing mice were compared to T84.66 Mab conjugated with either DTPA or its benzylisothiocyanate derivative (BzDTPA) labeled with 111In. Whole-body half-life for VFC-T84.66 was less (t1/2 = 62 hr) than that for either DTPA-T84.66 (t1/2 = 157 hr) or BzDTPA-T84.66 (t1/2 = 167 hr). Blood clearance was similar for all three radioimmunoconjugates (t1/2 = 22 hr). Hepatic uptake of the radiolabel was rapid and remained constant for 7 days for both DTPA radioimmunoconjugates (DTPA radioimmunoconjugate = 13.7 +/- 1.5 %ID/g; BzDTPA radioimmunoconjugate = 10.4 +/- 1.7%ID/g). For VFC, however, liver radioactivity decreased from 19.1 +/- 0.6%ID/g at 1 hr to 0.9 +/- 0.1 %ID/g 7 days postinjection, suggesting a possible role for VFC radioimmunoconjugate in the imaging and therapy of liver metastases.',\n",
              "  'This study plans to evaluate the effects of chronic cannabis smoking on lung health by evaluating its effects on pulmonary health, lung physiology and alveolar macrophage function.',\n",
              "  'Growth of private medicine in Sweden: the new diversity and the new challenge.',\n",
              "  '- Concurrent immunotherapy or hormonal therapy for the specific purpose of treatment for the ovarian cancer. Any hormonal therapy directed at the malignant tumor must be discontinued at least one week prior to enrollment in order for the patient to be eligible to participate in this trial. Continuation of hormonal replacement therapy is allowed.',\n",
              "  'Immunoregulation of mammalian fertility.',\n",
              "  'Shoulder disability questionnaire design and responsiveness of a functional status measure.',\n",
              "  'Violence against psychiatric nurses: sensitive research as science and intervention.',\n",
              "  \"Clinical teachers' approaches to nursing.\",\n",
              "  'Leptin plays an important role in the regulation of body weight and operates by inhibiting food intake and stimulating energy expenditure. The purpose of the present study was to ascertain the relationship between serum leptin levels and the lipid profile, insulin resistance, and metabolic risk factors in North Indian adult women. In a transactional case-control study of 390 women, subjects were 186 women with metabolic syndrome according to National Cholesterol Education Program Adult Treatment Panel (NCEP-ATP) guidelines and 204 healthy control women without metabolic syndrome, all of whom were between 20-40 years of age. Circulating leptin levels were determined by sandwich enzyme-linked immunosorbent assay, insulin resistance was determined by homeostasis model assessment for insulin resistance (HOMA-IR), and the lipid profile was determined using an enzymatic method. Results indicated that circulating leptin (13.38 +/- 9.00 vs. 8.16 +/- 6.31 ng/mL, p < 0.001), HOMA-IR (2.68 +/- 2.05 vs. 1.72 +/- 1.20, p < 0.001), the lipid profile, and other metabolic risk factors (waist circumference, waist-to-hip ratio, body mass index, and fasting plasma insulin) were significantly higher in women with metabolic syndrome than in women without the syndrome (p < 0.001). Further, in women with metabolic syndrome serum leptin was significantly (p < 0.05 or p < 0.001) and positively correlated with HOMA-IR (p = 0.000) and other metabolic risk factors but negatively correlated with fasting plasma glucose, triglycerides, and high-density lipoprotein cholesterol. Circulating leptin was found to be significantly associated with hyperlipidemia, insulin resistance, and other metabolic risk factors in North Indian adult women.',\n",
              "  '',\n",
              "  'PURPOSE: Published data have shown conflicting results about the relationship between X-ray repair cross-complementing group 1 (XRCC1) gene polymorphisms (Arg399Gln and Arg194Trp) and clinical outcome of platinum-based chemotherapy in patients with advanced non-small cell lung cancer (NSCLC). A meta-analysis is needed to provide a systematic review of the published findings. EXPERIMENTAL DESIGN: We conducted a systematic review and meta-analysis to evaluate the predictive value of XRCC1 gene polymorphisms on clinical outcome up to October 1, 2010. The quality of each study was scored on the basis of predefined criteria. RESULTS: A total of 13 eligible follow-up studies met all the inclusion criteria. The XRCC1194Trp allele was found to be significantly associated with a favorable response rate relative to 194Arg [Trp vs. Arg: OR, 1.88; 95% confidence interval (CI), 1.48-2.38]. XRCC1399Gln was less favorably associated with both response rate (Gln vs. Arg: OR, 0.67; 95% CI, 0.52-0.87) and overall survival (Gln vs. Arg: HR, 1.30; 95% CI, 1.04-1.63) than 399Arg in analyses using all available studies; but these associations became insignificant when only high-quality studies were used. CONCLUSION: These findings suggest a predictive role for XRCC1 gene polymorphisms in clinical outcome. However, the role of 399Gln could be considered controversial because its impact on clinical outcome was insignificant in high-quality studies. These findings show the importance of establishing suitable criteria, including genetic epidemiologic, phenotypic, and clinical criteria, to improve quality control of study design and methods in pharmacogenomic studies related to XRCC1 gene polymorphism.',\n",
              "  '- History of stroke, chronic seizures, or major neurological disorder',\n",
              "  'PURPOSE: Psychogenic nonepileptic seizures (PNESs) are events that alter or seem to alter the neurologic function and, in their appearance, resemble epileptic seizures (ESs). In patients with ESs the psychological and medical aspects of epilepsy greatly influence the health-related quality of life (HRQOL). The relation between these factors and PNESs is not well established. In this study, we compared HRQOL in patients with PNESs with that of patients with ESs. METHODS: We evaluated 105 patients admitted to the Epilepsy Monitoring Unit of University Hospital between January 20, 2001, and January 20, 2002. Only patients with the definite diagnosis of ESs or PNESs were analyzed (n = 85). Patients completed an epilepsy-specific quality-of-life instrument (QOLIE-89), the Profile of Mood States (POMS), and Adverse Events Profile (AEP). We used t tests and regression analyses to contrast HRQOL in PNESs and ESs and to elucidate the main factors associated with HRQOL in patients with PNESs. RESULTS: In our sample, 45 patients had PNESs, and 40 had ESs. The overall HRQOL and scores on 13 of 19 QOLIE-89 subscales were significantly lower (i.e., worse) in PNES than in ES patients. AEP and scores on five of six POMS subscales also were worse in PNES patients than in ES patients. PNES versus ES diagnosis, POMS depression/dejection, and AEP were significant predictors of HRQOL, jointly explaining 65% variation in HRQOL. The lower HRQOL in PNESs versus ESs was in part explained by depression and AEP. CONCLUSIONS: Patients with PNESs have a lower HRQOL and worse mood problems than do patients with ESs. This disadvantage is primarily due to depression and medication side effects, although these factors influence QOL in much the same way in PNES and ES patients. These baseline HRQOL data on patients with PNESs can be used to evaluate the effects of treatment in this patient population.',\n",
              "  'EXPIRY DATE',\n",
              "  '',\n",
              "  '',\n",
              "  '',\n",
              "  'The value of diffusion-weighted imaging in the detection of prostate cancer: a meta-analysis.',\n",
              "  'Infectious rabies viruses from cloned cDNA.',\n",
              "  'Hypoxia-inducible factor-1 transactivates transforming growth factor-beta3 in trophoblast.',\n",
              "  '',\n",
              "  'Some patients with head and neck cancer or benign tumours of the head and neck receive radiotherapy to their neck as part of their treatment. The large arteries in the neck, the carotid arteries, are often included in the area being treated with radiotherapy. There is some evidence to show that radiotherapy to these blood vessels can result in thickening and furring of the artery walls some years after treatment. This thickening may then result in stiffening and narrowing of the artery.',\n",
              "  \"This study examined some aspects of psychogeriatric care in Munster, Germany. The diagnostic and therapeutic attitudes of 94 general practitioners/internists and neurologists/psychiatrists toward demented patients were investigated by questionnaire. This figure represents a return rate of approximately 55% on the questionnaires. As is typical in Germany, no physicians were specializing in geriatric patients, and fewer general practitioners/internists than neurologists/psychiatrists had undergone supplementary psychogeriatric training. A higher percentage of the latter group estimated more than 10% of their elderly patients were demented. Both estimated Alzheimer's disease as less frequent than multi-infarct dementia. Physicians with training in psychogeriatrics claimed to treat more elderly patients than physicians without it. With regard to therapeutic procedure, physicians with psychogeriatric training prescribed nootropics more guardedly. The data from this pilot study suggest that there are no eminent discrepancies between the different medical groups with regard to psychogeriatric care, but there is a great need for supplementary training.\",\n",
              "  '- Participants may (but will not necessarily) have the following tests at each visit:',\n",
              "  '14. Active uncontrolled infection',\n",
              "  '',\n",
              "  'Calcium and its regulation play central roles diverse physiologic processes. Quantification of calcium concentrations ([Ca2+]) in small neuronal compartments is crucial to understanding Ca2+-dependent signaling. Here, we describe techniques that are optimized for 2-photon imaging of [Ca2+] dynamics in small compartments such as dendrites and dendritic spines.',\n",
              "  '- Patient has an indication for urgent surgery determined by surgeon such as full-thickness skin breakdown, enterocutaneous fistula, intermittent incarceration, or severe symptoms',\n",
              "  'Design:',\n",
              "  '- Physically limited to do yoga or dance classes',\n",
              "  'OMEGA-3 FATTY ACIDS IN ELDERLY PATIENTS WITH ACUTE MYOCARDIAL INFARCTION:',\n",
              "  'Effects of ventilation and catheter position on catheter movement on the tricuspid annulus during ablation in children.',\n",
              "  'Systematic review of the efficacy of herbal galactogogues.',\n",
              "  'Pulmonary Function Tests (PFTs) are used to measure and track lung health of patients with CF. Performing a PFT takes practice and requires patients to perform certain breathing maneuvers consistently. Infants and young children cannot be tested using spirometers. The investigators start PFT training with our patients after they reach 4 years of age. It may take several months to a few years for useful, consistent and interpretable PFTs to be obtained. According to standards developed by the American Thoracic Society, children must be able to breathe in very deeply, exhale fast and hard, and continue exhaling for several seconds. Children also must perform these maneuvers in a repeatable manner. (Ferris, 1978 ). Recent software programs have been developed to encourage and assist children in completing the breathing maneuvers. Videogame-like graphics respond to children\\'s efforts. Children can often choose which \"game\" to play, such as, \"Blow out the candles.\"',\n",
              "  'Data presented from controlled studies include 656 patients who received Mimpara and 470 patients who received placebo for up to 6 months.',\n",
              "  '- Type 1 diabetes mellitus',\n",
              "  'Natural history and epidemiology of benign prostatic hyperplasia: relationship among urologic measures.',\n",
              "  'Aetiological factors predisposing to cerebral palsy were investigated in 190 children with this condition seen in Riyadh , Saudi Arabia since January 1980. Ninety-four (49.5%) of the cases were natal in origin, 63 (33.1%) prenatal and 33 (17.4%) postnatal. Anoxia was the most common aetiological factor, accounting for 38 cases (20%), followed by prematurity in 18 (9.5%). These two factors combined accounted for 29.5% of all cases and 59.5% of those in the natal group. Idiopathic cases, the third largest group, accounted for 9.0%. Certain factors were shown to predispose to specific neurological deficits, the majority of the 190 patients being spastic diplegic (31%) or quadriplegic (26.3%). Saudi Arabia is going through a process of massive economic, social and medical progress. In view of improvements in all these areas and of other factors, a change in the pattern of incidence of cerebral palsy in Saudi Arabia is expected in the future.',\n",
              "  '[Therapeutic efficacy of buparvaquone (buparvon) in cattle with theileriosis].',\n",
              "  'A study to evaluate the impact of a medical self-care program on older adults was conducted. The test group (n = 161) participated in an 11-session educational intervention with training in clinical skills, lifestyle, and the use of health services. The comparison group (n = 164) received no intervention. The test group was assessed pre-intervention, post-intervention, and six months post-intervention and the comparison group was assessed at corresponding intervals. The results indicated that medical self-care instruction produces substantial improvements in health-related knowledge, health skills performance, and health actions. This study produced no evidence, however, that medical self-care instruction has any effect on health status, the utilization of medical care, or other aspects of life quality.',\n",
              "  \"Polyoxometalates (POMs) are emerging as useful materials for a variety of applications. Many show potential for use in the biological and medical fields. Those incorporating lanthanides, with their narrow emission bands, large Stokes' shift and tuneable emission are of particular interest for the labelling and imaging of biological molecules. Their longer emission timescale (micros to ms) also allows autofluorescence from the biological samples to be removed by time gating the emission decay. This means that the characterisation of their photophysical properties is required to enable their application. In this work we present a time-resolved emission study of two types of POM structure, a simple europium containing decatungstate and a more complex high nuclear polyoxotungstate, containing either europium or terbium. A concentration study, made monitoring the lanthanide emission helped elucidate POM-POM interactions. The use of global analysis hints at the presence of defined POM aggregates. Interaction with serum albumin was ascertained, both by monitoring the lanthanide emission of the POM and the tryptophan emission from the serum albumin. This showed that the more complex structure had a significantly higher affinity for the protein than the simple structure.\",\n",
              "  'Modulation of the stress response by ethanol in the rat frontal cortex.',\n",
              "  'IT adoption of clinical information systems in Austrian and German hospitals: results of a comparative survey with a focus on nursing.',\n",
              "  'The effect of the use of a number of popular solubility treatments was examined on alfaxolone- and diazepam-induced ataxia. The effects of diazepam were not significantly altered by solution in cyclodextrin, Alkamuls EL-620 or a mixture of propylene glycol and ethanol. The effects of alfaxolone were not altered by solution in Alkamuls EL-620, but were significantly lessened by solution in cyclodextrin. In a dose-response experiment, the ED50 of alfaxolone increased from 15.3 mg kg-1 (in Alkamuls EL-620) to 25.6 mg kg-1 (in hydroxypropyl-beta-cyclodextrin). The results suggest that although cyclodextrins are popular and effective solubilizers, their use must be considered carefully in the context of the experiments in which they are to be used.',\n",
              "  'SAFETY AND IMMUNOGENICITY STUDY IN YOUNG ADULTS THE MENINGOCOCCAL SEROGROUP C VACCINE PRODUCED BY BIO-MANGUINHOS:',\n",
              "  'PET imaging of soluble yttrium-86-labeled carbon nanotubes in mice.',\n",
              "  '- Dementia or evidence of mental incompetence which would preclude compliance with the protocol.',\n",
              "  'The FAD-containing NADH oxidase from Streptococcus faecalis 10C1, which catalyzes the four-electron reduction of O2----2H2O, has been purified by an improved procedure for analyses of its structural and redox properties. The enzyme is apparently a dimer of two identical subunits, each containing 1 mol of FAD. Dithionite reduction of the enzyme proceeds in two distinct phases corresponding to approximately 0.5 and 1.1 eq/FAD, respectively. Thiol assays of the NADH oxidase, reduced anaerobically with 1 eq of NADH/FAD prior to denaturation, are consistent with the presence of a single redox-active cysteinyl residue/subunit. Analysis of the cysteinyl peptides of the oxidase, identified in tryptic digests of the enzyme labeled metabolically with [35S]cysteine, reveals a sequence which is closely related to the redox-active cysteinyl peptide sequence recently determined for the streptococcal flavoprotein NADH peroxidase. A second cysteinyl peptide sequence, when aligned with residues 3-17 of the peroxidase NH2-terminal sequence, reveals identity in 7 of 15 positions and satisfies several of the criteria described for ADP-binding structures. Additional probes of the structural and redox properties of the NADH oxidase, including visible circular dichroism spectroscopy and sensitivity to inactivation by hydrogen peroxide, provide further evidence for a fundamental structural connection between flavin-dependent NADH oxidase and peroxidase functions.',\n",
              "  'Liver transplantation in the management of fulminant hepatic failure.',\n",
              "  '- Have taken methylphenidate, amphetamine, or other stimulant medications within 5 half-lives before screening or atomoxetine within 30 days of screening',\n",
              "  'One dose of 0.5 ml contains:',\n",
              "  'HIV/AIDS orofacial lesions in 156 Zimbabwean patients at referral oral and maxillofacial surgical clinics.',\n",
              "  'Physiological and performance responses to nicotinic-acid ingestion during exercise.',\n",
              "  'Viral culture (VC), polymerase chain reaction (PCR) and in vitro antibody production (IVAP) by peripheral blood mononuclear cells were compared for the early diagnosis of HIV-1 infection in 46 infants born to HIV-1 seropositive mothers. The ten children considered infected on the basis of clinical signs and persistence of anti-HIV-1 antibodies had at least one positive viral culture and seven were always positive in both PCR and IVAP tests. PCR and IVAP tests were occasionally negative in three infected children. Among 30 healthy children who became seronegative and were always negative for viral culture, 22 (73.3%) were also repeatedly negative in PCR and IVAP. We report 6 cases of children classified as P2A at the term of this study but who had lost anti-HIV-1 antibodies. They presented at least one positive viral culture and occasional positive PCR and/or IVAP results. The results indicate that the combination of viral culture, PCR and IVAP tests improves the early diagnosis of pediatric HIV infection.']}"
            ]
          },
          "metadata": {},
          "execution_count": 25
        }
      ],
      "id": "lEIx6u1XJ60u"
    },
    {
      "cell_type": "markdown",
      "source": [
        "Extract and save dataset to JSONL format"
      ],
      "metadata": {
        "id": "xV8JgpNuM3cM"
      },
      "id": "xV8JgpNuM3cM"
    },
    {
      "cell_type": "code",
      "source": [
        "# Save to JSONL\n",
        "with jsonlines.open('ai_medical_dataset_train.jsonl', mode='w') as writer:\n",
        "    for description, patient, doctor in zip(descriptions, patients, doctors):\n",
        "        writer.write({\n",
        "            'question': question,\n",
        "            'context': context\n",
        "        })"
      ],
      "metadata": {
        "id": "Kk0DAvNyM3cO"
      },
      "execution_count": null,
      "outputs": [],
      "id": "Kk0DAvNyM3cO"
    },
    {
      "cell_type": "code",
      "source": [
        "# Delete all potential cached dataset directories\n",
        "cache_dirs = set()\n",
        "\n",
        "# Adding dataset specific cache directories\n",
        "for split in dataset.keys():\n",
        "    for cache_file in dataset[split].cache_files:\n",
        "        cache_dirs.add(os.path.dirname(cache_file['filename']))\n",
        "\n",
        "# Add common dataset cache directories (if any)\n",
        "cache_dirs.add(os.path.expanduser(\"~/.cache/huggingface/datasets\"))\n",
        "cache_dirs.add(\"/root/.cache/huggingface/datasets\")\n",
        "\n",
        "# Also check common directories in colab environment\n",
        "cache_dirs.update(glob.glob('/root/.cache/huggingface/datasets/**/', recursive=True))\n",
        "\n",
        "for cache_dir in cache_dirs:\n",
        "    if os.path.exists(cache_dir):\n",
        "        shutil.rmtree(cache_dir)\n",
        "        print(f\"Removed cache directory: {cache_dir}\")"
      ],
      "metadata": {
        "colab": {
          "base_uri": "https://localhost:8080/"
        },
        "id": "nqiyRvreRa1J",
        "executionInfo": {
          "status": "ok",
          "timestamp": 1717508289489,
          "user_tz": -420,
          "elapsed": 9,
          "user": {
            "displayName": "",
            "userId": ""
          }
        },
        "outputId": "50840eb7-cbc2-4e12-9ab7-7c55dd4a009d"
      },
      "execution_count": null,
      "outputs": [
        {
          "output_type": "stream",
          "name": "stdout",
          "text": [
            "Removed cache directory: /root/.cache/huggingface/datasets/ruslanmv___ai-medical-dataset/default/\n",
            "Removed cache directory: /root/.cache/huggingface/datasets/\n"
          ]
        }
      ],
      "id": "nqiyRvreRa1J"
    },
    {
      "cell_type": "markdown",
      "source": [
        "Save JSONL format dataset to empty list for training"
      ],
      "metadata": {
        "id": "2qd4O7aRNKFp"
      },
      "id": "2qd4O7aRNKFp"
    },
    {
      "cell_type": "code",
      "source": [
        "# Buka file JSONL\n",
        "with jsonlines.open('ai_medical_dataset_train.jsonl', mode='r') as reader:\n",
        "    # Membaca setiap baris dari file\n",
        "    for features in reader:\n",
        "        # Format teks instruksi dan tanggapan\n",
        "        template = \"Instruction:\\n{Patient}\\n\\nResponse:\\n{Doctor}\"\n",
        "        data.append(template.format(**features))"
      ],
      "metadata": {
        "id": "wl7aEzlMNKFq",
        "colab": {
          "base_uri": "https://localhost:8080/",
          "height": 212
        },
        "executionInfo": {
          "status": "error",
          "timestamp": 1717508289495,
          "user_tz": -420,
          "elapsed": 10,
          "user": {
            "displayName": "",
            "userId": ""
          }
        },
        "outputId": "ce56862a-61f5-4e7f-9428-63e97aa0dc4b"
      },
      "execution_count": null,
      "outputs": [
        {
          "output_type": "error",
          "ename": "KeyError",
          "evalue": "'Patient'",
          "traceback": [
            "\u001b[0;31m---------------------------------------------------------------------------\u001b[0m",
            "\u001b[0;31mKeyError\u001b[0m                                  Traceback (most recent call last)",
            "\u001b[0;32m<ipython-input-28-5ea47e4bc338>\u001b[0m in \u001b[0;36m<cell line: 2>\u001b[0;34m()\u001b[0m\n\u001b[1;32m      5\u001b[0m         \u001b[0;31m# Format teks instruksi dan tanggapan\u001b[0m\u001b[0;34m\u001b[0m\u001b[0;34m\u001b[0m\u001b[0m\n\u001b[1;32m      6\u001b[0m         \u001b[0mtemplate\u001b[0m \u001b[0;34m=\u001b[0m \u001b[0;34m\"Instruction:\\n{Patient}\\n\\nResponse:\\n{Doctor}\"\u001b[0m\u001b[0;34m\u001b[0m\u001b[0;34m\u001b[0m\u001b[0m\n\u001b[0;32m----> 7\u001b[0;31m         \u001b[0mdata\u001b[0m\u001b[0;34m.\u001b[0m\u001b[0mappend\u001b[0m\u001b[0;34m(\u001b[0m\u001b[0mtemplate\u001b[0m\u001b[0;34m.\u001b[0m\u001b[0mformat\u001b[0m\u001b[0;34m(\u001b[0m\u001b[0;34m**\u001b[0m\u001b[0mfeatures\u001b[0m\u001b[0;34m)\u001b[0m\u001b[0;34m)\u001b[0m\u001b[0;34m\u001b[0m\u001b[0;34m\u001b[0m\u001b[0m\n\u001b[0m",
            "\u001b[0;31mKeyError\u001b[0m: 'Patient'"
          ]
        }
      ],
      "id": "wl7aEzlMNKFq"
    }
  ],
  "metadata": {
    "kernelspec": {
      "display_name": "Python 3",
      "language": "python",
      "name": "python3"
    },
    "language_info": {
      "codemirror_mode": {
        "name": "ipython",
        "version": 3
      },
      "file_extension": ".py",
      "mimetype": "text/x-python",
      "name": "python",
      "nbconvert_exporter": "python",
      "pygments_lexer": "ipython3",
      "version": "3.10.10"
    },
    "colab": {
      "provenance": [],
      "name": "Preprocess Data"
    }
  },
  "nbformat": 4,
  "nbformat_minor": 5
}